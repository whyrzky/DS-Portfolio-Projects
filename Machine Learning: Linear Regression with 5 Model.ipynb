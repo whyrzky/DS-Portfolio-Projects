{
  "nbformat": 4,
  "nbformat_minor": 0,
  "metadata": {
    "colab": {
      "provenance": [],
      "collapsed_sections": [],
      "toc_visible": true
    },
    "kernelspec": {
      "name": "python3",
      "display_name": "Python 3"
    },
    "language_info": {
      "name": "python"
    }
  },
  "cells": [
    {
      "cell_type": "markdown",
      "source": [
        "#Install and Load Package"
      ],
      "metadata": {
        "id": "2RlUAZSE9fX-"
      }
    },
    {
      "cell_type": "code",
      "execution_count": null,
      "metadata": {
        "colab": {
          "base_uri": "https://localhost:8080/"
        },
        "id": "A18-B1eC9GLs",
        "outputId": "a340ebf2-7856-439b-e78f-61bbec3aacee"
      },
      "outputs": [
        {
          "output_type": "stream",
          "name": "stdout",
          "text": [
            "Looking in indexes: https://pypi.org/simple, https://us-python.pkg.dev/colab-wheels/public/simple/\n",
            "Requirement already satisfied: skope-rules in /usr/local/lib/python3.7/dist-packages (1.0.1)\n",
            "Requirement already satisfied: scikit-learn>=0.17.1 in /usr/local/lib/python3.7/dist-packages (from skope-rules) (1.0.2)\n",
            "Requirement already satisfied: pandas>=0.18.1 in /usr/local/lib/python3.7/dist-packages (from skope-rules) (1.3.5)\n",
            "Requirement already satisfied: numpy>=1.10.4 in /usr/local/lib/python3.7/dist-packages (from skope-rules) (1.21.6)\n",
            "Requirement already satisfied: scipy>=0.17.0 in /usr/local/lib/python3.7/dist-packages (from skope-rules) (1.7.3)\n",
            "Requirement already satisfied: pytz>=2017.3 in /usr/local/lib/python3.7/dist-packages (from pandas>=0.18.1->skope-rules) (2022.1)\n",
            "Requirement already satisfied: python-dateutil>=2.7.3 in /usr/local/lib/python3.7/dist-packages (from pandas>=0.18.1->skope-rules) (2.8.2)\n",
            "Requirement already satisfied: six>=1.5 in /usr/local/lib/python3.7/dist-packages (from python-dateutil>=2.7.3->pandas>=0.18.1->skope-rules) (1.15.0)\n",
            "Requirement already satisfied: threadpoolctl>=2.0.0 in /usr/local/lib/python3.7/dist-packages (from scikit-learn>=0.17.1->skope-rules) (3.1.0)\n",
            "Requirement already satisfied: joblib>=0.11 in /usr/local/lib/python3.7/dist-packages (from scikit-learn>=0.17.1->skope-rules) (1.1.0)\n",
            "Looking in indexes: https://pypi.org/simple, https://us-python.pkg.dev/colab-wheels/public/simple/\n",
            "Requirement already satisfied: cubist in /usr/local/lib/python3.7/dist-packages (0.0.16)\n",
            "Requirement already satisfied: scikit-learn>=0.24.2 in /usr/local/lib/python3.7/dist-packages (from cubist) (1.0.2)\n",
            "Requirement already satisfied: numpy>=1.19.2 in /usr/local/lib/python3.7/dist-packages (from cubist) (1.21.6)\n",
            "Requirement already satisfied: pandas>=1.1.3 in /usr/local/lib/python3.7/dist-packages (from cubist) (1.3.5)\n",
            "Requirement already satisfied: python-dateutil>=2.7.3 in /usr/local/lib/python3.7/dist-packages (from pandas>=1.1.3->cubist) (2.8.2)\n",
            "Requirement already satisfied: pytz>=2017.3 in /usr/local/lib/python3.7/dist-packages (from pandas>=1.1.3->cubist) (2022.1)\n",
            "Requirement already satisfied: six>=1.5 in /usr/local/lib/python3.7/dist-packages (from python-dateutil>=2.7.3->pandas>=1.1.3->cubist) (1.15.0)\n",
            "Requirement already satisfied: scipy>=1.1.0 in /usr/local/lib/python3.7/dist-packages (from scikit-learn>=0.24.2->cubist) (1.7.3)\n",
            "Requirement already satisfied: threadpoolctl>=2.0.0 in /usr/local/lib/python3.7/dist-packages (from scikit-learn>=0.24.2->cubist) (3.1.0)\n",
            "Requirement already satisfied: joblib>=0.11 in /usr/local/lib/python3.7/dist-packages (from scikit-learn>=0.24.2->cubist) (1.1.0)\n",
            "Looking in indexes: https://pypi.org/simple, https://us-python.pkg.dev/colab-wheels/public/simple/\n",
            "Requirement already satisfied: eli5 in /usr/local/lib/python3.7/dist-packages (0.13.0)\n",
            "Requirement already satisfied: attrs>17.1.0 in /usr/local/lib/python3.7/dist-packages (from eli5) (22.1.0)\n",
            "Requirement already satisfied: six in /usr/local/lib/python3.7/dist-packages (from eli5) (1.15.0)\n",
            "Requirement already satisfied: scikit-learn>=0.20 in /usr/local/lib/python3.7/dist-packages (from eli5) (1.0.2)\n",
            "Requirement already satisfied: scipy in /usr/local/lib/python3.7/dist-packages (from eli5) (1.7.3)\n",
            "Requirement already satisfied: jinja2>=3.0.0 in /usr/local/lib/python3.7/dist-packages (from eli5) (3.1.2)\n",
            "Requirement already satisfied: numpy>=1.9.0 in /usr/local/lib/python3.7/dist-packages (from eli5) (1.21.6)\n",
            "Requirement already satisfied: tabulate>=0.7.7 in /usr/local/lib/python3.7/dist-packages (from eli5) (0.8.10)\n",
            "Requirement already satisfied: graphviz in /usr/local/lib/python3.7/dist-packages (from eli5) (0.10.1)\n",
            "Requirement already satisfied: MarkupSafe>=2.0 in /usr/local/lib/python3.7/dist-packages (from jinja2>=3.0.0->eli5) (2.0.1)\n",
            "Requirement already satisfied: threadpoolctl>=2.0.0 in /usr/local/lib/python3.7/dist-packages (from scikit-learn>=0.20->eli5) (3.1.0)\n",
            "Requirement already satisfied: joblib>=0.11 in /usr/local/lib/python3.7/dist-packages (from scikit-learn>=0.20->eli5) (1.1.0)\n",
            "Looking in indexes: https://pypi.org/simple, https://us-python.pkg.dev/colab-wheels/public/simple/\n",
            "Requirement already satisfied: scikit-plot in /usr/local/lib/python3.7/dist-packages (0.3.7)\n",
            "Requirement already satisfied: scipy>=0.9 in /usr/local/lib/python3.7/dist-packages (from scikit-plot) (1.7.3)\n",
            "Requirement already satisfied: scikit-learn>=0.18 in /usr/local/lib/python3.7/dist-packages (from scikit-plot) (1.0.2)\n",
            "Requirement already satisfied: joblib>=0.10 in /usr/local/lib/python3.7/dist-packages (from scikit-plot) (1.1.0)\n",
            "Requirement already satisfied: matplotlib>=1.4.0 in /usr/local/lib/python3.7/dist-packages (from scikit-plot) (3.2.2)\n",
            "Requirement already satisfied: numpy>=1.11 in /usr/local/lib/python3.7/dist-packages (from matplotlib>=1.4.0->scikit-plot) (1.21.6)\n",
            "Requirement already satisfied: kiwisolver>=1.0.1 in /usr/local/lib/python3.7/dist-packages (from matplotlib>=1.4.0->scikit-plot) (1.4.4)\n",
            "Requirement already satisfied: python-dateutil>=2.1 in /usr/local/lib/python3.7/dist-packages (from matplotlib>=1.4.0->scikit-plot) (2.8.2)\n",
            "Requirement already satisfied: cycler>=0.10 in /usr/local/lib/python3.7/dist-packages (from matplotlib>=1.4.0->scikit-plot) (0.11.0)\n",
            "Requirement already satisfied: pyparsing!=2.0.4,!=2.1.2,!=2.1.6,>=2.0.1 in /usr/local/lib/python3.7/dist-packages (from matplotlib>=1.4.0->scikit-plot) (3.0.9)\n",
            "Requirement already satisfied: typing-extensions in /usr/local/lib/python3.7/dist-packages (from kiwisolver>=1.0.1->matplotlib>=1.4.0->scikit-plot) (4.1.1)\n",
            "Requirement already satisfied: six>=1.5 in /usr/local/lib/python3.7/dist-packages (from python-dateutil>=2.1->matplotlib>=1.4.0->scikit-plot) (1.15.0)\n",
            "Requirement already satisfied: threadpoolctl>=2.0.0 in /usr/local/lib/python3.7/dist-packages (from scikit-learn>=0.18->scikit-plot) (3.1.0)\n",
            "Looking in indexes: https://pypi.org/simple, https://us-python.pkg.dev/colab-wheels/public/simple/\n",
            "Requirement already satisfied: dalex in /usr/local/lib/python3.7/dist-packages (1.4.1)\n",
            "Requirement already satisfied: pandas>=1.1.2 in /usr/local/lib/python3.7/dist-packages (from dalex) (1.3.5)\n",
            "Requirement already satisfied: tqdm>=4.48.2 in /usr/local/lib/python3.7/dist-packages (from dalex) (4.64.0)\n",
            "Requirement already satisfied: setuptools in /usr/local/lib/python3.7/dist-packages (from dalex) (57.4.0)\n",
            "Requirement already satisfied: numpy>=1.18.4 in /usr/local/lib/python3.7/dist-packages (from dalex) (1.21.6)\n",
            "Requirement already satisfied: plotly>=4.12.0 in /usr/local/lib/python3.7/dist-packages (from dalex) (5.5.0)\n",
            "Requirement already satisfied: scipy>=1.5.4 in /usr/local/lib/python3.7/dist-packages (from dalex) (1.7.3)\n",
            "Requirement already satisfied: pytz>=2017.3 in /usr/local/lib/python3.7/dist-packages (from pandas>=1.1.2->dalex) (2022.1)\n",
            "Requirement already satisfied: python-dateutil>=2.7.3 in /usr/local/lib/python3.7/dist-packages (from pandas>=1.1.2->dalex) (2.8.2)\n",
            "Requirement already satisfied: tenacity>=6.2.0 in /usr/local/lib/python3.7/dist-packages (from plotly>=4.12.0->dalex) (8.0.1)\n",
            "Requirement already satisfied: six in /usr/local/lib/python3.7/dist-packages (from plotly>=4.12.0->dalex) (1.15.0)\n",
            "Looking in indexes: https://pypi.org/simple, https://us-python.pkg.dev/colab-wheels/public/simple/\n",
            "Requirement already satisfied: scikit-plot in /usr/local/lib/python3.7/dist-packages (0.3.7)\n",
            "Requirement already satisfied: scipy>=0.9 in /usr/local/lib/python3.7/dist-packages (from scikit-plot) (1.7.3)\n",
            "Requirement already satisfied: matplotlib>=1.4.0 in /usr/local/lib/python3.7/dist-packages (from scikit-plot) (3.2.2)\n",
            "Requirement already satisfied: joblib>=0.10 in /usr/local/lib/python3.7/dist-packages (from scikit-plot) (1.1.0)\n",
            "Requirement already satisfied: scikit-learn>=0.18 in /usr/local/lib/python3.7/dist-packages (from scikit-plot) (1.0.2)\n",
            "Requirement already satisfied: kiwisolver>=1.0.1 in /usr/local/lib/python3.7/dist-packages (from matplotlib>=1.4.0->scikit-plot) (1.4.4)\n",
            "Requirement already satisfied: pyparsing!=2.0.4,!=2.1.2,!=2.1.6,>=2.0.1 in /usr/local/lib/python3.7/dist-packages (from matplotlib>=1.4.0->scikit-plot) (3.0.9)\n",
            "Requirement already satisfied: cycler>=0.10 in /usr/local/lib/python3.7/dist-packages (from matplotlib>=1.4.0->scikit-plot) (0.11.0)\n",
            "Requirement already satisfied: numpy>=1.11 in /usr/local/lib/python3.7/dist-packages (from matplotlib>=1.4.0->scikit-plot) (1.21.6)\n",
            "Requirement already satisfied: python-dateutil>=2.1 in /usr/local/lib/python3.7/dist-packages (from matplotlib>=1.4.0->scikit-plot) (2.8.2)\n",
            "Requirement already satisfied: typing-extensions in /usr/local/lib/python3.7/dist-packages (from kiwisolver>=1.0.1->matplotlib>=1.4.0->scikit-plot) (4.1.1)\n",
            "Requirement already satisfied: six>=1.5 in /usr/local/lib/python3.7/dist-packages (from python-dateutil>=2.1->matplotlib>=1.4.0->scikit-plot) (1.15.0)\n",
            "Requirement already satisfied: threadpoolctl>=2.0.0 in /usr/local/lib/python3.7/dist-packages (from scikit-learn>=0.18->scikit-plot) (3.1.0)\n"
          ]
        }
      ],
      "source": [
        "!pip install skope-rules\n",
        "!pip install cubist\n",
        "!pip install eli5\n",
        "!pip install scikit-plot\n",
        "!pip install dalex\n",
        "!pip install scikit-plot"
      ]
    },
    {
      "cell_type": "code",
      "source": [
        "import six\n",
        "import sys\n",
        "sys.modules['sklearn.externals.six'] = six"
      ],
      "metadata": {
        "id": "daReTG6--V4U"
      },
      "execution_count": null,
      "outputs": []
    },
    {
      "cell_type": "code",
      "source": [
        "# import pandas for data wrangling\n",
        "import pandas as pd\n",
        "# import numpy for vectorize data manipulation\n",
        "import numpy as np\n",
        "# import matplotlib.pyplot module for data visualization\n",
        "import matplotlib.pyplot as plt\n",
        "\n",
        "# import train and test split method from scikit-learn\n",
        "from sklearn.model_selection import train_test_split\n",
        "# import metrics method for model evaluation\n",
        "import sklearn.metrics as metrics\n",
        "# load linear regression model\n",
        "from sklearn.linear_model import LinearRegression\n",
        "# load logistic regression model\n",
        "from sklearn.linear_model import LogisticRegression\n",
        "# Lload k-nearest neighbors model\n",
        "from sklearn.neighbors import KNeighborsClassifier\n",
        "# load decision tree model\n",
        "from sklearn.tree import DecisionTreeRegressor\n",
        "from sklearn.tree import DecisionTreeClassifier\n",
        "# load random forest model\n",
        "from sklearn.ensemble import RandomForestClassifier\n",
        "# load SVC\n",
        "from sklearn.svm import SVC\n",
        "\n",
        "# load statsmodel module \n",
        "import statsmodels.api as sm\n",
        "import statsmodels.formula.api as smf\n",
        "\n",
        "# load rulefit model\n",
        "from skrules import SkopeRules\n",
        "\n",
        "# load scikit-plot modules\n",
        "import scikitplot as skplt\n",
        "\n",
        "# load eli5\n",
        "import eli5\n",
        "\n",
        "import seaborn as sns\n",
        "from sklearn.metrics import classification_report\n",
        "from xgboost import XGBClassifier"
      ],
      "metadata": {
        "id": "WSbciioN97RW"
      },
      "execution_count": null,
      "outputs": []
    },
    {
      "cell_type": "markdown",
      "source": [
        "#Load Dataset"
      ],
      "metadata": {
        "id": "J_Judk8G_yuH"
      }
    },
    {
      "cell_type": "code",
      "source": [
        "from google.colab import drive\n",
        "drive.mount('/content/gdrive')\n",
        "\n",
        "df_data = pd.read_csv('/content/gdrive/MyDrive/DS - WallStreet DevOps/FINAL PROJECT/data.csv',sep =';')"
      ],
      "metadata": {
        "colab": {
          "base_uri": "https://localhost:8080/"
        },
        "id": "LtjLn1od-Yj7",
        "outputId": "f2af8e30-b4ec-4f74-e056-e6570ffe8d62"
      },
      "execution_count": null,
      "outputs": [
        {
          "output_type": "stream",
          "name": "stdout",
          "text": [
            "Drive already mounted at /content/gdrive; to attempt to forcibly remount, call drive.mount(\"/content/gdrive\", force_remount=True).\n"
          ]
        }
      ]
    },
    {
      "cell_type": "code",
      "source": [
        "df_data"
      ],
      "metadata": {
        "colab": {
          "base_uri": "https://localhost:8080/",
          "height": 485
        },
        "id": "R9SfOrJCTTUo",
        "outputId": "7cb0bf5c-f5c2-4f83-e9d4-ca49d81ea0e0"
      },
      "execution_count": null,
      "outputs": [
        {
          "output_type": "execute_result",
          "data": {
            "text/plain": [
              "      Id   Ekspor  Cadangan Devisa     IHSG  Selisih Pinjaman dan Simpanan  \\\n",
              "0      0   1845.2          6068.20   504.27                           1.24   \n",
              "1      1   2055.0          6259.10   612.20                           1.24   \n",
              "2      4   1750.0          5767.50   624.33                           1.22   \n",
              "3      5   1812.0          6392.70   614.41                           1.19   \n",
              "4      6   2124.0          6615.60   556.34                           1.18   \n",
              "..   ...      ...              ...      ...                            ...   \n",
              "265  347  13927.9        120075.16  6532.97                           1.52   \n",
              "266  348  12555.9        123273.87  6443.35                           1.53   \n",
              "267  349  14121.9        124539.31  6468.76                           1.53   \n",
              "268  350  13112.7        124293.82  6455.35                           1.54   \n",
              "269  351  14825.2        120347.15  6209.12                           1.54   \n",
              "\n",
              "     Suku Bunga Simpanan Riil  Selisih BI Rate Riil dan FED Rate Riil  \\\n",
              "0                       15.56                                    4.36   \n",
              "1                       16.63                                    5.83   \n",
              "2                       14.77                                    7.92   \n",
              "3                       14.29                                    7.91   \n",
              "4                       16.66                                    9.74   \n",
              "..                        ...                                     ...   \n",
              "265                      6.58                                    3.49   \n",
              "266                      6.99                                    4.13   \n",
              "267                      6.74                                    4.08   \n",
              "268                      6.39                                    3.72   \n",
              "269                      6.11                                    3.16   \n",
              "\n",
              "     Simpanan bank   Nilai Tukar Riil  Nilai Tukar Perdagangan      M1  \\\n",
              "0         14.567329            376.63                   1.2366   10.66   \n",
              "1         16.707625            375.39                   1.2129   12.15   \n",
              "2         16.067787            388.69                   1.0374   12.58   \n",
              "3         16.274743            396.82                   1.0315   12.23   \n",
              "4         16.913348            397.52                   1.0400   12.08   \n",
              "..              ...               ...                      ...     ...   \n",
              "265      328.414357          18191.69                   0.9291   97.89   \n",
              "266      330.319123          18087.59                   1.0270   98.64   \n",
              "267      328.479665          18239.04                   1.0499  100.14   \n",
              "268      330.069829          18186.00                   0.8515  102.12   \n",
              "269      330.612337          18489.54                   1.0150  104.84   \n",
              "\n",
              "     M2/Cadangan Devisa   M2M  Krisis  \n",
              "0                0.0055  6.46       1  \n",
              "1                0.0056  6.16       1  \n",
              "2                0.0066  6.77       0  \n",
              "3                0.0060  7.04       0  \n",
              "4                0.0060  6.76       0  \n",
              "..                  ...   ...     ...  \n",
              "265              0.0033  5.61       0  \n",
              "266              0.0033  5.77       0  \n",
              "267              0.0032  5.78       0  \n",
              "268              0.0033  5.66       0  \n",
              "269              0.0034  5.11       0  \n",
              "\n",
              "[270 rows x 14 columns]"
            ],
            "text/html": [
              "\n",
              "  <div id=\"df-6b64636a-4b1d-4ef8-8998-fd6fb8f5734e\">\n",
              "    <div class=\"colab-df-container\">\n",
              "      <div>\n",
              "<style scoped>\n",
              "    .dataframe tbody tr th:only-of-type {\n",
              "        vertical-align: middle;\n",
              "    }\n",
              "\n",
              "    .dataframe tbody tr th {\n",
              "        vertical-align: top;\n",
              "    }\n",
              "\n",
              "    .dataframe thead th {\n",
              "        text-align: right;\n",
              "    }\n",
              "</style>\n",
              "<table border=\"1\" class=\"dataframe\">\n",
              "  <thead>\n",
              "    <tr style=\"text-align: right;\">\n",
              "      <th></th>\n",
              "      <th>Id</th>\n",
              "      <th>Ekspor</th>\n",
              "      <th>Cadangan Devisa</th>\n",
              "      <th>IHSG</th>\n",
              "      <th>Selisih Pinjaman dan Simpanan</th>\n",
              "      <th>Suku Bunga Simpanan Riil</th>\n",
              "      <th>Selisih BI Rate Riil dan FED Rate Riil</th>\n",
              "      <th>Simpanan bank</th>\n",
              "      <th>Nilai Tukar Riil</th>\n",
              "      <th>Nilai Tukar Perdagangan</th>\n",
              "      <th>M1</th>\n",
              "      <th>M2/Cadangan Devisa</th>\n",
              "      <th>M2M</th>\n",
              "      <th>Krisis</th>\n",
              "    </tr>\n",
              "  </thead>\n",
              "  <tbody>\n",
              "    <tr>\n",
              "      <th>0</th>\n",
              "      <td>0</td>\n",
              "      <td>1845.2</td>\n",
              "      <td>6068.20</td>\n",
              "      <td>504.27</td>\n",
              "      <td>1.24</td>\n",
              "      <td>15.56</td>\n",
              "      <td>4.36</td>\n",
              "      <td>14.567329</td>\n",
              "      <td>376.63</td>\n",
              "      <td>1.2366</td>\n",
              "      <td>10.66</td>\n",
              "      <td>0.0055</td>\n",
              "      <td>6.46</td>\n",
              "      <td>1</td>\n",
              "    </tr>\n",
              "    <tr>\n",
              "      <th>1</th>\n",
              "      <td>1</td>\n",
              "      <td>2055.0</td>\n",
              "      <td>6259.10</td>\n",
              "      <td>612.20</td>\n",
              "      <td>1.24</td>\n",
              "      <td>16.63</td>\n",
              "      <td>5.83</td>\n",
              "      <td>16.707625</td>\n",
              "      <td>375.39</td>\n",
              "      <td>1.2129</td>\n",
              "      <td>12.15</td>\n",
              "      <td>0.0056</td>\n",
              "      <td>6.16</td>\n",
              "      <td>1</td>\n",
              "    </tr>\n",
              "    <tr>\n",
              "      <th>2</th>\n",
              "      <td>4</td>\n",
              "      <td>1750.0</td>\n",
              "      <td>5767.50</td>\n",
              "      <td>624.33</td>\n",
              "      <td>1.22</td>\n",
              "      <td>14.77</td>\n",
              "      <td>7.92</td>\n",
              "      <td>16.067787</td>\n",
              "      <td>388.69</td>\n",
              "      <td>1.0374</td>\n",
              "      <td>12.58</td>\n",
              "      <td>0.0066</td>\n",
              "      <td>6.77</td>\n",
              "      <td>0</td>\n",
              "    </tr>\n",
              "    <tr>\n",
              "      <th>3</th>\n",
              "      <td>5</td>\n",
              "      <td>1812.0</td>\n",
              "      <td>6392.70</td>\n",
              "      <td>614.41</td>\n",
              "      <td>1.19</td>\n",
              "      <td>14.29</td>\n",
              "      <td>7.91</td>\n",
              "      <td>16.274743</td>\n",
              "      <td>396.82</td>\n",
              "      <td>1.0315</td>\n",
              "      <td>12.23</td>\n",
              "      <td>0.0060</td>\n",
              "      <td>7.04</td>\n",
              "      <td>0</td>\n",
              "    </tr>\n",
              "    <tr>\n",
              "      <th>4</th>\n",
              "      <td>6</td>\n",
              "      <td>2124.0</td>\n",
              "      <td>6615.60</td>\n",
              "      <td>556.34</td>\n",
              "      <td>1.18</td>\n",
              "      <td>16.66</td>\n",
              "      <td>9.74</td>\n",
              "      <td>16.913348</td>\n",
              "      <td>397.52</td>\n",
              "      <td>1.0400</td>\n",
              "      <td>12.08</td>\n",
              "      <td>0.0060</td>\n",
              "      <td>6.76</td>\n",
              "      <td>0</td>\n",
              "    </tr>\n",
              "    <tr>\n",
              "      <th>...</th>\n",
              "      <td>...</td>\n",
              "      <td>...</td>\n",
              "      <td>...</td>\n",
              "      <td>...</td>\n",
              "      <td>...</td>\n",
              "      <td>...</td>\n",
              "      <td>...</td>\n",
              "      <td>...</td>\n",
              "      <td>...</td>\n",
              "      <td>...</td>\n",
              "      <td>...</td>\n",
              "      <td>...</td>\n",
              "      <td>...</td>\n",
              "      <td>...</td>\n",
              "    </tr>\n",
              "    <tr>\n",
              "      <th>265</th>\n",
              "      <td>347</td>\n",
              "      <td>13927.9</td>\n",
              "      <td>120075.16</td>\n",
              "      <td>6532.97</td>\n",
              "      <td>1.52</td>\n",
              "      <td>6.58</td>\n",
              "      <td>3.49</td>\n",
              "      <td>328.414357</td>\n",
              "      <td>18191.69</td>\n",
              "      <td>0.9291</td>\n",
              "      <td>97.89</td>\n",
              "      <td>0.0033</td>\n",
              "      <td>5.61</td>\n",
              "      <td>0</td>\n",
              "    </tr>\n",
              "    <tr>\n",
              "      <th>266</th>\n",
              "      <td>348</td>\n",
              "      <td>12555.9</td>\n",
              "      <td>123273.87</td>\n",
              "      <td>6443.35</td>\n",
              "      <td>1.53</td>\n",
              "      <td>6.99</td>\n",
              "      <td>4.13</td>\n",
              "      <td>330.319123</td>\n",
              "      <td>18087.59</td>\n",
              "      <td>1.0270</td>\n",
              "      <td>98.64</td>\n",
              "      <td>0.0033</td>\n",
              "      <td>5.77</td>\n",
              "      <td>0</td>\n",
              "    </tr>\n",
              "    <tr>\n",
              "      <th>267</th>\n",
              "      <td>349</td>\n",
              "      <td>14121.9</td>\n",
              "      <td>124539.31</td>\n",
              "      <td>6468.76</td>\n",
              "      <td>1.53</td>\n",
              "      <td>6.74</td>\n",
              "      <td>4.08</td>\n",
              "      <td>328.479665</td>\n",
              "      <td>18239.04</td>\n",
              "      <td>1.0499</td>\n",
              "      <td>100.14</td>\n",
              "      <td>0.0032</td>\n",
              "      <td>5.78</td>\n",
              "      <td>0</td>\n",
              "    </tr>\n",
              "    <tr>\n",
              "      <th>268</th>\n",
              "      <td>350</td>\n",
              "      <td>13112.7</td>\n",
              "      <td>124293.82</td>\n",
              "      <td>6455.35</td>\n",
              "      <td>1.54</td>\n",
              "      <td>6.39</td>\n",
              "      <td>3.72</td>\n",
              "      <td>330.069829</td>\n",
              "      <td>18186.00</td>\n",
              "      <td>0.8515</td>\n",
              "      <td>102.12</td>\n",
              "      <td>0.0033</td>\n",
              "      <td>5.66</td>\n",
              "      <td>0</td>\n",
              "    </tr>\n",
              "    <tr>\n",
              "      <th>269</th>\n",
              "      <td>351</td>\n",
              "      <td>14825.2</td>\n",
              "      <td>120347.15</td>\n",
              "      <td>6209.12</td>\n",
              "      <td>1.54</td>\n",
              "      <td>6.11</td>\n",
              "      <td>3.16</td>\n",
              "      <td>330.612337</td>\n",
              "      <td>18489.54</td>\n",
              "      <td>1.0150</td>\n",
              "      <td>104.84</td>\n",
              "      <td>0.0034</td>\n",
              "      <td>5.11</td>\n",
              "      <td>0</td>\n",
              "    </tr>\n",
              "  </tbody>\n",
              "</table>\n",
              "<p>270 rows × 14 columns</p>\n",
              "</div>\n",
              "      <button class=\"colab-df-convert\" onclick=\"convertToInteractive('df-6b64636a-4b1d-4ef8-8998-fd6fb8f5734e')\"\n",
              "              title=\"Convert this dataframe to an interactive table.\"\n",
              "              style=\"display:none;\">\n",
              "        \n",
              "  <svg xmlns=\"http://www.w3.org/2000/svg\" height=\"24px\"viewBox=\"0 0 24 24\"\n",
              "       width=\"24px\">\n",
              "    <path d=\"M0 0h24v24H0V0z\" fill=\"none\"/>\n",
              "    <path d=\"M18.56 5.44l.94 2.06.94-2.06 2.06-.94-2.06-.94-.94-2.06-.94 2.06-2.06.94zm-11 1L8.5 8.5l.94-2.06 2.06-.94-2.06-.94L8.5 2.5l-.94 2.06-2.06.94zm10 10l.94 2.06.94-2.06 2.06-.94-2.06-.94-.94-2.06-.94 2.06-2.06.94z\"/><path d=\"M17.41 7.96l-1.37-1.37c-.4-.4-.92-.59-1.43-.59-.52 0-1.04.2-1.43.59L10.3 9.45l-7.72 7.72c-.78.78-.78 2.05 0 2.83L4 21.41c.39.39.9.59 1.41.59.51 0 1.02-.2 1.41-.59l7.78-7.78 2.81-2.81c.8-.78.8-2.07 0-2.86zM5.41 20L4 18.59l7.72-7.72 1.47 1.35L5.41 20z\"/>\n",
              "  </svg>\n",
              "      </button>\n",
              "      \n",
              "  <style>\n",
              "    .colab-df-container {\n",
              "      display:flex;\n",
              "      flex-wrap:wrap;\n",
              "      gap: 12px;\n",
              "    }\n",
              "\n",
              "    .colab-df-convert {\n",
              "      background-color: #E8F0FE;\n",
              "      border: none;\n",
              "      border-radius: 50%;\n",
              "      cursor: pointer;\n",
              "      display: none;\n",
              "      fill: #1967D2;\n",
              "      height: 32px;\n",
              "      padding: 0 0 0 0;\n",
              "      width: 32px;\n",
              "    }\n",
              "\n",
              "    .colab-df-convert:hover {\n",
              "      background-color: #E2EBFA;\n",
              "      box-shadow: 0px 1px 2px rgba(60, 64, 67, 0.3), 0px 1px 3px 1px rgba(60, 64, 67, 0.15);\n",
              "      fill: #174EA6;\n",
              "    }\n",
              "\n",
              "    [theme=dark] .colab-df-convert {\n",
              "      background-color: #3B4455;\n",
              "      fill: #D2E3FC;\n",
              "    }\n",
              "\n",
              "    [theme=dark] .colab-df-convert:hover {\n",
              "      background-color: #434B5C;\n",
              "      box-shadow: 0px 1px 3px 1px rgba(0, 0, 0, 0.15);\n",
              "      filter: drop-shadow(0px 1px 2px rgba(0, 0, 0, 0.3));\n",
              "      fill: #FFFFFF;\n",
              "    }\n",
              "  </style>\n",
              "\n",
              "      <script>\n",
              "        const buttonEl =\n",
              "          document.querySelector('#df-6b64636a-4b1d-4ef8-8998-fd6fb8f5734e button.colab-df-convert');\n",
              "        buttonEl.style.display =\n",
              "          google.colab.kernel.accessAllowed ? 'block' : 'none';\n",
              "\n",
              "        async function convertToInteractive(key) {\n",
              "          const element = document.querySelector('#df-6b64636a-4b1d-4ef8-8998-fd6fb8f5734e');\n",
              "          const dataTable =\n",
              "            await google.colab.kernel.invokeFunction('convertToInteractive',\n",
              "                                                     [key], {});\n",
              "          if (!dataTable) return;\n",
              "\n",
              "          const docLinkHtml = 'Like what you see? Visit the ' +\n",
              "            '<a target=\"_blank\" href=https://colab.research.google.com/notebooks/data_table.ipynb>data table notebook</a>'\n",
              "            + ' to learn more about interactive tables.';\n",
              "          element.innerHTML = '';\n",
              "          dataTable['output_type'] = 'display_data';\n",
              "          await google.colab.output.renderOutput(dataTable, element);\n",
              "          const docLink = document.createElement('div');\n",
              "          docLink.innerHTML = docLinkHtml;\n",
              "          element.appendChild(docLink);\n",
              "        }\n",
              "      </script>\n",
              "    </div>\n",
              "  </div>\n",
              "  "
            ]
          },
          "metadata": {},
          "execution_count": 111
        }
      ]
    },
    {
      "cell_type": "code",
      "source": [
        "df_data.info()"
      ],
      "metadata": {
        "colab": {
          "base_uri": "https://localhost:8080/"
        },
        "id": "6IPEpOrW_1UQ",
        "outputId": "bc88bdaf-8d36-491d-921c-d51efc485c5a"
      },
      "execution_count": null,
      "outputs": [
        {
          "output_type": "stream",
          "name": "stdout",
          "text": [
            "<class 'pandas.core.frame.DataFrame'>\n",
            "RangeIndex: 270 entries, 0 to 269\n",
            "Data columns (total 14 columns):\n",
            " #   Column                                  Non-Null Count  Dtype  \n",
            "---  ------                                  --------------  -----  \n",
            " 0   Id                                      270 non-null    int64  \n",
            " 1   Ekspor                                  270 non-null    float64\n",
            " 2   Cadangan Devisa                         270 non-null    float64\n",
            " 3   IHSG                                    270 non-null    float64\n",
            " 4   Selisih Pinjaman dan Simpanan           270 non-null    float64\n",
            " 5   Suku Bunga Simpanan Riil                270 non-null    float64\n",
            " 6   Selisih BI Rate Riil dan FED Rate Riil  270 non-null    float64\n",
            " 7   Simpanan bank                           270 non-null    float64\n",
            " 8   Nilai Tukar Riil                        270 non-null    float64\n",
            " 9   Nilai Tukar Perdagangan                 270 non-null    float64\n",
            " 10  M1                                      270 non-null    float64\n",
            " 11  M2/Cadangan Devisa                      270 non-null    float64\n",
            " 12  M2M                                     270 non-null    float64\n",
            " 13  Krisis                                  270 non-null    int64  \n",
            "dtypes: float64(12), int64(2)\n",
            "memory usage: 29.7 KB\n"
          ]
        }
      ]
    },
    {
      "cell_type": "markdown",
      "source": [
        "There are no null from those dataset and the dataset has correct type of data"
      ],
      "metadata": {
        "id": "F0KEi2UjA7kk"
      }
    },
    {
      "cell_type": "markdown",
      "source": [
        "# Data Cleansing & Preprocessing"
      ],
      "metadata": {
        "id": "XdhfJtD6AM0z"
      }
    },
    {
      "cell_type": "code",
      "source": [
        "#Drop ID from those dataset\n",
        "df_data = df_data.drop('Id', axis=1)"
      ],
      "metadata": {
        "id": "lrLTjZzrAPGo"
      },
      "execution_count": null,
      "outputs": []
    },
    {
      "cell_type": "code",
      "source": [
        "#Check null\n",
        "df_data.isna().sum()"
      ],
      "metadata": {
        "colab": {
          "base_uri": "https://localhost:8080/"
        },
        "id": "_0NDNk6ihDo5",
        "outputId": "25bf38d4-779a-49e3-f3b8-1a37f81c6e15"
      },
      "execution_count": null,
      "outputs": [
        {
          "output_type": "execute_result",
          "data": {
            "text/plain": [
              "Ekspor                                    0\n",
              "Cadangan Devisa                           0\n",
              "IHSG                                      0\n",
              "Selisih Pinjaman dan Simpanan             0\n",
              "Suku Bunga Simpanan Riil                  0\n",
              "Selisih BI Rate Riil dan FED Rate Riil    0\n",
              "Simpanan bank                             0\n",
              "Nilai Tukar Riil                          0\n",
              "Nilai Tukar Perdagangan                   0\n",
              "M1                                        0\n",
              "M2/Cadangan Devisa                        0\n",
              "M2M                                       0\n",
              "Krisis                                    0\n",
              "dtype: int64"
            ]
          },
          "metadata": {},
          "execution_count": 114
        }
      ]
    },
    {
      "cell_type": "code",
      "source": [
        "#Check describe for df_data\n",
        "df_data.describe()"
      ],
      "metadata": {
        "colab": {
          "base_uri": "https://localhost:8080/",
          "height": 379
        },
        "id": "ZWjfFJC2CCMY",
        "outputId": "c9bdf050-69f2-47f9-9f40-296c191c922d"
      },
      "execution_count": null,
      "outputs": [
        {
          "output_type": "execute_result",
          "data": {
            "text/plain": [
              "             Ekspor  Cadangan Devisa         IHSG  \\\n",
              "count    270.000000       270.000000   270.000000   \n",
              "mean    8247.868963     53516.383556  2071.609444   \n",
              "std     4853.028611     41132.468503  2014.293535   \n",
              "min     1750.000000      5767.500000   226.680000   \n",
              "25%     4082.750000     19042.000000   462.717500   \n",
              "50%     6261.415000     34816.185000   759.030000   \n",
              "75%    12936.765000    102477.375000  3916.700000   \n",
              "max    18530.800000    130196.380000  6597.220000   \n",
              "\n",
              "       Selisih Pinjaman dan Simpanan  Suku Bunga Simpanan Riil  \\\n",
              "count                     270.000000                270.000000   \n",
              "mean                        1.500222                 12.016000   \n",
              "std                         0.333443                  7.509484   \n",
              "min                         0.660000                  0.680000   \n",
              "25%                         1.220000                  6.622500   \n",
              "50%                         1.505000                 10.395000   \n",
              "75%                         1.760000                 15.330000   \n",
              "max                         2.410000                 52.980000   \n",
              "\n",
              "       Selisih BI Rate Riil dan FED Rate Riil  Simpanan bank   \\\n",
              "count                              270.000000      270.000000   \n",
              "mean                                 8.328000      134.058398   \n",
              "std                                  7.233576      100.175825   \n",
              "min                                  1.250000       14.567329   \n",
              "25%                                  5.107500       58.468779   \n",
              "50%                                  6.515000       83.851499   \n",
              "75%                                  8.822500      245.694303   \n",
              "max                                 59.880000      330.612337   \n",
              "\n",
              "       Nilai Tukar Riil  Nilai Tukar Perdagangan          M1  \\\n",
              "count        270.000000               270.000000  270.000000   \n",
              "mean        7232.566259                 1.225759   41.406296   \n",
              "std         5550.579030                 0.214566   29.628941   \n",
              "min          375.390000                 0.851500    7.350000   \n",
              "25%          742.267500                 1.063950   16.475000   \n",
              "50%         6753.570000                 1.166350   26.455000   \n",
              "75%        10000.275000                 1.373825   73.185000   \n",
              "max        19358.390000                 1.857700  104.840000   \n",
              "\n",
              "       M2/Cadangan Devisa         M2M      Krisis  \n",
              "count          270.000000  270.000000  270.000000  \n",
              "mean             0.003716    6.763333    0.111111  \n",
              "std              0.001151    5.115211    0.314853  \n",
              "min              0.002000    4.190000    0.000000  \n",
              "25%              0.003000    5.020000    0.000000  \n",
              "50%              0.003200    6.180000    0.000000  \n",
              "75%              0.004600    7.900000    0.000000  \n",
              "max              0.006600   86.970000    1.000000  "
            ],
            "text/html": [
              "\n",
              "  <div id=\"df-f539aeed-8252-4063-9d52-d36efd3c890d\">\n",
              "    <div class=\"colab-df-container\">\n",
              "      <div>\n",
              "<style scoped>\n",
              "    .dataframe tbody tr th:only-of-type {\n",
              "        vertical-align: middle;\n",
              "    }\n",
              "\n",
              "    .dataframe tbody tr th {\n",
              "        vertical-align: top;\n",
              "    }\n",
              "\n",
              "    .dataframe thead th {\n",
              "        text-align: right;\n",
              "    }\n",
              "</style>\n",
              "<table border=\"1\" class=\"dataframe\">\n",
              "  <thead>\n",
              "    <tr style=\"text-align: right;\">\n",
              "      <th></th>\n",
              "      <th>Ekspor</th>\n",
              "      <th>Cadangan Devisa</th>\n",
              "      <th>IHSG</th>\n",
              "      <th>Selisih Pinjaman dan Simpanan</th>\n",
              "      <th>Suku Bunga Simpanan Riil</th>\n",
              "      <th>Selisih BI Rate Riil dan FED Rate Riil</th>\n",
              "      <th>Simpanan bank</th>\n",
              "      <th>Nilai Tukar Riil</th>\n",
              "      <th>Nilai Tukar Perdagangan</th>\n",
              "      <th>M1</th>\n",
              "      <th>M2/Cadangan Devisa</th>\n",
              "      <th>M2M</th>\n",
              "      <th>Krisis</th>\n",
              "    </tr>\n",
              "  </thead>\n",
              "  <tbody>\n",
              "    <tr>\n",
              "      <th>count</th>\n",
              "      <td>270.000000</td>\n",
              "      <td>270.000000</td>\n",
              "      <td>270.000000</td>\n",
              "      <td>270.000000</td>\n",
              "      <td>270.000000</td>\n",
              "      <td>270.000000</td>\n",
              "      <td>270.000000</td>\n",
              "      <td>270.000000</td>\n",
              "      <td>270.000000</td>\n",
              "      <td>270.000000</td>\n",
              "      <td>270.000000</td>\n",
              "      <td>270.000000</td>\n",
              "      <td>270.000000</td>\n",
              "    </tr>\n",
              "    <tr>\n",
              "      <th>mean</th>\n",
              "      <td>8247.868963</td>\n",
              "      <td>53516.383556</td>\n",
              "      <td>2071.609444</td>\n",
              "      <td>1.500222</td>\n",
              "      <td>12.016000</td>\n",
              "      <td>8.328000</td>\n",
              "      <td>134.058398</td>\n",
              "      <td>7232.566259</td>\n",
              "      <td>1.225759</td>\n",
              "      <td>41.406296</td>\n",
              "      <td>0.003716</td>\n",
              "      <td>6.763333</td>\n",
              "      <td>0.111111</td>\n",
              "    </tr>\n",
              "    <tr>\n",
              "      <th>std</th>\n",
              "      <td>4853.028611</td>\n",
              "      <td>41132.468503</td>\n",
              "      <td>2014.293535</td>\n",
              "      <td>0.333443</td>\n",
              "      <td>7.509484</td>\n",
              "      <td>7.233576</td>\n",
              "      <td>100.175825</td>\n",
              "      <td>5550.579030</td>\n",
              "      <td>0.214566</td>\n",
              "      <td>29.628941</td>\n",
              "      <td>0.001151</td>\n",
              "      <td>5.115211</td>\n",
              "      <td>0.314853</td>\n",
              "    </tr>\n",
              "    <tr>\n",
              "      <th>min</th>\n",
              "      <td>1750.000000</td>\n",
              "      <td>5767.500000</td>\n",
              "      <td>226.680000</td>\n",
              "      <td>0.660000</td>\n",
              "      <td>0.680000</td>\n",
              "      <td>1.250000</td>\n",
              "      <td>14.567329</td>\n",
              "      <td>375.390000</td>\n",
              "      <td>0.851500</td>\n",
              "      <td>7.350000</td>\n",
              "      <td>0.002000</td>\n",
              "      <td>4.190000</td>\n",
              "      <td>0.000000</td>\n",
              "    </tr>\n",
              "    <tr>\n",
              "      <th>25%</th>\n",
              "      <td>4082.750000</td>\n",
              "      <td>19042.000000</td>\n",
              "      <td>462.717500</td>\n",
              "      <td>1.220000</td>\n",
              "      <td>6.622500</td>\n",
              "      <td>5.107500</td>\n",
              "      <td>58.468779</td>\n",
              "      <td>742.267500</td>\n",
              "      <td>1.063950</td>\n",
              "      <td>16.475000</td>\n",
              "      <td>0.003000</td>\n",
              "      <td>5.020000</td>\n",
              "      <td>0.000000</td>\n",
              "    </tr>\n",
              "    <tr>\n",
              "      <th>50%</th>\n",
              "      <td>6261.415000</td>\n",
              "      <td>34816.185000</td>\n",
              "      <td>759.030000</td>\n",
              "      <td>1.505000</td>\n",
              "      <td>10.395000</td>\n",
              "      <td>6.515000</td>\n",
              "      <td>83.851499</td>\n",
              "      <td>6753.570000</td>\n",
              "      <td>1.166350</td>\n",
              "      <td>26.455000</td>\n",
              "      <td>0.003200</td>\n",
              "      <td>6.180000</td>\n",
              "      <td>0.000000</td>\n",
              "    </tr>\n",
              "    <tr>\n",
              "      <th>75%</th>\n",
              "      <td>12936.765000</td>\n",
              "      <td>102477.375000</td>\n",
              "      <td>3916.700000</td>\n",
              "      <td>1.760000</td>\n",
              "      <td>15.330000</td>\n",
              "      <td>8.822500</td>\n",
              "      <td>245.694303</td>\n",
              "      <td>10000.275000</td>\n",
              "      <td>1.373825</td>\n",
              "      <td>73.185000</td>\n",
              "      <td>0.004600</td>\n",
              "      <td>7.900000</td>\n",
              "      <td>0.000000</td>\n",
              "    </tr>\n",
              "    <tr>\n",
              "      <th>max</th>\n",
              "      <td>18530.800000</td>\n",
              "      <td>130196.380000</td>\n",
              "      <td>6597.220000</td>\n",
              "      <td>2.410000</td>\n",
              "      <td>52.980000</td>\n",
              "      <td>59.880000</td>\n",
              "      <td>330.612337</td>\n",
              "      <td>19358.390000</td>\n",
              "      <td>1.857700</td>\n",
              "      <td>104.840000</td>\n",
              "      <td>0.006600</td>\n",
              "      <td>86.970000</td>\n",
              "      <td>1.000000</td>\n",
              "    </tr>\n",
              "  </tbody>\n",
              "</table>\n",
              "</div>\n",
              "      <button class=\"colab-df-convert\" onclick=\"convertToInteractive('df-f539aeed-8252-4063-9d52-d36efd3c890d')\"\n",
              "              title=\"Convert this dataframe to an interactive table.\"\n",
              "              style=\"display:none;\">\n",
              "        \n",
              "  <svg xmlns=\"http://www.w3.org/2000/svg\" height=\"24px\"viewBox=\"0 0 24 24\"\n",
              "       width=\"24px\">\n",
              "    <path d=\"M0 0h24v24H0V0z\" fill=\"none\"/>\n",
              "    <path d=\"M18.56 5.44l.94 2.06.94-2.06 2.06-.94-2.06-.94-.94-2.06-.94 2.06-2.06.94zm-11 1L8.5 8.5l.94-2.06 2.06-.94-2.06-.94L8.5 2.5l-.94 2.06-2.06.94zm10 10l.94 2.06.94-2.06 2.06-.94-2.06-.94-.94-2.06-.94 2.06-2.06.94z\"/><path d=\"M17.41 7.96l-1.37-1.37c-.4-.4-.92-.59-1.43-.59-.52 0-1.04.2-1.43.59L10.3 9.45l-7.72 7.72c-.78.78-.78 2.05 0 2.83L4 21.41c.39.39.9.59 1.41.59.51 0 1.02-.2 1.41-.59l7.78-7.78 2.81-2.81c.8-.78.8-2.07 0-2.86zM5.41 20L4 18.59l7.72-7.72 1.47 1.35L5.41 20z\"/>\n",
              "  </svg>\n",
              "      </button>\n",
              "      \n",
              "  <style>\n",
              "    .colab-df-container {\n",
              "      display:flex;\n",
              "      flex-wrap:wrap;\n",
              "      gap: 12px;\n",
              "    }\n",
              "\n",
              "    .colab-df-convert {\n",
              "      background-color: #E8F0FE;\n",
              "      border: none;\n",
              "      border-radius: 50%;\n",
              "      cursor: pointer;\n",
              "      display: none;\n",
              "      fill: #1967D2;\n",
              "      height: 32px;\n",
              "      padding: 0 0 0 0;\n",
              "      width: 32px;\n",
              "    }\n",
              "\n",
              "    .colab-df-convert:hover {\n",
              "      background-color: #E2EBFA;\n",
              "      box-shadow: 0px 1px 2px rgba(60, 64, 67, 0.3), 0px 1px 3px 1px rgba(60, 64, 67, 0.15);\n",
              "      fill: #174EA6;\n",
              "    }\n",
              "\n",
              "    [theme=dark] .colab-df-convert {\n",
              "      background-color: #3B4455;\n",
              "      fill: #D2E3FC;\n",
              "    }\n",
              "\n",
              "    [theme=dark] .colab-df-convert:hover {\n",
              "      background-color: #434B5C;\n",
              "      box-shadow: 0px 1px 3px 1px rgba(0, 0, 0, 0.15);\n",
              "      filter: drop-shadow(0px 1px 2px rgba(0, 0, 0, 0.3));\n",
              "      fill: #FFFFFF;\n",
              "    }\n",
              "  </style>\n",
              "\n",
              "      <script>\n",
              "        const buttonEl =\n",
              "          document.querySelector('#df-f539aeed-8252-4063-9d52-d36efd3c890d button.colab-df-convert');\n",
              "        buttonEl.style.display =\n",
              "          google.colab.kernel.accessAllowed ? 'block' : 'none';\n",
              "\n",
              "        async function convertToInteractive(key) {\n",
              "          const element = document.querySelector('#df-f539aeed-8252-4063-9d52-d36efd3c890d');\n",
              "          const dataTable =\n",
              "            await google.colab.kernel.invokeFunction('convertToInteractive',\n",
              "                                                     [key], {});\n",
              "          if (!dataTable) return;\n",
              "\n",
              "          const docLinkHtml = 'Like what you see? Visit the ' +\n",
              "            '<a target=\"_blank\" href=https://colab.research.google.com/notebooks/data_table.ipynb>data table notebook</a>'\n",
              "            + ' to learn more about interactive tables.';\n",
              "          element.innerHTML = '';\n",
              "          dataTable['output_type'] = 'display_data';\n",
              "          await google.colab.output.renderOutput(dataTable, element);\n",
              "          const docLink = document.createElement('div');\n",
              "          docLink.innerHTML = docLinkHtml;\n",
              "          element.appendChild(docLink);\n",
              "        }\n",
              "      </script>\n",
              "    </div>\n",
              "  </div>\n",
              "  "
            ]
          },
          "metadata": {},
          "execution_count": 115
        }
      ]
    },
    {
      "cell_type": "markdown",
      "source": [
        "## Outlier Check for df_data"
      ],
      "metadata": {
        "id": "c8zbphqSDM1m"
      }
    },
    {
      "cell_type": "code",
      "source": [
        "#Check the Extereme outlier from df_data\n",
        "sns.boxplot(df_data['Ekspor'])"
      ],
      "metadata": {
        "colab": {
          "base_uri": "https://localhost:8080/",
          "height": 351
        },
        "id": "Uw9aTsJbBH1i",
        "outputId": "c2f015d3-0d1a-4060-849e-081242cfa2f6"
      },
      "execution_count": null,
      "outputs": [
        {
          "output_type": "stream",
          "name": "stderr",
          "text": [
            "/usr/local/lib/python3.7/dist-packages/seaborn/_decorators.py:43: FutureWarning: Pass the following variable as a keyword arg: x. From version 0.12, the only valid positional argument will be `data`, and passing other arguments without an explicit keyword will result in an error or misinterpretation.\n",
            "  FutureWarning\n"
          ]
        },
        {
          "output_type": "execute_result",
          "data": {
            "text/plain": [
              "<matplotlib.axes._subplots.AxesSubplot at 0x7fb2c97f1390>"
            ]
          },
          "metadata": {},
          "execution_count": 116
        },
        {
          "output_type": "display_data",
          "data": {
            "text/plain": [
              "<Figure size 432x288 with 1 Axes>"
            ],
            "image/png": "[encoded data removed]"
          },
          "metadata": {
            "needs_background": "light"
          }
        }
      ]
    },
    {
      "cell_type": "code",
      "source": [
        "#Check the Extereme outlier from df_data\n",
        "sns.boxplot(df_data['Cadangan Devisa'])"
      ],
      "metadata": {
        "colab": {
          "base_uri": "https://localhost:8080/",
          "height": 351
        },
        "id": "GVlckQZXDDs3",
        "outputId": "c7302b19-c014-4593-b714-5614533a04fa"
      },
      "execution_count": null,
      "outputs": [
        {
          "output_type": "stream",
          "name": "stderr",
          "text": [
            "/usr/local/lib/python3.7/dist-packages/seaborn/_decorators.py:43: FutureWarning: Pass the following variable as a keyword arg: x. From version 0.12, the only valid positional argument will be `data`, and passing other arguments without an explicit keyword will result in an error or misinterpretation.\n",
            "  FutureWarning\n"
          ]
        },
        {
          "output_type": "execute_result",
          "data": {
            "text/plain": [
              "<matplotlib.axes._subplots.AxesSubplot at 0x7fb2c966f910>"
            ]
          },
          "metadata": {},
          "execution_count": 117
        },
        {
          "output_type": "display_data",
          "data": {
            "text/plain": [
              "<Figure size 432x288 with 1 Axes>"
            ],
            "image/png": "[encoded data removed]"
          },
          "metadata": {
            "needs_background": "light"
          }
        }
      ]
    },
    {
      "cell_type": "code",
      "source": [
        "#Check the Extereme outlier from df_data\n",
        "sns.boxplot(df_data['IHSG'])"
      ],
      "metadata": {
        "colab": {
          "base_uri": "https://localhost:8080/",
          "height": 351
        },
        "id": "pXwGFRcrDGiw",
        "outputId": "d9fd3a91-760c-4938-9aff-4906c1ac5d9e"
      },
      "execution_count": null,
      "outputs": [
        {
          "output_type": "stream",
          "name": "stderr",
          "text": [
            "/usr/local/lib/python3.7/dist-packages/seaborn/_decorators.py:43: FutureWarning: Pass the following variable as a keyword arg: x. From version 0.12, the only valid positional argument will be `data`, and passing other arguments without an explicit keyword will result in an error or misinterpretation.\n",
            "  FutureWarning\n"
          ]
        },
        {
          "output_type": "execute_result",
          "data": {
            "text/plain": [
              "<matplotlib.axes._subplots.AxesSubplot at 0x7fb2c9633ed0>"
            ]
          },
          "metadata": {},
          "execution_count": 118
        },
        {
          "output_type": "display_data",
          "data": {
            "text/plain": [
              "<Figure size 432x288 with 1 Axes>"
            ],
            "image/png": "[encoded data removed]"
          },
          "metadata": {
            "needs_background": "light"
          }
        }
      ]
    },
    {
      "cell_type": "code",
      "source": [
        "#Check the Extereme outlier from df_data\n",
        "sns.boxplot(df_data['Selisih Pinjaman dan Simpanan'])"
      ],
      "metadata": {
        "colab": {
          "base_uri": "https://localhost:8080/",
          "height": 351
        },
        "id": "Yia6dG3-DII4",
        "outputId": "a61d0d89-24b3-43dd-aa80-7118ddd466ae"
      },
      "execution_count": null,
      "outputs": [
        {
          "output_type": "stream",
          "name": "stderr",
          "text": [
            "/usr/local/lib/python3.7/dist-packages/seaborn/_decorators.py:43: FutureWarning: Pass the following variable as a keyword arg: x. From version 0.12, the only valid positional argument will be `data`, and passing other arguments without an explicit keyword will result in an error or misinterpretation.\n",
            "  FutureWarning\n"
          ]
        },
        {
          "output_type": "execute_result",
          "data": {
            "text/plain": [
              "<matplotlib.axes._subplots.AxesSubplot at 0x7fb2c95e2f90>"
            ]
          },
          "metadata": {},
          "execution_count": 119
        },
        {
          "output_type": "display_data",
          "data": {
            "text/plain": [
              "<Figure size 432x288 with 1 Axes>"
            ],
            "image/png": "[encoded data removed]"
          },
          "metadata": {
            "needs_background": "light"
          }
        }
      ]
    },
    {
      "cell_type": "code",
      "source": [
        "#Check the Extereme outlier from df_data\n",
        "sns.boxplot(df_data['Suku Bunga Simpanan Riil'])"
      ],
      "metadata": {
        "colab": {
          "base_uri": "https://localhost:8080/",
          "height": 351
        },
        "id": "3HA_d8_xDLPS",
        "outputId": "eb661175-f772-4a5e-c23a-98327c512aa0"
      },
      "execution_count": null,
      "outputs": [
        {
          "output_type": "stream",
          "name": "stderr",
          "text": [
            "/usr/local/lib/python3.7/dist-packages/seaborn/_decorators.py:43: FutureWarning: Pass the following variable as a keyword arg: x. From version 0.12, the only valid positional argument will be `data`, and passing other arguments without an explicit keyword will result in an error or misinterpretation.\n",
            "  FutureWarning\n"
          ]
        },
        {
          "output_type": "execute_result",
          "data": {
            "text/plain": [
              "<matplotlib.axes._subplots.AxesSubplot at 0x7fb2c9548210>"
            ]
          },
          "metadata": {},
          "execution_count": 120
        },
        {
          "output_type": "display_data",
          "data": {
            "text/plain": [
              "<Figure size 432x288 with 1 Axes>"
            ],
            "image/png": "[encoded data removed]"
          },
          "metadata": {
            "needs_background": "light"
          }
        }
      ]
    },
    {
      "cell_type": "markdown",
      "source": [
        "Outlier detected"
      ],
      "metadata": {
        "id": "rFPfHEetDnn5"
      }
    },
    {
      "cell_type": "code",
      "source": [
        "#Check the Extereme outlier from df_data\n",
        "sns.boxplot(df_data['Simpanan bank '])"
      ],
      "metadata": {
        "colab": {
          "base_uri": "https://localhost:8080/",
          "height": 351
        },
        "id": "BQBRkTRbQJE5",
        "outputId": "2c874909-9633-4026-e97b-c7b17d9261d3"
      },
      "execution_count": null,
      "outputs": [
        {
          "output_type": "stream",
          "name": "stderr",
          "text": [
            "/usr/local/lib/python3.7/dist-packages/seaborn/_decorators.py:43: FutureWarning: Pass the following variable as a keyword arg: x. From version 0.12, the only valid positional argument will be `data`, and passing other arguments without an explicit keyword will result in an error or misinterpretation.\n",
            "  FutureWarning\n"
          ]
        },
        {
          "output_type": "execute_result",
          "data": {
            "text/plain": [
              "<matplotlib.axes._subplots.AxesSubplot at 0x7fb2c94a9350>"
            ]
          },
          "metadata": {},
          "execution_count": 121
        },
        {
          "output_type": "display_data",
          "data": {
            "text/plain": [
              "<Figure size 432x288 with 1 Axes>"
            ],
            "image/png": "[encoded data removed]"
          },
          "metadata": {
            "needs_background": "light"
          }
        }
      ]
    },
    {
      "cell_type": "code",
      "source": [
        "#Check the Extereme outlier from df_data\n",
        "sns.boxplot(df_data['Selisih BI Rate Riil dan FED Rate Riil'])"
      ],
      "metadata": {
        "colab": {
          "base_uri": "https://localhost:8080/",
          "height": 351
        },
        "id": "U2tp4899FJZ5",
        "outputId": "37729b3e-f7a2-4b4a-cb5e-c3a003c828fc"
      },
      "execution_count": null,
      "outputs": [
        {
          "output_type": "stream",
          "name": "stderr",
          "text": [
            "/usr/local/lib/python3.7/dist-packages/seaborn/_decorators.py:43: FutureWarning: Pass the following variable as a keyword arg: x. From version 0.12, the only valid positional argument will be `data`, and passing other arguments without an explicit keyword will result in an error or misinterpretation.\n",
            "  FutureWarning\n"
          ]
        },
        {
          "output_type": "execute_result",
          "data": {
            "text/plain": [
              "<matplotlib.axes._subplots.AxesSubplot at 0x7fb2c942c510>"
            ]
          },
          "metadata": {},
          "execution_count": 122
        },
        {
          "output_type": "display_data",
          "data": {
            "text/plain": [
              "<Figure size 432x288 with 1 Axes>"
            ],
            "image/png": "[encoded data removed]"
          },
          "metadata": {
            "needs_background": "light"
          }
        }
      ]
    },
    {
      "cell_type": "markdown",
      "source": [
        "Outlier detected"
      ],
      "metadata": {
        "id": "ex1cKwlYFPJW"
      }
    },
    {
      "cell_type": "code",
      "source": [
        "#Check the Extereme outlier from df_data\n",
        "sns.boxplot(df_data['Nilai Tukar Riil'])"
      ],
      "metadata": {
        "colab": {
          "base_uri": "https://localhost:8080/",
          "height": 351
        },
        "id": "Qk9kvcqLG9_A",
        "outputId": "f5e2a6c8-44b7-4805-ff93-ddf8f3ae6078"
      },
      "execution_count": null,
      "outputs": [
        {
          "output_type": "stream",
          "name": "stderr",
          "text": [
            "/usr/local/lib/python3.7/dist-packages/seaborn/_decorators.py:43: FutureWarning: Pass the following variable as a keyword arg: x. From version 0.12, the only valid positional argument will be `data`, and passing other arguments without an explicit keyword will result in an error or misinterpretation.\n",
            "  FutureWarning\n"
          ]
        },
        {
          "output_type": "execute_result",
          "data": {
            "text/plain": [
              "<matplotlib.axes._subplots.AxesSubplot at 0x7fb2c940f3d0>"
            ]
          },
          "metadata": {},
          "execution_count": 123
        },
        {
          "output_type": "display_data",
          "data": {
            "text/plain": [
              "<Figure size 432x288 with 1 Axes>"
            ],
            "image/png": "[encoded data removed]"
          },
          "metadata": {
            "needs_background": "light"
          }
        }
      ]
    },
    {
      "cell_type": "code",
      "source": [
        "#Check the Extereme outlier from df_data\n",
        "sns.boxplot(df_data['Nilai Tukar Perdagangan'])"
      ],
      "metadata": {
        "colab": {
          "base_uri": "https://localhost:8080/",
          "height": 351
        },
        "id": "l8WxYFN-G72S",
        "outputId": "0603812d-75e9-49e8-f27b-44a495383810"
      },
      "execution_count": null,
      "outputs": [
        {
          "output_type": "stream",
          "name": "stderr",
          "text": [
            "/usr/local/lib/python3.7/dist-packages/seaborn/_decorators.py:43: FutureWarning: Pass the following variable as a keyword arg: x. From version 0.12, the only valid positional argument will be `data`, and passing other arguments without an explicit keyword will result in an error or misinterpretation.\n",
            "  FutureWarning\n"
          ]
        },
        {
          "output_type": "execute_result",
          "data": {
            "text/plain": [
              "<matplotlib.axes._subplots.AxesSubplot at 0x7fb2c9380e10>"
            ]
          },
          "metadata": {},
          "execution_count": 124
        },
        {
          "output_type": "display_data",
          "data": {
            "text/plain": [
              "<Figure size 432x288 with 1 Axes>"
            ],
            "image/png": "[encoded data removed]"
          },
          "metadata": {
            "needs_background": "light"
          }
        }
      ]
    },
    {
      "cell_type": "markdown",
      "source": [
        "Outlier detected"
      ],
      "metadata": {
        "id": "Ps9p1mhyNd2A"
      }
    },
    {
      "cell_type": "code",
      "source": [
        "#Check the Extereme outlier from df_data\n",
        "sns.boxplot(df_data['M1'])"
      ],
      "metadata": {
        "colab": {
          "base_uri": "https://localhost:8080/",
          "height": 351
        },
        "id": "4dbt4N4PL1wa",
        "outputId": "c8fb4c7b-cc9b-4fce-dd95-03915880ee9f"
      },
      "execution_count": null,
      "outputs": [
        {
          "output_type": "stream",
          "name": "stderr",
          "text": [
            "/usr/local/lib/python3.7/dist-packages/seaborn/_decorators.py:43: FutureWarning: Pass the following variable as a keyword arg: x. From version 0.12, the only valid positional argument will be `data`, and passing other arguments without an explicit keyword will result in an error or misinterpretation.\n",
            "  FutureWarning\n"
          ]
        },
        {
          "output_type": "execute_result",
          "data": {
            "text/plain": [
              "<matplotlib.axes._subplots.AxesSubplot at 0x7fb2c935b090>"
            ]
          },
          "metadata": {},
          "execution_count": 125
        },
        {
          "output_type": "display_data",
          "data": {
            "text/plain": [
              "<Figure size 432x288 with 1 Axes>"
            ],
            "image/png": "[encoded data removed]"
          },
          "metadata": {
            "needs_background": "light"
          }
        }
      ]
    },
    {
      "cell_type": "code",
      "source": [
        "#Check the Extereme outlier from df_data\n",
        "sns.boxplot(df_data['M2/Cadangan Devisa'])"
      ],
      "metadata": {
        "colab": {
          "base_uri": "https://localhost:8080/",
          "height": 351
        },
        "id": "9CANwKimL61D",
        "outputId": "c1fa5f00-2f1c-424e-9ad7-34e6eff75e81"
      },
      "execution_count": null,
      "outputs": [
        {
          "output_type": "stream",
          "name": "stderr",
          "text": [
            "/usr/local/lib/python3.7/dist-packages/seaborn/_decorators.py:43: FutureWarning: Pass the following variable as a keyword arg: x. From version 0.12, the only valid positional argument will be `data`, and passing other arguments without an explicit keyword will result in an error or misinterpretation.\n",
            "  FutureWarning\n"
          ]
        },
        {
          "output_type": "execute_result",
          "data": {
            "text/plain": [
              "<matplotlib.axes._subplots.AxesSubplot at 0x7fb2c92c7510>"
            ]
          },
          "metadata": {},
          "execution_count": 126
        },
        {
          "output_type": "display_data",
          "data": {
            "text/plain": [
              "<Figure size 432x288 with 1 Axes>"
            ],
            "image/png": "[encoded data removed]"
          },
          "metadata": {
            "needs_background": "light"
          }
        }
      ]
    },
    {
      "cell_type": "code",
      "source": [
        "#Check the Extereme outlier from df_data\n",
        "sns.boxplot(df_data['M2M'])"
      ],
      "metadata": {
        "colab": {
          "base_uri": "https://localhost:8080/",
          "height": 351
        },
        "id": "GcHybwBxL8cW",
        "outputId": "37457339-ba9c-4ed1-e60a-4b9c97ddb18a"
      },
      "execution_count": null,
      "outputs": [
        {
          "output_type": "stream",
          "name": "stderr",
          "text": [
            "/usr/local/lib/python3.7/dist-packages/seaborn/_decorators.py:43: FutureWarning: Pass the following variable as a keyword arg: x. From version 0.12, the only valid positional argument will be `data`, and passing other arguments without an explicit keyword will result in an error or misinterpretation.\n",
            "  FutureWarning\n"
          ]
        },
        {
          "output_type": "execute_result",
          "data": {
            "text/plain": [
              "<matplotlib.axes._subplots.AxesSubplot at 0x7fb2c922be10>"
            ]
          },
          "metadata": {},
          "execution_count": 127
        },
        {
          "output_type": "display_data",
          "data": {
            "text/plain": [
              "<Figure size 432x288 with 1 Axes>"
            ],
            "image/png": "[encoded data removed]"
          },
          "metadata": {
            "needs_background": "light"
          }
        }
      ]
    },
    {
      "cell_type": "markdown",
      "source": [
        "Outlier detected"
      ],
      "metadata": {
        "id": "tV-O299rNgb-"
      }
    },
    {
      "cell_type": "markdown",
      "source": [
        "## Remove Outlier for df_data"
      ],
      "metadata": {
        "id": "WzCXb3ovNrxI"
      }
    },
    {
      "cell_type": "code",
      "source": [
        "#remove outlier from certain column\n",
        "for x in ['Suku Bunga Simpanan Riil']:\n",
        "    q75,q25 = np.percentile(df_data.loc[:,x],[75,25])\n",
        "    intr_qr = q75-q25\n",
        " \n",
        "    max = q75+(1.5*intr_qr)\n",
        "    min = q25-(1.5*intr_qr)\n",
        " \n",
        "    df_data.loc[df_data[x] < min,x] = np.nan\n",
        "    df_data.loc[df_data[x] > max,x] = np.nan\n",
        "\n",
        "for x in ['Selisih BI Rate Riil dan FED Rate Riil']:\n",
        "    q75,q25 = np.percentile(df_data.loc[:,x],[75,25])\n",
        "    intr_qr = q75-q25\n",
        " \n",
        "    max = q75+(1.5*intr_qr)\n",
        "    min = q25-(1.5*intr_qr)\n",
        " \n",
        "    df_data.loc[df_data[x] < min,x] = np.nan\n",
        "    df_data.loc[df_data[x] > max,x] = np.nan\n",
        "\n",
        "for x in ['Nilai Tukar Perdagangan']:\n",
        "    q75,q25 = np.percentile(df_data.loc[:,x],[75,25])\n",
        "    intr_qr = q75-q25\n",
        " \n",
        "    max = q75+(1.5*intr_qr)\n",
        "    min = q25-(1.5*intr_qr)\n",
        " \n",
        "    df_data.loc[df_data[x] < min,x] = np.nan\n",
        "    df_data.loc[df_data[x] > max,x] = np.nan\n",
        "\n",
        "for x in ['M2M']:\n",
        "    q75,q25 = np.percentile(df_data.loc[:,x],[75,25])\n",
        "    intr_qr = q75-q25\n",
        " \n",
        "    max = q75+(1.5*intr_qr)\n",
        "    min = q25-(1.5*intr_qr)\n",
        " \n",
        "    df_data.loc[df_data[x] < min,x] = np.nan\n",
        "    df_data.loc[df_data[x] > max,x] = np.nan"
      ],
      "metadata": {
        "id": "C33MIlvqMKps"
      },
      "execution_count": null,
      "outputs": []
    },
    {
      "cell_type": "code",
      "source": [
        "#recheck describe for df_data\n",
        "df_data.describe()"
      ],
      "metadata": {
        "colab": {
          "base_uri": "https://localhost:8080/",
          "height": 379
        },
        "id": "Z0KT7WF7OvBF",
        "outputId": "d11e74f1-491c-40fa-e656-8ac91f681a50"
      },
      "execution_count": null,
      "outputs": [
        {
          "output_type": "execute_result",
          "data": {
            "text/plain": [
              "             Ekspor  Cadangan Devisa         IHSG  \\\n",
              "count    270.000000       270.000000   270.000000   \n",
              "mean    8247.868963     53516.383556  2071.609444   \n",
              "std     4853.028611     41132.468503  2014.293535   \n",
              "min     1750.000000      5767.500000   226.680000   \n",
              "25%     4082.750000     19042.000000   462.717500   \n",
              "50%     6261.415000     34816.185000   759.030000   \n",
              "75%    12936.765000    102477.375000  3916.700000   \n",
              "max    18530.800000    130196.380000  6597.220000   \n",
              "\n",
              "       Selisih Pinjaman dan Simpanan  Suku Bunga Simpanan Riil  \\\n",
              "count                     270.000000                262.000000   \n",
              "mean                        1.500222                 11.113053   \n",
              "std                         0.333443                  5.422617   \n",
              "min                         0.660000                  0.680000   \n",
              "25%                         1.220000                  6.612500   \n",
              "50%                         1.505000                  9.525000   \n",
              "75%                         1.760000                 14.717500   \n",
              "max                         2.410000                 27.730000   \n",
              "\n",
              "       Selisih BI Rate Riil dan FED Rate Riil  Simpanan bank   \\\n",
              "count                              258.000000      270.000000   \n",
              "mean                                 7.069690      134.058398   \n",
              "std                                  3.004276      100.175825   \n",
              "min                                  1.250000       14.567329   \n",
              "25%                                  5.007500       58.468779   \n",
              "50%                                  6.420000       83.851499   \n",
              "75%                                  8.200000      245.694303   \n",
              "max                                 14.380000      330.612337   \n",
              "\n",
              "       Nilai Tukar Riil  Nilai Tukar Perdagangan          M1  \\\n",
              "count        270.000000               269.000000  270.000000   \n",
              "mean        7232.566259                 1.223410   41.406296   \n",
              "std         5550.579030                 0.211458   29.628941   \n",
              "min          375.390000                 0.851500    7.350000   \n",
              "25%          742.267500                 1.062900   16.475000   \n",
              "50%         6753.570000                 1.166200   26.455000   \n",
              "75%        10000.275000                 1.373300   73.185000   \n",
              "max        19358.390000                 1.825200  104.840000   \n",
              "\n",
              "       M2/Cadangan Devisa         M2M      Krisis  \n",
              "count          270.000000  269.000000  270.000000  \n",
              "mean             0.003716    6.465167    0.111111  \n",
              "std              0.001151    1.472970    0.314853  \n",
              "min              0.002000    4.190000    0.000000  \n",
              "25%              0.003000    5.020000    0.000000  \n",
              "50%              0.003200    6.160000    0.000000  \n",
              "75%              0.004600    7.900000    0.000000  \n",
              "max              0.006600   10.150000    1.000000  "
            ],
            "text/html": [
              "\n",
              "  <div id=\"df-06486e20-08ac-4876-bb42-b327c5398e96\">\n",
              "    <div class=\"colab-df-container\">\n",
              "      <div>\n",
              "<style scoped>\n",
              "    .dataframe tbody tr th:only-of-type {\n",
              "        vertical-align: middle;\n",
              "    }\n",
              "\n",
              "    .dataframe tbody tr th {\n",
              "        vertical-align: top;\n",
              "    }\n",
              "\n",
              "    .dataframe thead th {\n",
              "        text-align: right;\n",
              "    }\n",
              "</style>\n",
              "<table border=\"1\" class=\"dataframe\">\n",
              "  <thead>\n",
              "    <tr style=\"text-align: right;\">\n",
              "      <th></th>\n",
              "      <th>Ekspor</th>\n",
              "      <th>Cadangan Devisa</th>\n",
              "      <th>IHSG</th>\n",
              "      <th>Selisih Pinjaman dan Simpanan</th>\n",
              "      <th>Suku Bunga Simpanan Riil</th>\n",
              "      <th>Selisih BI Rate Riil dan FED Rate Riil</th>\n",
              "      <th>Simpanan bank</th>\n",
              "      <th>Nilai Tukar Riil</th>\n",
              "      <th>Nilai Tukar Perdagangan</th>\n",
              "      <th>M1</th>\n",
              "      <th>M2/Cadangan Devisa</th>\n",
              "      <th>M2M</th>\n",
              "      <th>Krisis</th>\n",
              "    </tr>\n",
              "  </thead>\n",
              "  <tbody>\n",
              "    <tr>\n",
              "      <th>count</th>\n",
              "      <td>270.000000</td>\n",
              "      <td>270.000000</td>\n",
              "      <td>270.000000</td>\n",
              "      <td>270.000000</td>\n",
              "      <td>262.000000</td>\n",
              "      <td>258.000000</td>\n",
              "      <td>270.000000</td>\n",
              "      <td>270.000000</td>\n",
              "      <td>269.000000</td>\n",
              "      <td>270.000000</td>\n",
              "      <td>270.000000</td>\n",
              "      <td>269.000000</td>\n",
              "      <td>270.000000</td>\n",
              "    </tr>\n",
              "    <tr>\n",
              "      <th>mean</th>\n",
              "      <td>8247.868963</td>\n",
              "      <td>53516.383556</td>\n",
              "      <td>2071.609444</td>\n",
              "      <td>1.500222</td>\n",
              "      <td>11.113053</td>\n",
              "      <td>7.069690</td>\n",
              "      <td>134.058398</td>\n",
              "      <td>7232.566259</td>\n",
              "      <td>1.223410</td>\n",
              "      <td>41.406296</td>\n",
              "      <td>0.003716</td>\n",
              "      <td>6.465167</td>\n",
              "      <td>0.111111</td>\n",
              "    </tr>\n",
              "    <tr>\n",
              "      <th>std</th>\n",
              "      <td>4853.028611</td>\n",
              "      <td>41132.468503</td>\n",
              "      <td>2014.293535</td>\n",
              "      <td>0.333443</td>\n",
              "      <td>5.422617</td>\n",
              "      <td>3.004276</td>\n",
              "      <td>100.175825</td>\n",
              "      <td>5550.579030</td>\n",
              "      <td>0.211458</td>\n",
              "      <td>29.628941</td>\n",
              "      <td>0.001151</td>\n",
              "      <td>1.472970</td>\n",
              "      <td>0.314853</td>\n",
              "    </tr>\n",
              "    <tr>\n",
              "      <th>min</th>\n",
              "      <td>1750.000000</td>\n",
              "      <td>5767.500000</td>\n",
              "      <td>226.680000</td>\n",
              "      <td>0.660000</td>\n",
              "      <td>0.680000</td>\n",
              "      <td>1.250000</td>\n",
              "      <td>14.567329</td>\n",
              "      <td>375.390000</td>\n",
              "      <td>0.851500</td>\n",
              "      <td>7.350000</td>\n",
              "      <td>0.002000</td>\n",
              "      <td>4.190000</td>\n",
              "      <td>0.000000</td>\n",
              "    </tr>\n",
              "    <tr>\n",
              "      <th>25%</th>\n",
              "      <td>4082.750000</td>\n",
              "      <td>19042.000000</td>\n",
              "      <td>462.717500</td>\n",
              "      <td>1.220000</td>\n",
              "      <td>6.612500</td>\n",
              "      <td>5.007500</td>\n",
              "      <td>58.468779</td>\n",
              "      <td>742.267500</td>\n",
              "      <td>1.062900</td>\n",
              "      <td>16.475000</td>\n",
              "      <td>0.003000</td>\n",
              "      <td>5.020000</td>\n",
              "      <td>0.000000</td>\n",
              "    </tr>\n",
              "    <tr>\n",
              "      <th>50%</th>\n",
              "      <td>6261.415000</td>\n",
              "      <td>34816.185000</td>\n",
              "      <td>759.030000</td>\n",
              "      <td>1.505000</td>\n",
              "      <td>9.525000</td>\n",
              "      <td>6.420000</td>\n",
              "      <td>83.851499</td>\n",
              "      <td>6753.570000</td>\n",
              "      <td>1.166200</td>\n",
              "      <td>26.455000</td>\n",
              "      <td>0.003200</td>\n",
              "      <td>6.160000</td>\n",
              "      <td>0.000000</td>\n",
              "    </tr>\n",
              "    <tr>\n",
              "      <th>75%</th>\n",
              "      <td>12936.765000</td>\n",
              "      <td>102477.375000</td>\n",
              "      <td>3916.700000</td>\n",
              "      <td>1.760000</td>\n",
              "      <td>14.717500</td>\n",
              "      <td>8.200000</td>\n",
              "      <td>245.694303</td>\n",
              "      <td>10000.275000</td>\n",
              "      <td>1.373300</td>\n",
              "      <td>73.185000</td>\n",
              "      <td>0.004600</td>\n",
              "      <td>7.900000</td>\n",
              "      <td>0.000000</td>\n",
              "    </tr>\n",
              "    <tr>\n",
              "      <th>max</th>\n",
              "      <td>18530.800000</td>\n",
              "      <td>130196.380000</td>\n",
              "      <td>6597.220000</td>\n",
              "      <td>2.410000</td>\n",
              "      <td>27.730000</td>\n",
              "      <td>14.380000</td>\n",
              "      <td>330.612337</td>\n",
              "      <td>19358.390000</td>\n",
              "      <td>1.825200</td>\n",
              "      <td>104.840000</td>\n",
              "      <td>0.006600</td>\n",
              "      <td>10.150000</td>\n",
              "      <td>1.000000</td>\n",
              "    </tr>\n",
              "  </tbody>\n",
              "</table>\n",
              "</div>\n",
              "      <button class=\"colab-df-convert\" onclick=\"convertToInteractive('df-06486e20-08ac-4876-bb42-b327c5398e96')\"\n",
              "              title=\"Convert this dataframe to an interactive table.\"\n",
              "              style=\"display:none;\">\n",
              "        \n",
              "  <svg xmlns=\"http://www.w3.org/2000/svg\" height=\"24px\"viewBox=\"0 0 24 24\"\n",
              "       width=\"24px\">\n",
              "    <path d=\"M0 0h24v24H0V0z\" fill=\"none\"/>\n",
              "    <path d=\"M18.56 5.44l.94 2.06.94-2.06 2.06-.94-2.06-.94-.94-2.06-.94 2.06-2.06.94zm-11 1L8.5 8.5l.94-2.06 2.06-.94-2.06-.94L8.5 2.5l-.94 2.06-2.06.94zm10 10l.94 2.06.94-2.06 2.06-.94-2.06-.94-.94-2.06-.94 2.06-2.06.94z\"/><path d=\"M17.41 7.96l-1.37-1.37c-.4-.4-.92-.59-1.43-.59-.52 0-1.04.2-1.43.59L10.3 9.45l-7.72 7.72c-.78.78-.78 2.05 0 2.83L4 21.41c.39.39.9.59 1.41.59.51 0 1.02-.2 1.41-.59l7.78-7.78 2.81-2.81c.8-.78.8-2.07 0-2.86zM5.41 20L4 18.59l7.72-7.72 1.47 1.35L5.41 20z\"/>\n",
              "  </svg>\n",
              "      </button>\n",
              "      \n",
              "  <style>\n",
              "    .colab-df-container {\n",
              "      display:flex;\n",
              "      flex-wrap:wrap;\n",
              "      gap: 12px;\n",
              "    }\n",
              "\n",
              "    .colab-df-convert {\n",
              "      background-color: #E8F0FE;\n",
              "      border: none;\n",
              "      border-radius: 50%;\n",
              "      cursor: pointer;\n",
              "      display: none;\n",
              "      fill: #1967D2;\n",
              "      height: 32px;\n",
              "      padding: 0 0 0 0;\n",
              "      width: 32px;\n",
              "    }\n",
              "\n",
              "    .colab-df-convert:hover {\n",
              "      background-color: #E2EBFA;\n",
              "      box-shadow: 0px 1px 2px rgba(60, 64, 67, 0.3), 0px 1px 3px 1px rgba(60, 64, 67, 0.15);\n",
              "      fill: #174EA6;\n",
              "    }\n",
              "\n",
              "    [theme=dark] .colab-df-convert {\n",
              "      background-color: #3B4455;\n",
              "      fill: #D2E3FC;\n",
              "    }\n",
              "\n",
              "    [theme=dark] .colab-df-convert:hover {\n",
              "      background-color: #434B5C;\n",
              "      box-shadow: 0px 1px 3px 1px rgba(0, 0, 0, 0.15);\n",
              "      filter: drop-shadow(0px 1px 2px rgba(0, 0, 0, 0.3));\n",
              "      fill: #FFFFFF;\n",
              "    }\n",
              "  </style>\n",
              "\n",
              "      <script>\n",
              "        const buttonEl =\n",
              "          document.querySelector('#df-06486e20-08ac-4876-bb42-b327c5398e96 button.colab-df-convert');\n",
              "        buttonEl.style.display =\n",
              "          google.colab.kernel.accessAllowed ? 'block' : 'none';\n",
              "\n",
              "        async function convertToInteractive(key) {\n",
              "          const element = document.querySelector('#df-06486e20-08ac-4876-bb42-b327c5398e96');\n",
              "          const dataTable =\n",
              "            await google.colab.kernel.invokeFunction('convertToInteractive',\n",
              "                                                     [key], {});\n",
              "          if (!dataTable) return;\n",
              "\n",
              "          const docLinkHtml = 'Like what you see? Visit the ' +\n",
              "            '<a target=\"_blank\" href=https://colab.research.google.com/notebooks/data_table.ipynb>data table notebook</a>'\n",
              "            + ' to learn more about interactive tables.';\n",
              "          element.innerHTML = '';\n",
              "          dataTable['output_type'] = 'display_data';\n",
              "          await google.colab.output.renderOutput(dataTable, element);\n",
              "          const docLink = document.createElement('div');\n",
              "          docLink.innerHTML = docLinkHtml;\n",
              "          element.appendChild(docLink);\n",
              "        }\n",
              "      </script>\n",
              "    </div>\n",
              "  </div>\n",
              "  "
            ]
          },
          "metadata": {},
          "execution_count": 129
        }
      ]
    },
    {
      "cell_type": "markdown",
      "source": [
        "# EDA"
      ],
      "metadata": {
        "id": "0gLsgG0KOCDn"
      }
    },
    {
      "cell_type": "markdown",
      "source": [
        "##Box Plot each Variables"
      ],
      "metadata": {
        "id": "vXlXP4BkdU6g"
      }
    },
    {
      "cell_type": "code",
      "source": [
        "sns.boxplot(x = \"Krisis\", y = \"Ekspor\", data = df_data);"
      ],
      "metadata": {
        "colab": {
          "base_uri": "https://localhost:8080/",
          "height": 279
        },
        "id": "P2w4BbiQPaMK",
        "outputId": "44c5adfe-da6f-4242-9f4c-db5e9babc405"
      },
      "execution_count": null,
      "outputs": [
        {
          "output_type": "display_data",
          "data": {
            "text/plain": [
              "<Figure size 432x288 with 1 Axes>"
            ],
            "image/png": "[encoded data removed]"
          },
          "metadata": {
            "needs_background": "light"
          }
        }
      ]
    },
    {
      "cell_type": "code",
      "source": [
        "sns.boxplot(x = \"Krisis\", y = \"Cadangan Devisa\", data = df_data);"
      ],
      "metadata": {
        "colab": {
          "base_uri": "https://localhost:8080/",
          "height": 279
        },
        "id": "hcbNQTPePj66",
        "outputId": "569be1fe-9baa-4257-c7b0-a207a5f3813f"
      },
      "execution_count": null,
      "outputs": [
        {
          "output_type": "display_data",
          "data": {
            "text/plain": [
              "<Figure size 432x288 with 1 Axes>"
            ],
            "image/png": "[encoded data removed]"
          },
          "metadata": {
            "needs_background": "light"
          }
        }
      ]
    },
    {
      "cell_type": "markdown",
      "source": [
        "We can observe there difference between two condition. Higher cadangan devisa that have more than 60k less likely to Krisis."
      ],
      "metadata": {
        "id": "bLk269IQRFTs"
      }
    },
    {
      "cell_type": "code",
      "source": [
        "sns.boxplot(x = \"Krisis\", y = \"IHSG\", data = df_data);"
      ],
      "metadata": {
        "colab": {
          "base_uri": "https://localhost:8080/",
          "height": 279
        },
        "id": "Nn2ovkCzPmrQ",
        "outputId": "06004788-e3ce-49ee-a374-8099f41a3c80"
      },
      "execution_count": null,
      "outputs": [
        {
          "output_type": "display_data",
          "data": {
            "text/plain": [
              "<Figure size 432x288 with 1 Axes>"
            ],
            "image/png": "[encoded data removed]"
          },
          "metadata": {
            "needs_background": "light"
          }
        }
      ]
    },
    {
      "cell_type": "markdown",
      "source": [
        "We can observe there difference between two condition. Higher IHSG that have more than 2k less likely to Krisis."
      ],
      "metadata": {
        "id": "fGmj2J_LRLen"
      }
    },
    {
      "cell_type": "code",
      "source": [
        "sns.boxplot(x = \"Krisis\", y = \"Selisih Pinjaman dan Simpanan\", data = df_data);"
      ],
      "metadata": {
        "colab": {
          "base_uri": "https://localhost:8080/",
          "height": 279
        },
        "id": "9ua2JllBPuLe",
        "outputId": "83c0d0cd-2753-4f10-9086-e1efe1229fbd"
      },
      "execution_count": null,
      "outputs": [
        {
          "output_type": "display_data",
          "data": {
            "text/plain": [
              "<Figure size 432x288 with 1 Axes>"
            ],
            "image/png": "[encoded data removed]"
          },
          "metadata": {
            "needs_background": "light"
          }
        }
      ]
    },
    {
      "cell_type": "code",
      "source": [
        "sns.boxplot(x = \"Krisis\", y = \"Suku Bunga Simpanan Riil\", data = df_data);"
      ],
      "metadata": {
        "colab": {
          "base_uri": "https://localhost:8080/",
          "height": 279
        },
        "id": "a7G_0GniPwe5",
        "outputId": "202f1595-a5ff-4ee1-871c-59422af118d8"
      },
      "execution_count": null,
      "outputs": [
        {
          "output_type": "display_data",
          "data": {
            "text/plain": [
              "<Figure size 432x288 with 1 Axes>"
            ],
            "image/png": "[encoded data removed]"
          },
          "metadata": {
            "needs_background": "light"
          }
        }
      ]
    },
    {
      "cell_type": "markdown",
      "source": [
        "We can observe there difference between two condition. Higher Suku Bunga Simpanan Riil that have more than 15% likely to Krisis."
      ],
      "metadata": {
        "id": "VAixPVazRUln"
      }
    },
    {
      "cell_type": "code",
      "source": [
        "sns.boxplot(x = \"Krisis\", y = \"Selisih BI Rate Riil dan FED Rate Riil\", data = df_data);"
      ],
      "metadata": {
        "colab": {
          "base_uri": "https://localhost:8080/",
          "height": 279
        },
        "id": "Wj62IJK-P0BW",
        "outputId": "3762406a-0171-4094-a78b-19e01ff3c709"
      },
      "execution_count": null,
      "outputs": [
        {
          "output_type": "display_data",
          "data": {
            "text/plain": [
              "<Figure size 432x288 with 1 Axes>"
            ],
            "image/png": "[encoded data removed]"
          },
          "metadata": {
            "needs_background": "light"
          }
        }
      ]
    },
    {
      "cell_type": "code",
      "source": [
        "sns.boxplot(x = \"Krisis\", y = \"Simpanan bank \", data = df_data);"
      ],
      "metadata": {
        "colab": {
          "base_uri": "https://localhost:8080/",
          "height": 279
        },
        "id": "OTXDISSxP83j",
        "outputId": "414525f3-34b5-488f-c7ad-05db5e5a0331"
      },
      "execution_count": null,
      "outputs": [
        {
          "output_type": "display_data",
          "data": {
            "text/plain": [
              "<Figure size 432x288 with 1 Axes>"
            ],
            "image/png": "[encoded data removed]"
          },
          "metadata": {
            "needs_background": "light"
          }
        }
      ]
    },
    {
      "cell_type": "markdown",
      "source": [
        "We can observe there difference between two condition. Higher Simpanan Bank that have more than 150 less likely to Krisis."
      ],
      "metadata": {
        "id": "8ZsEE7YLRbmh"
      }
    },
    {
      "cell_type": "code",
      "source": [
        "sns.boxplot(x = \"Krisis\", y = \"Nilai Tukar Riil\", data = df_data);"
      ],
      "metadata": {
        "colab": {
          "base_uri": "https://localhost:8080/",
          "height": 280
        },
        "id": "t7Zz2ns_QM0G",
        "outputId": "108f8690-2a98-4456-9843-875a82500fdc"
      },
      "execution_count": null,
      "outputs": [
        {
          "output_type": "display_data",
          "data": {
            "text/plain": [
              "<Figure size 432x288 with 1 Axes>"
            ],
            "image/png": "[encoded data removed]"
          },
          "metadata": {
            "needs_background": "light"
          }
        }
      ]
    },
    {
      "cell_type": "markdown",
      "source": [
        "We can observe there difference between two condition. Lower Nilai tukar riil that have below than 3k likely to Krisis."
      ],
      "metadata": {
        "id": "XyNVuGajRjui"
      }
    },
    {
      "cell_type": "code",
      "source": [
        "sns.boxplot(x = \"Krisis\", y = \"Nilai Tukar Perdagangan\", data = df_data);"
      ],
      "metadata": {
        "colab": {
          "base_uri": "https://localhost:8080/",
          "height": 279
        },
        "id": "wqq11AhvQQ1m",
        "outputId": "a24cd8f9-fe05-4fc2-fe9e-be24ecabfbb3"
      },
      "execution_count": null,
      "outputs": [
        {
          "output_type": "display_data",
          "data": {
            "text/plain": [
              "<Figure size 432x288 with 1 Axes>"
            ],
            "image/png": "[encoded data removed]"
          },
          "metadata": {
            "needs_background": "light"
          }
        }
      ]
    },
    {
      "cell_type": "code",
      "source": [
        "sns.boxplot(x = \"Krisis\", y = \"M1\", data = df_data);"
      ],
      "metadata": {
        "colab": {
          "base_uri": "https://localhost:8080/",
          "height": 279
        },
        "id": "VLg6xr38QSzx",
        "outputId": "4e47f8ee-48c2-4a60-b5f7-6b7fe933d59e"
      },
      "execution_count": null,
      "outputs": [
        {
          "output_type": "display_data",
          "data": {
            "text/plain": [
              "<Figure size 432x288 with 1 Axes>"
            ],
            "image/png": "[encoded data removed]"
          },
          "metadata": {
            "needs_background": "light"
          }
        }
      ]
    },
    {
      "cell_type": "code",
      "source": [
        "sns.boxplot(x = \"Krisis\", y = \"M2/Cadangan Devisa\", data = df_data);"
      ],
      "metadata": {
        "colab": {
          "base_uri": "https://localhost:8080/",
          "height": 279
        },
        "id": "F_WI1INYQVAP",
        "outputId": "c6c6a1f2-07a2-44df-c750-81a7e1ca3466"
      },
      "execution_count": null,
      "outputs": [
        {
          "output_type": "display_data",
          "data": {
            "text/plain": [
              "<Figure size 432x288 with 1 Axes>"
            ],
            "image/png": "[encoded data removed]"
          },
          "metadata": {
            "needs_background": "light"
          }
        }
      ]
    },
    {
      "cell_type": "code",
      "source": [
        "sns.boxplot(x = \"Krisis\", y = \"M2M\", data = df_data);"
      ],
      "metadata": {
        "colab": {
          "base_uri": "https://localhost:8080/",
          "height": 279
        },
        "id": "TyRyviPSQYTm",
        "outputId": "2b2c2006-27dd-4f53-9001-4d475647e73b"
      },
      "execution_count": null,
      "outputs": [
        {
          "output_type": "display_data",
          "data": {
            "text/plain": [
              "<Figure size 432x288 with 1 Axes>"
            ],
            "image/png": "[encoded data removed]"
          },
          "metadata": {
            "needs_background": "light"
          }
        }
      ]
    },
    {
      "cell_type": "code",
      "source": [
        "df_data"
      ],
      "metadata": {
        "colab": {
          "base_uri": "https://localhost:8080/",
          "height": 485
        },
        "id": "RVBnlZkRPqcW",
        "outputId": "0f251fd9-8297-4233-99f0-3a739c34dd44"
      },
      "execution_count": null,
      "outputs": [
        {
          "output_type": "execute_result",
          "data": {
            "text/plain": [
              "      Ekspor  Cadangan Devisa     IHSG  Selisih Pinjaman dan Simpanan  \\\n",
              "0     1845.2          6068.20   504.27                           1.24   \n",
              "1     2055.0          6259.10   612.20                           1.24   \n",
              "2     1750.0          5767.50   624.33                           1.22   \n",
              "3     1812.0          6392.70   614.41                           1.19   \n",
              "4     2124.0          6615.60   556.34                           1.18   \n",
              "..       ...              ...      ...                            ...   \n",
              "265  13927.9        120075.16  6532.97                           1.52   \n",
              "266  12555.9        123273.87  6443.35                           1.53   \n",
              "267  14121.9        124539.31  6468.76                           1.53   \n",
              "268  13112.7        124293.82  6455.35                           1.54   \n",
              "269  14825.2        120347.15  6209.12                           1.54   \n",
              "\n",
              "     Suku Bunga Simpanan Riil  Selisih BI Rate Riil dan FED Rate Riil  \\\n",
              "0                       15.56                                    4.36   \n",
              "1                       16.63                                    5.83   \n",
              "2                       14.77                                    7.92   \n",
              "3                       14.29                                    7.91   \n",
              "4                       16.66                                    9.74   \n",
              "..                        ...                                     ...   \n",
              "265                      6.58                                    3.49   \n",
              "266                      6.99                                    4.13   \n",
              "267                      6.74                                    4.08   \n",
              "268                      6.39                                    3.72   \n",
              "269                      6.11                                    3.16   \n",
              "\n",
              "     Simpanan bank   Nilai Tukar Riil  Nilai Tukar Perdagangan      M1  \\\n",
              "0         14.567329            376.63                   1.2366   10.66   \n",
              "1         16.707625            375.39                   1.2129   12.15   \n",
              "2         16.067787            388.69                   1.0374   12.58   \n",
              "3         16.274743            396.82                   1.0315   12.23   \n",
              "4         16.913348            397.52                   1.0400   12.08   \n",
              "..              ...               ...                      ...     ...   \n",
              "265      328.414357          18191.69                   0.9291   97.89   \n",
              "266      330.319123          18087.59                   1.0270   98.64   \n",
              "267      328.479665          18239.04                   1.0499  100.14   \n",
              "268      330.069829          18186.00                   0.8515  102.12   \n",
              "269      330.612337          18489.54                   1.0150  104.84   \n",
              "\n",
              "     M2/Cadangan Devisa   M2M  Krisis  \n",
              "0                0.0055  6.46       1  \n",
              "1                0.0056  6.16       1  \n",
              "2                0.0066  6.77       0  \n",
              "3                0.0060  7.04       0  \n",
              "4                0.0060  6.76       0  \n",
              "..                  ...   ...     ...  \n",
              "265              0.0033  5.61       0  \n",
              "266              0.0033  5.77       0  \n",
              "267              0.0032  5.78       0  \n",
              "268              0.0033  5.66       0  \n",
              "269              0.0034  5.11       0  \n",
              "\n",
              "[270 rows x 13 columns]"
            ],
            "text/html": [
              "\n",
              "  <div id=\"df-70e9e4bc-aac8-4aa2-bf34-b01d93469c66\">\n",
              "    <div class=\"colab-df-container\">\n",
              "      <div>\n",
              "<style scoped>\n",
              "    .dataframe tbody tr th:only-of-type {\n",
              "        vertical-align: middle;\n",
              "    }\n",
              "\n",
              "    .dataframe tbody tr th {\n",
              "        vertical-align: top;\n",
              "    }\n",
              "\n",
              "    .dataframe thead th {\n",
              "        text-align: right;\n",
              "    }\n",
              "</style>\n",
              "<table border=\"1\" class=\"dataframe\">\n",
              "  <thead>\n",
              "    <tr style=\"text-align: right;\">\n",
              "      <th></th>\n",
              "      <th>Ekspor</th>\n",
              "      <th>Cadangan Devisa</th>\n",
              "      <th>IHSG</th>\n",
              "      <th>Selisih Pinjaman dan Simpanan</th>\n",
              "      <th>Suku Bunga Simpanan Riil</th>\n",
              "      <th>Selisih BI Rate Riil dan FED Rate Riil</th>\n",
              "      <th>Simpanan bank</th>\n",
              "      <th>Nilai Tukar Riil</th>\n",
              "      <th>Nilai Tukar Perdagangan</th>\n",
              "      <th>M1</th>\n",
              "      <th>M2/Cadangan Devisa</th>\n",
              "      <th>M2M</th>\n",
              "      <th>Krisis</th>\n",
              "    </tr>\n",
              "  </thead>\n",
              "  <tbody>\n",
              "    <tr>\n",
              "      <th>0</th>\n",
              "      <td>1845.2</td>\n",
              "      <td>6068.20</td>\n",
              "      <td>504.27</td>\n",
              "      <td>1.24</td>\n",
              "      <td>15.56</td>\n",
              "      <td>4.36</td>\n",
              "      <td>14.567329</td>\n",
              "      <td>376.63</td>\n",
              "      <td>1.2366</td>\n",
              "      <td>10.66</td>\n",
              "      <td>0.0055</td>\n",
              "      <td>6.46</td>\n",
              "      <td>1</td>\n",
              "    </tr>\n",
              "    <tr>\n",
              "      <th>1</th>\n",
              "      <td>2055.0</td>\n",
              "      <td>6259.10</td>\n",
              "      <td>612.20</td>\n",
              "      <td>1.24</td>\n",
              "      <td>16.63</td>\n",
              "      <td>5.83</td>\n",
              "      <td>16.707625</td>\n",
              "      <td>375.39</td>\n",
              "      <td>1.2129</td>\n",
              "      <td>12.15</td>\n",
              "      <td>0.0056</td>\n",
              "      <td>6.16</td>\n",
              "      <td>1</td>\n",
              "    </tr>\n",
              "    <tr>\n",
              "      <th>2</th>\n",
              "      <td>1750.0</td>\n",
              "      <td>5767.50</td>\n",
              "      <td>624.33</td>\n",
              "      <td>1.22</td>\n",
              "      <td>14.77</td>\n",
              "      <td>7.92</td>\n",
              "      <td>16.067787</td>\n",
              "      <td>388.69</td>\n",
              "      <td>1.0374</td>\n",
              "      <td>12.58</td>\n",
              "      <td>0.0066</td>\n",
              "      <td>6.77</td>\n",
              "      <td>0</td>\n",
              "    </tr>\n",
              "    <tr>\n",
              "      <th>3</th>\n",
              "      <td>1812.0</td>\n",
              "      <td>6392.70</td>\n",
              "      <td>614.41</td>\n",
              "      <td>1.19</td>\n",
              "      <td>14.29</td>\n",
              "      <td>7.91</td>\n",
              "      <td>16.274743</td>\n",
              "      <td>396.82</td>\n",
              "      <td>1.0315</td>\n",
              "      <td>12.23</td>\n",
              "      <td>0.0060</td>\n",
              "      <td>7.04</td>\n",
              "      <td>0</td>\n",
              "    </tr>\n",
              "    <tr>\n",
              "      <th>4</th>\n",
              "      <td>2124.0</td>\n",
              "      <td>6615.60</td>\n",
              "      <td>556.34</td>\n",
              "      <td>1.18</td>\n",
              "      <td>16.66</td>\n",
              "      <td>9.74</td>\n",
              "      <td>16.913348</td>\n",
              "      <td>397.52</td>\n",
              "      <td>1.0400</td>\n",
              "      <td>12.08</td>\n",
              "      <td>0.0060</td>\n",
              "      <td>6.76</td>\n",
              "      <td>0</td>\n",
              "    </tr>\n",
              "    <tr>\n",
              "      <th>...</th>\n",
              "      <td>...</td>\n",
              "      <td>...</td>\n",
              "      <td>...</td>\n",
              "      <td>...</td>\n",
              "      <td>...</td>\n",
              "      <td>...</td>\n",
              "      <td>...</td>\n",
              "      <td>...</td>\n",
              "      <td>...</td>\n",
              "      <td>...</td>\n",
              "      <td>...</td>\n",
              "      <td>...</td>\n",
              "      <td>...</td>\n",
              "    </tr>\n",
              "    <tr>\n",
              "      <th>265</th>\n",
              "      <td>13927.9</td>\n",
              "      <td>120075.16</td>\n",
              "      <td>6532.97</td>\n",
              "      <td>1.52</td>\n",
              "      <td>6.58</td>\n",
              "      <td>3.49</td>\n",
              "      <td>328.414357</td>\n",
              "      <td>18191.69</td>\n",
              "      <td>0.9291</td>\n",
              "      <td>97.89</td>\n",
              "      <td>0.0033</td>\n",
              "      <td>5.61</td>\n",
              "      <td>0</td>\n",
              "    </tr>\n",
              "    <tr>\n",
              "      <th>266</th>\n",
              "      <td>12555.9</td>\n",
              "      <td>123273.87</td>\n",
              "      <td>6443.35</td>\n",
              "      <td>1.53</td>\n",
              "      <td>6.99</td>\n",
              "      <td>4.13</td>\n",
              "      <td>330.319123</td>\n",
              "      <td>18087.59</td>\n",
              "      <td>1.0270</td>\n",
              "      <td>98.64</td>\n",
              "      <td>0.0033</td>\n",
              "      <td>5.77</td>\n",
              "      <td>0</td>\n",
              "    </tr>\n",
              "    <tr>\n",
              "      <th>267</th>\n",
              "      <td>14121.9</td>\n",
              "      <td>124539.31</td>\n",
              "      <td>6468.76</td>\n",
              "      <td>1.53</td>\n",
              "      <td>6.74</td>\n",
              "      <td>4.08</td>\n",
              "      <td>328.479665</td>\n",
              "      <td>18239.04</td>\n",
              "      <td>1.0499</td>\n",
              "      <td>100.14</td>\n",
              "      <td>0.0032</td>\n",
              "      <td>5.78</td>\n",
              "      <td>0</td>\n",
              "    </tr>\n",
              "    <tr>\n",
              "      <th>268</th>\n",
              "      <td>13112.7</td>\n",
              "      <td>124293.82</td>\n",
              "      <td>6455.35</td>\n",
              "      <td>1.54</td>\n",
              "      <td>6.39</td>\n",
              "      <td>3.72</td>\n",
              "      <td>330.069829</td>\n",
              "      <td>18186.00</td>\n",
              "      <td>0.8515</td>\n",
              "      <td>102.12</td>\n",
              "      <td>0.0033</td>\n",
              "      <td>5.66</td>\n",
              "      <td>0</td>\n",
              "    </tr>\n",
              "    <tr>\n",
              "      <th>269</th>\n",
              "      <td>14825.2</td>\n",
              "      <td>120347.15</td>\n",
              "      <td>6209.12</td>\n",
              "      <td>1.54</td>\n",
              "      <td>6.11</td>\n",
              "      <td>3.16</td>\n",
              "      <td>330.612337</td>\n",
              "      <td>18489.54</td>\n",
              "      <td>1.0150</td>\n",
              "      <td>104.84</td>\n",
              "      <td>0.0034</td>\n",
              "      <td>5.11</td>\n",
              "      <td>0</td>\n",
              "    </tr>\n",
              "  </tbody>\n",
              "</table>\n",
              "<p>270 rows × 13 columns</p>\n",
              "</div>\n",
              "      <button class=\"colab-df-convert\" onclick=\"convertToInteractive('df-70e9e4bc-aac8-4aa2-bf34-b01d93469c66')\"\n",
              "              title=\"Convert this dataframe to an interactive table.\"\n",
              "              style=\"display:none;\">\n",
              "        \n",
              "  <svg xmlns=\"http://www.w3.org/2000/svg\" height=\"24px\"viewBox=\"0 0 24 24\"\n",
              "       width=\"24px\">\n",
              "    <path d=\"M0 0h24v24H0V0z\" fill=\"none\"/>\n",
              "    <path d=\"M18.56 5.44l.94 2.06.94-2.06 2.06-.94-2.06-.94-.94-2.06-.94 2.06-2.06.94zm-11 1L8.5 8.5l.94-2.06 2.06-.94-2.06-.94L8.5 2.5l-.94 2.06-2.06.94zm10 10l.94 2.06.94-2.06 2.06-.94-2.06-.94-.94-2.06-.94 2.06-2.06.94z\"/><path d=\"M17.41 7.96l-1.37-1.37c-.4-.4-.92-.59-1.43-.59-.52 0-1.04.2-1.43.59L10.3 9.45l-7.72 7.72c-.78.78-.78 2.05 0 2.83L4 21.41c.39.39.9.59 1.41.59.51 0 1.02-.2 1.41-.59l7.78-7.78 2.81-2.81c.8-.78.8-2.07 0-2.86zM5.41 20L4 18.59l7.72-7.72 1.47 1.35L5.41 20z\"/>\n",
              "  </svg>\n",
              "      </button>\n",
              "      \n",
              "  <style>\n",
              "    .colab-df-container {\n",
              "      display:flex;\n",
              "      flex-wrap:wrap;\n",
              "      gap: 12px;\n",
              "    }\n",
              "\n",
              "    .colab-df-convert {\n",
              "      background-color: #E8F0FE;\n",
              "      border: none;\n",
              "      border-radius: 50%;\n",
              "      cursor: pointer;\n",
              "      display: none;\n",
              "      fill: #1967D2;\n",
              "      height: 32px;\n",
              "      padding: 0 0 0 0;\n",
              "      width: 32px;\n",
              "    }\n",
              "\n",
              "    .colab-df-convert:hover {\n",
              "      background-color: #E2EBFA;\n",
              "      box-shadow: 0px 1px 2px rgba(60, 64, 67, 0.3), 0px 1px 3px 1px rgba(60, 64, 67, 0.15);\n",
              "      fill: #174EA6;\n",
              "    }\n",
              "\n",
              "    [theme=dark] .colab-df-convert {\n",
              "      background-color: #3B4455;\n",
              "      fill: #D2E3FC;\n",
              "    }\n",
              "\n",
              "    [theme=dark] .colab-df-convert:hover {\n",
              "      background-color: #434B5C;\n",
              "      box-shadow: 0px 1px 3px 1px rgba(0, 0, 0, 0.15);\n",
              "      filter: drop-shadow(0px 1px 2px rgba(0, 0, 0, 0.3));\n",
              "      fill: #FFFFFF;\n",
              "    }\n",
              "  </style>\n",
              "\n",
              "      <script>\n",
              "        const buttonEl =\n",
              "          document.querySelector('#df-70e9e4bc-aac8-4aa2-bf34-b01d93469c66 button.colab-df-convert');\n",
              "        buttonEl.style.display =\n",
              "          google.colab.kernel.accessAllowed ? 'block' : 'none';\n",
              "\n",
              "        async function convertToInteractive(key) {\n",
              "          const element = document.querySelector('#df-70e9e4bc-aac8-4aa2-bf34-b01d93469c66');\n",
              "          const dataTable =\n",
              "            await google.colab.kernel.invokeFunction('convertToInteractive',\n",
              "                                                     [key], {});\n",
              "          if (!dataTable) return;\n",
              "\n",
              "          const docLinkHtml = 'Like what you see? Visit the ' +\n",
              "            '<a target=\"_blank\" href=https://colab.research.google.com/notebooks/data_table.ipynb>data table notebook</a>'\n",
              "            + ' to learn more about interactive tables.';\n",
              "          element.innerHTML = '';\n",
              "          dataTable['output_type'] = 'display_data';\n",
              "          await google.colab.output.renderOutput(dataTable, element);\n",
              "          const docLink = document.createElement('div');\n",
              "          docLink.innerHTML = docLinkHtml;\n",
              "          element.appendChild(docLink);\n",
              "        }\n",
              "      </script>\n",
              "    </div>\n",
              "  </div>\n",
              "  "
            ]
          },
          "metadata": {},
          "execution_count": 142
        }
      ]
    },
    {
      "cell_type": "markdown",
      "source": [
        "##Pick the potential variable"
      ],
      "metadata": {
        "id": "k2J04gRBdY8L"
      }
    },
    {
      "cell_type": "code",
      "source": [
        "# check correlation matrix of df_data\n",
        "df_data.corr()"
      ],
      "metadata": {
        "colab": {
          "base_uri": "https://localhost:8080/",
          "height": 623
        },
        "id": "InXC1MgFOEWH",
        "outputId": "50f621a7-b024-4333-f19a-69628dfc72d5"
      },
      "execution_count": null,
      "outputs": [
        {
          "output_type": "execute_result",
          "data": {
            "text/plain": [
              "                                          Ekspor  Cadangan Devisa      IHSG  \\\n",
              "Ekspor                                  1.000000         0.950518  0.900430   \n",
              "Cadangan Devisa                         0.950518         1.000000  0.971074   \n",
              "IHSG                                    0.900430         0.971074  1.000000   \n",
              "Selisih Pinjaman dan Simpanan           0.605253         0.552219  0.487059   \n",
              "Suku Bunga Simpanan Riil               -0.748931        -0.711494 -0.661355   \n",
              "Selisih BI Rate Riil dan FED Rate Riil -0.521133        -0.484068 -0.516725   \n",
              "Simpanan bank                           0.924782         0.984193  0.982876   \n",
              "Nilai Tukar Riil                        0.832795         0.909931  0.901753   \n",
              "Nilai Tukar Perdagangan                -0.516238        -0.527937 -0.605552   \n",
              "M1                                      0.926921         0.978206  0.985472   \n",
              "M2/Cadangan Devisa                     -0.565709        -0.556156 -0.428210   \n",
              "M2M                                    -0.860302        -0.805006 -0.771569   \n",
              "Krisis                                 -0.079043        -0.175155 -0.145732   \n",
              "\n",
              "                                        Selisih Pinjaman dan Simpanan  \\\n",
              "Ekspor                                                       0.605253   \n",
              "Cadangan Devisa                                              0.552219   \n",
              "IHSG                                                         0.487059   \n",
              "Selisih Pinjaman dan Simpanan                                1.000000   \n",
              "Suku Bunga Simpanan Riil                                    -0.852031   \n",
              "Selisih BI Rate Riil dan FED Rate Riil                      -0.622818   \n",
              "Simpanan bank                                                0.525385   \n",
              "Nilai Tukar Riil                                             0.485909   \n",
              "Nilai Tukar Perdagangan                                     -0.247028   \n",
              "M1                                                           0.538413   \n",
              "M2/Cadangan Devisa                                          -0.447082   \n",
              "M2M                                                         -0.679202   \n",
              "Krisis                                                      -0.179407   \n",
              "\n",
              "                                        Suku Bunga Simpanan Riil  \\\n",
              "Ekspor                                                 -0.748931   \n",
              "Cadangan Devisa                                        -0.711494   \n",
              "IHSG                                                   -0.661355   \n",
              "Selisih Pinjaman dan Simpanan                          -0.852031   \n",
              "Suku Bunga Simpanan Riil                                1.000000   \n",
              "Selisih BI Rate Riil dan FED Rate Riil                  0.776219   \n",
              "Simpanan bank                                          -0.694343   \n",
              "Nilai Tukar Riil                                       -0.717562   \n",
              "Nilai Tukar Perdagangan                                 0.256960   \n",
              "M1                                                     -0.695067   \n",
              "M2/Cadangan Devisa                                      0.570092   \n",
              "M2M                                                     0.811994   \n",
              "Krisis                                                  0.192698   \n",
              "\n",
              "                                        Selisih BI Rate Riil dan FED Rate Riil  \\\n",
              "Ekspor                                                               -0.521133   \n",
              "Cadangan Devisa                                                      -0.484068   \n",
              "IHSG                                                                 -0.516725   \n",
              "Selisih Pinjaman dan Simpanan                                        -0.622818   \n",
              "Suku Bunga Simpanan Riil                                              0.776219   \n",
              "Selisih BI Rate Riil dan FED Rate Riil                                1.000000   \n",
              "Simpanan bank                                                        -0.526840   \n",
              "Nilai Tukar Riil                                                     -0.468733   \n",
              "Nilai Tukar Perdagangan                                               0.275567   \n",
              "M1                                                                   -0.533425   \n",
              "M2/Cadangan Devisa                                                    0.195541   \n",
              "M2M                                                                   0.592545   \n",
              "Krisis                                                               -0.103047   \n",
              "\n",
              "                                        Simpanan bank   Nilai Tukar Riil  \\\n",
              "Ekspor                                        0.924782          0.832795   \n",
              "Cadangan Devisa                               0.984193          0.909931   \n",
              "IHSG                                          0.982876          0.901753   \n",
              "Selisih Pinjaman dan Simpanan                 0.525385          0.485909   \n",
              "Suku Bunga Simpanan Riil                     -0.694343         -0.717562   \n",
              "Selisih BI Rate Riil dan FED Rate Riil       -0.526840         -0.468733   \n",
              "Simpanan bank                                 1.000000          0.899530   \n",
              "Nilai Tukar Riil                              0.899530          1.000000   \n",
              "Nilai Tukar Perdagangan                      -0.575413         -0.384962   \n",
              "M1                                            0.993689          0.888197   \n",
              "M2/Cadangan Devisa                           -0.444784         -0.658112   \n",
              "M2M                                          -0.768863         -0.777999   \n",
              "Krisis                                       -0.148633         -0.186909   \n",
              "\n",
              "                                        Nilai Tukar Perdagangan        M1  \\\n",
              "Ekspor                                                -0.516238  0.926921   \n",
              "Cadangan Devisa                                       -0.527937  0.978206   \n",
              "IHSG                                                  -0.605552  0.985472   \n",
              "Selisih Pinjaman dan Simpanan                         -0.247028  0.538413   \n",
              "Suku Bunga Simpanan Riil                               0.256960 -0.695067   \n",
              "Selisih BI Rate Riil dan FED Rate Riil                 0.275567 -0.533425   \n",
              "Simpanan bank                                         -0.575413  0.993689   \n",
              "Nilai Tukar Riil                                      -0.384962  0.888197   \n",
              "Nilai Tukar Perdagangan                                1.000000 -0.610475   \n",
              "M1                                                    -0.610475  1.000000   \n",
              "M2/Cadangan Devisa                                    -0.130584 -0.415214   \n",
              "M2M                                                    0.447065 -0.784497   \n",
              "Krisis                                                -0.079604 -0.133496   \n",
              "\n",
              "                                        M2/Cadangan Devisa       M2M    Krisis  \n",
              "Ekspor                                           -0.565709 -0.860302 -0.079043  \n",
              "Cadangan Devisa                                  -0.556156 -0.805006 -0.175155  \n",
              "IHSG                                             -0.428210 -0.771569 -0.145732  \n",
              "Selisih Pinjaman dan Simpanan                    -0.447082 -0.679202 -0.179407  \n",
              "Suku Bunga Simpanan Riil                          0.570092  0.811994  0.192698  \n",
              "Selisih BI Rate Riil dan FED Rate Riil            0.195541  0.592545 -0.103047  \n",
              "Simpanan bank                                    -0.444784 -0.768863 -0.148633  \n",
              "Nilai Tukar Riil                                 -0.658112 -0.777999 -0.186909  \n",
              "Nilai Tukar Perdagangan                          -0.130584  0.447065 -0.079604  \n",
              "M1                                               -0.415214 -0.784497 -0.133496  \n",
              "M2/Cadangan Devisa                                1.000000  0.562119  0.177650  \n",
              "M2M                                               0.562119  1.000000  0.110568  \n",
              "Krisis                                            0.177650  0.110568  1.000000  "
            ],
            "text/html": [
              "\n",
              "  <div id=\"df-851b24f3-918a-4309-86f2-fd7c7d912078\">\n",
              "    <div class=\"colab-df-container\">\n",
              "      <div>\n",
              "<style scoped>\n",
              "    .dataframe tbody tr th:only-of-type {\n",
              "        vertical-align: middle;\n",
              "    }\n",
              "\n",
              "    .dataframe tbody tr th {\n",
              "        vertical-align: top;\n",
              "    }\n",
              "\n",
              "    .dataframe thead th {\n",
              "        text-align: right;\n",
              "    }\n",
              "</style>\n",
              "<table border=\"1\" class=\"dataframe\">\n",
              "  <thead>\n",
              "    <tr style=\"text-align: right;\">\n",
              "      <th></th>\n",
              "      <th>Ekspor</th>\n",
              "      <th>Cadangan Devisa</th>\n",
              "      <th>IHSG</th>\n",
              "      <th>Selisih Pinjaman dan Simpanan</th>\n",
              "      <th>Suku Bunga Simpanan Riil</th>\n",
              "      <th>Selisih BI Rate Riil dan FED Rate Riil</th>\n",
              "      <th>Simpanan bank</th>\n",
              "      <th>Nilai Tukar Riil</th>\n",
              "      <th>Nilai Tukar Perdagangan</th>\n",
              "      <th>M1</th>\n",
              "      <th>M2/Cadangan Devisa</th>\n",
              "      <th>M2M</th>\n",
              "      <th>Krisis</th>\n",
              "    </tr>\n",
              "  </thead>\n",
              "  <tbody>\n",
              "    <tr>\n",
              "      <th>Ekspor</th>\n",
              "      <td>1.000000</td>\n",
              "      <td>0.950518</td>\n",
              "      <td>0.900430</td>\n",
              "      <td>0.605253</td>\n",
              "      <td>-0.748931</td>\n",
              "      <td>-0.521133</td>\n",
              "      <td>0.924782</td>\n",
              "      <td>0.832795</td>\n",
              "      <td>-0.516238</td>\n",
              "      <td>0.926921</td>\n",
              "      <td>-0.565709</td>\n",
              "      <td>-0.860302</td>\n",
              "      <td>-0.079043</td>\n",
              "    </tr>\n",
              "    <tr>\n",
              "      <th>Cadangan Devisa</th>\n",
              "      <td>0.950518</td>\n",
              "      <td>1.000000</td>\n",
              "      <td>0.971074</td>\n",
              "      <td>0.552219</td>\n",
              "      <td>-0.711494</td>\n",
              "      <td>-0.484068</td>\n",
              "      <td>0.984193</td>\n",
              "      <td>0.909931</td>\n",
              "      <td>-0.527937</td>\n",
              "      <td>0.978206</td>\n",
              "      <td>-0.556156</td>\n",
              "      <td>-0.805006</td>\n",
              "      <td>-0.175155</td>\n",
              "    </tr>\n",
              "    <tr>\n",
              "      <th>IHSG</th>\n",
              "      <td>0.900430</td>\n",
              "      <td>0.971074</td>\n",
              "      <td>1.000000</td>\n",
              "      <td>0.487059</td>\n",
              "      <td>-0.661355</td>\n",
              "      <td>-0.516725</td>\n",
              "      <td>0.982876</td>\n",
              "      <td>0.901753</td>\n",
              "      <td>-0.605552</td>\n",
              "      <td>0.985472</td>\n",
              "      <td>-0.428210</td>\n",
              "      <td>-0.771569</td>\n",
              "      <td>-0.145732</td>\n",
              "    </tr>\n",
              "    <tr>\n",
              "      <th>Selisih Pinjaman dan Simpanan</th>\n",
              "      <td>0.605253</td>\n",
              "      <td>0.552219</td>\n",
              "      <td>0.487059</td>\n",
              "      <td>1.000000</td>\n",
              "      <td>-0.852031</td>\n",
              "      <td>-0.622818</td>\n",
              "      <td>0.525385</td>\n",
              "      <td>0.485909</td>\n",
              "      <td>-0.247028</td>\n",
              "      <td>0.538413</td>\n",
              "      <td>-0.447082</td>\n",
              "      <td>-0.679202</td>\n",
              "      <td>-0.179407</td>\n",
              "    </tr>\n",
              "    <tr>\n",
              "      <th>Suku Bunga Simpanan Riil</th>\n",
              "      <td>-0.748931</td>\n",
              "      <td>-0.711494</td>\n",
              "      <td>-0.661355</td>\n",
              "      <td>-0.852031</td>\n",
              "      <td>1.000000</td>\n",
              "      <td>0.776219</td>\n",
              "      <td>-0.694343</td>\n",
              "      <td>-0.717562</td>\n",
              "      <td>0.256960</td>\n",
              "      <td>-0.695067</td>\n",
              "      <td>0.570092</td>\n",
              "      <td>0.811994</td>\n",
              "      <td>0.192698</td>\n",
              "    </tr>\n",
              "    <tr>\n",
              "      <th>Selisih BI Rate Riil dan FED Rate Riil</th>\n",
              "      <td>-0.521133</td>\n",
              "      <td>-0.484068</td>\n",
              "      <td>-0.516725</td>\n",
              "      <td>-0.622818</td>\n",
              "      <td>0.776219</td>\n",
              "      <td>1.000000</td>\n",
              "      <td>-0.526840</td>\n",
              "      <td>-0.468733</td>\n",
              "      <td>0.275567</td>\n",
              "      <td>-0.533425</td>\n",
              "      <td>0.195541</td>\n",
              "      <td>0.592545</td>\n",
              "      <td>-0.103047</td>\n",
              "    </tr>\n",
              "    <tr>\n",
              "      <th>Simpanan bank</th>\n",
              "      <td>0.924782</td>\n",
              "      <td>0.984193</td>\n",
              "      <td>0.982876</td>\n",
              "      <td>0.525385</td>\n",
              "      <td>-0.694343</td>\n",
              "      <td>-0.526840</td>\n",
              "      <td>1.000000</td>\n",
              "      <td>0.899530</td>\n",
              "      <td>-0.575413</td>\n",
              "      <td>0.993689</td>\n",
              "      <td>-0.444784</td>\n",
              "      <td>-0.768863</td>\n",
              "      <td>-0.148633</td>\n",
              "    </tr>\n",
              "    <tr>\n",
              "      <th>Nilai Tukar Riil</th>\n",
              "      <td>0.832795</td>\n",
              "      <td>0.909931</td>\n",
              "      <td>0.901753</td>\n",
              "      <td>0.485909</td>\n",
              "      <td>-0.717562</td>\n",
              "      <td>-0.468733</td>\n",
              "      <td>0.899530</td>\n",
              "      <td>1.000000</td>\n",
              "      <td>-0.384962</td>\n",
              "      <td>0.888197</td>\n",
              "      <td>-0.658112</td>\n",
              "      <td>-0.777999</td>\n",
              "      <td>-0.186909</td>\n",
              "    </tr>\n",
              "    <tr>\n",
              "      <th>Nilai Tukar Perdagangan</th>\n",
              "      <td>-0.516238</td>\n",
              "      <td>-0.527937</td>\n",
              "      <td>-0.605552</td>\n",
              "      <td>-0.247028</td>\n",
              "      <td>0.256960</td>\n",
              "      <td>0.275567</td>\n",
              "      <td>-0.575413</td>\n",
              "      <td>-0.384962</td>\n",
              "      <td>1.000000</td>\n",
              "      <td>-0.610475</td>\n",
              "      <td>-0.130584</td>\n",
              "      <td>0.447065</td>\n",
              "      <td>-0.079604</td>\n",
              "    </tr>\n",
              "    <tr>\n",
              "      <th>M1</th>\n",
              "      <td>0.926921</td>\n",
              "      <td>0.978206</td>\n",
              "      <td>0.985472</td>\n",
              "      <td>0.538413</td>\n",
              "      <td>-0.695067</td>\n",
              "      <td>-0.533425</td>\n",
              "      <td>0.993689</td>\n",
              "      <td>0.888197</td>\n",
              "      <td>-0.610475</td>\n",
              "      <td>1.000000</td>\n",
              "      <td>-0.415214</td>\n",
              "      <td>-0.784497</td>\n",
              "      <td>-0.133496</td>\n",
              "    </tr>\n",
              "    <tr>\n",
              "      <th>M2/Cadangan Devisa</th>\n",
              "      <td>-0.565709</td>\n",
              "      <td>-0.556156</td>\n",
              "      <td>-0.428210</td>\n",
              "      <td>-0.447082</td>\n",
              "      <td>0.570092</td>\n",
              "      <td>0.195541</td>\n",
              "      <td>-0.444784</td>\n",
              "      <td>-0.658112</td>\n",
              "      <td>-0.130584</td>\n",
              "      <td>-0.415214</td>\n",
              "      <td>1.000000</td>\n",
              "      <td>0.562119</td>\n",
              "      <td>0.177650</td>\n",
              "    </tr>\n",
              "    <tr>\n",
              "      <th>M2M</th>\n",
              "      <td>-0.860302</td>\n",
              "      <td>-0.805006</td>\n",
              "      <td>-0.771569</td>\n",
              "      <td>-0.679202</td>\n",
              "      <td>0.811994</td>\n",
              "      <td>0.592545</td>\n",
              "      <td>-0.768863</td>\n",
              "      <td>-0.777999</td>\n",
              "      <td>0.447065</td>\n",
              "      <td>-0.784497</td>\n",
              "      <td>0.562119</td>\n",
              "      <td>1.000000</td>\n",
              "      <td>0.110568</td>\n",
              "    </tr>\n",
              "    <tr>\n",
              "      <th>Krisis</th>\n",
              "      <td>-0.079043</td>\n",
              "      <td>-0.175155</td>\n",
              "      <td>-0.145732</td>\n",
              "      <td>-0.179407</td>\n",
              "      <td>0.192698</td>\n",
              "      <td>-0.103047</td>\n",
              "      <td>-0.148633</td>\n",
              "      <td>-0.186909</td>\n",
              "      <td>-0.079604</td>\n",
              "      <td>-0.133496</td>\n",
              "      <td>0.177650</td>\n",
              "      <td>0.110568</td>\n",
              "      <td>1.000000</td>\n",
              "    </tr>\n",
              "  </tbody>\n",
              "</table>\n",
              "</div>\n",
              "      <button class=\"colab-df-convert\" onclick=\"convertToInteractive('df-851b24f3-918a-4309-86f2-fd7c7d912078')\"\n",
              "              title=\"Convert this dataframe to an interactive table.\"\n",
              "              style=\"display:none;\">\n",
              "        \n",
              "  <svg xmlns=\"http://www.w3.org/2000/svg\" height=\"24px\"viewBox=\"0 0 24 24\"\n",
              "       width=\"24px\">\n",
              "    <path d=\"M0 0h24v24H0V0z\" fill=\"none\"/>\n",
              "    <path d=\"M18.56 5.44l.94 2.06.94-2.06 2.06-.94-2.06-.94-.94-2.06-.94 2.06-2.06.94zm-11 1L8.5 8.5l.94-2.06 2.06-.94-2.06-.94L8.5 2.5l-.94 2.06-2.06.94zm10 10l.94 2.06.94-2.06 2.06-.94-2.06-.94-.94-2.06-.94 2.06-2.06.94z\"/><path d=\"M17.41 7.96l-1.37-1.37c-.4-.4-.92-.59-1.43-.59-.52 0-1.04.2-1.43.59L10.3 9.45l-7.72 7.72c-.78.78-.78 2.05 0 2.83L4 21.41c.39.39.9.59 1.41.59.51 0 1.02-.2 1.41-.59l7.78-7.78 2.81-2.81c.8-.78.8-2.07 0-2.86zM5.41 20L4 18.59l7.72-7.72 1.47 1.35L5.41 20z\"/>\n",
              "  </svg>\n",
              "      </button>\n",
              "      \n",
              "  <style>\n",
              "    .colab-df-container {\n",
              "      display:flex;\n",
              "      flex-wrap:wrap;\n",
              "      gap: 12px;\n",
              "    }\n",
              "\n",
              "    .colab-df-convert {\n",
              "      background-color: #E8F0FE;\n",
              "      border: none;\n",
              "      border-radius: 50%;\n",
              "      cursor: pointer;\n",
              "      display: none;\n",
              "      fill: #1967D2;\n",
              "      height: 32px;\n",
              "      padding: 0 0 0 0;\n",
              "      width: 32px;\n",
              "    }\n",
              "\n",
              "    .colab-df-convert:hover {\n",
              "      background-color: #E2EBFA;\n",
              "      box-shadow: 0px 1px 2px rgba(60, 64, 67, 0.3), 0px 1px 3px 1px rgba(60, 64, 67, 0.15);\n",
              "      fill: #174EA6;\n",
              "    }\n",
              "\n",
              "    [theme=dark] .colab-df-convert {\n",
              "      background-color: #3B4455;\n",
              "      fill: #D2E3FC;\n",
              "    }\n",
              "\n",
              "    [theme=dark] .colab-df-convert:hover {\n",
              "      background-color: #434B5C;\n",
              "      box-shadow: 0px 1px 3px 1px rgba(0, 0, 0, 0.15);\n",
              "      filter: drop-shadow(0px 1px 2px rgba(0, 0, 0, 0.3));\n",
              "      fill: #FFFFFF;\n",
              "    }\n",
              "  </style>\n",
              "\n",
              "      <script>\n",
              "        const buttonEl =\n",
              "          document.querySelector('#df-851b24f3-918a-4309-86f2-fd7c7d912078 button.colab-df-convert');\n",
              "        buttonEl.style.display =\n",
              "          google.colab.kernel.accessAllowed ? 'block' : 'none';\n",
              "\n",
              "        async function convertToInteractive(key) {\n",
              "          const element = document.querySelector('#df-851b24f3-918a-4309-86f2-fd7c7d912078');\n",
              "          const dataTable =\n",
              "            await google.colab.kernel.invokeFunction('convertToInteractive',\n",
              "                                                     [key], {});\n",
              "          if (!dataTable) return;\n",
              "\n",
              "          const docLinkHtml = 'Like what you see? Visit the ' +\n",
              "            '<a target=\"_blank\" href=https://colab.research.google.com/notebooks/data_table.ipynb>data table notebook</a>'\n",
              "            + ' to learn more about interactive tables.';\n",
              "          element.innerHTML = '';\n",
              "          dataTable['output_type'] = 'display_data';\n",
              "          await google.colab.output.renderOutput(dataTable, element);\n",
              "          const docLink = document.createElement('div');\n",
              "          docLink.innerHTML = docLinkHtml;\n",
              "          element.appendChild(docLink);\n",
              "        }\n",
              "      </script>\n",
              "    </div>\n",
              "  </div>\n",
              "  "
            ]
          },
          "metadata": {},
          "execution_count": 143
        }
      ]
    },
    {
      "cell_type": "code",
      "source": [
        "#visualize with heatmap\n",
        "plt.figure(figsize=(16,5))\n",
        "sns.heatmap(df_data.corr(), annot=True)"
      ],
      "metadata": {
        "colab": {
          "base_uri": "https://localhost:8080/",
          "height": 510
        },
        "id": "qXCWzuTwOU9M",
        "outputId": "03882935-ff83-461a-e0b6-1bb7df6510ff"
      },
      "execution_count": null,
      "outputs": [
        {
          "output_type": "execute_result",
          "data": {
            "text/plain": [
              "<matplotlib.axes._subplots.AxesSubplot at 0x7fb2cf27ac50>"
            ]
          },
          "metadata": {},
          "execution_count": 144
        },
        {
          "output_type": "display_data",
          "data": {
            "text/plain": [
              "<Figure size 1152x360 with 2 Axes>"
            ],
            "image/png": "[encoded data removed]"
          },
          "metadata": {
            "needs_background": "light"
          }
        }
      ]
    },
    {
      "cell_type": "markdown",
      "source": [
        "We found that M2/Cadangan Devisa, M2M, and Suku Bunga Simpanan Riil have positive impact on Krisis. So, the currently hypotesis are the higher those of number, the higher probability to Crisis.\n",
        "\n",
        "So we try to use those of variable to explore more"
      ],
      "metadata": {
        "id": "ujizYbA4X6v6"
      }
    },
    {
      "cell_type": "code",
      "source": [
        "sns.pointplot(y=df_data['M2M'] , x= df_data['Krisis'])\n",
        "plt.title('M2M vs. Crisis')\n",
        "plt.show()\n",
        "\n",
        "sns.pointplot(y=df_data['M2/Cadangan Devisa'] , x= df_data['Krisis'])\n",
        "plt.title('M2 vs. Crisis')\n",
        "plt.show()\n",
        "\n",
        "sns.pointplot(y=df_data['Suku Bunga Simpanan Riil'] , x= df_data['Krisis'])\n",
        "plt.title('Suku Bunga Simpanan Riil vs. Crisis')\n",
        "plt.show()"
      ],
      "metadata": {
        "colab": {
          "base_uri": "https://localhost:8080/",
          "height": 851
        },
        "id": "8vRm7li3bY01",
        "outputId": "12525fd8-fab5-4684-85de-c34bab9a18cd"
      },
      "execution_count": null,
      "outputs": [
        {
          "output_type": "display_data",
          "data": {
            "text/plain": [
              "<Figure size 432x288 with 1 Axes>"
            ],
            "image/png": "[encoded data removed]"
          },
          "metadata": {
            "needs_background": "light"
          }
        },
        {
          "output_type": "display_data",
          "data": {
            "text/plain": [
              "<Figure size 432x288 with 1 Axes>"
            ],
            "image/png": "[encoded data removed]"
          },
          "metadata": {
            "needs_background": "light"
          }
        },
        {
          "output_type": "display_data",
          "data": {
            "text/plain": [
              "<Figure size 432x288 with 1 Axes>"
            ],
            "image/png": "[encoded data removed]"
          },
          "metadata": {
            "needs_background": "light"
          }
        }
      ]
    },
    {
      "cell_type": "markdown",
      "source": [
        "The condition with crisis have a higher those variabel"
      ],
      "metadata": {
        "id": "5g3Km2QsbiES"
      }
    },
    {
      "cell_type": "code",
      "source": [
        "sns.regplot(data=df_data, y='Krisis', x='M2M')\n",
        "plt.show()\n",
        "\n",
        "sns.regplot(data=df_data, y='Krisis', x='M2/Cadangan Devisa')\n",
        "plt.show()\n",
        "\n",
        "sns.regplot(data=df_data, y='Krisis', x='Suku Bunga Simpanan Riil')\n",
        "plt.show()"
      ],
      "metadata": {
        "colab": {
          "base_uri": "https://localhost:8080/",
          "height": 803
        },
        "id": "mjMQIx1vcYGm",
        "outputId": "8c577148-b0fb-470f-d418-479b0ad4cd48"
      },
      "execution_count": null,
      "outputs": [
        {
          "output_type": "display_data",
          "data": {
            "text/plain": [
              "<Figure size 432x288 with 1 Axes>"
            ],
            "image/png": "[encoded data removed]"
          },
          "metadata": {
            "needs_background": "light"
          }
        },
        {
          "output_type": "display_data",
          "data": {
            "text/plain": [
              "<Figure size 432x288 with 1 Axes>"
            ],
            "image/png": "[encoded data removed]"
          },
          "metadata": {
            "needs_background": "light"
          }
        },
        {
          "output_type": "display_data",
          "data": {
            "text/plain": [
              "<Figure size 432x288 with 1 Axes>"
            ],
            "image/png": "[encoded data removed]"
          },
          "metadata": {
            "needs_background": "light"
          }
        }
      ]
    },
    {
      "cell_type": "markdown",
      "source": [
        "As the above plot shows, the relationship between Crises and those of variables are slighly linear. But, Suku bunga simpanan riil is more likely linear than other."
      ],
      "metadata": {
        "id": "HdTQre8zcnTK"
      }
    },
    {
      "cell_type": "code",
      "source": [
        "df_data.info()"
      ],
      "metadata": {
        "colab": {
          "base_uri": "https://localhost:8080/"
        },
        "id": "9YIJ6ePBfLqC",
        "outputId": "a2c3f4bb-c498-4fcb-fb00-ae4d81edbaf5"
      },
      "execution_count": null,
      "outputs": [
        {
          "output_type": "stream",
          "name": "stdout",
          "text": [
            "<class 'pandas.core.frame.DataFrame'>\n",
            "RangeIndex: 270 entries, 0 to 269\n",
            "Data columns (total 13 columns):\n",
            " #   Column                                  Non-Null Count  Dtype  \n",
            "---  ------                                  --------------  -----  \n",
            " 0   Ekspor                                  270 non-null    float64\n",
            " 1   Cadangan Devisa                         270 non-null    float64\n",
            " 2   IHSG                                    270 non-null    float64\n",
            " 3   Selisih Pinjaman dan Simpanan           270 non-null    float64\n",
            " 4   Suku Bunga Simpanan Riil                262 non-null    float64\n",
            " 5   Selisih BI Rate Riil dan FED Rate Riil  258 non-null    float64\n",
            " 6   Simpanan bank                           270 non-null    float64\n",
            " 7   Nilai Tukar Riil                        270 non-null    float64\n",
            " 8   Nilai Tukar Perdagangan                 269 non-null    float64\n",
            " 9   M1                                      270 non-null    float64\n",
            " 10  M2/Cadangan Devisa                      270 non-null    float64\n",
            " 11  M2M                                     269 non-null    float64\n",
            " 12  Krisis                                  270 non-null    int64  \n",
            "dtypes: float64(12), int64(1)\n",
            "memory usage: 27.5 KB\n"
          ]
        }
      ]
    },
    {
      "cell_type": "markdown",
      "source": [
        "# Train-Test Split"
      ],
      "metadata": {
        "id": "dtY64WB8PNJ1"
      }
    },
    {
      "cell_type": "code",
      "source": [
        "# drop certain columns\n",
        "df = df_data.drop(\n",
        "    ['Ekspor', 'Cadangan Devisa','IHSG','Selisih Pinjaman dan Simpanan','Suku Bunga Simpanan Riil','Selisih BI Rate Riil dan FED Rate Riil','Simpanan bank ','Nilai Tukar Riil','Nilai Tukar Perdagangan'], \n",
        "    axis = 1\n",
        ")"
      ],
      "metadata": {
        "id": "iJhe8qsLfERV"
      },
      "execution_count": null,
      "outputs": []
    },
    {
      "cell_type": "code",
      "source": [
        "#Check null\n",
        "df.isna().sum()"
      ],
      "metadata": {
        "colab": {
          "base_uri": "https://localhost:8080/"
        },
        "id": "5a3plMh_iCcf",
        "outputId": "544b73db-355d-490e-e0a0-923de783a6cb"
      },
      "execution_count": null,
      "outputs": [
        {
          "output_type": "execute_result",
          "data": {
            "text/plain": [
              "M1                    0\n",
              "M2/Cadangan Devisa    0\n",
              "M2M                   1\n",
              "Krisis                0\n",
              "dtype: int64"
            ]
          },
          "metadata": {},
          "execution_count": 149
        }
      ]
    },
    {
      "cell_type": "code",
      "source": [
        "#drop null\n",
        "df1 = df.dropna()"
      ],
      "metadata": {
        "id": "tTqO3ba0iNTk"
      },
      "execution_count": null,
      "outputs": []
    },
    {
      "cell_type": "code",
      "source": [
        "# train-test split\n",
        "y = df1['Krisis'].values\n",
        "X = df1.drop(['Krisis'], axis = 1).values"
      ],
      "metadata": {
        "id": "ro6dNMbLPPex"
      },
      "execution_count": null,
      "outputs": []
    },
    {
      "cell_type": "code",
      "source": [
        "X_train, X_test, y_train, y_test = train_test_split(\n",
        "    X,\n",
        "    y, \n",
        "    test_size=0.2,\n",
        "    stratify = y, \n",
        "    random_state=1000\n",
        ")"
      ],
      "metadata": {
        "id": "Dfe7VRrWPUZs"
      },
      "execution_count": null,
      "outputs": []
    },
    {
      "cell_type": "markdown",
      "source": [
        "#Modelling with ML"
      ],
      "metadata": {
        "id": "lpYg1ZzKgGPg"
      }
    },
    {
      "cell_type": "markdown",
      "source": [
        "##Logistic Regression"
      ],
      "metadata": {
        "id": "g79wzs24gH44"
      }
    },
    {
      "cell_type": "code",
      "source": [
        "X_train_int = sm.add_constant(X_train)\n",
        "logistic_reg_sm = sm.Logit(y_train, X_train_int).fit()"
      ],
      "metadata": {
        "colab": {
          "base_uri": "https://localhost:8080/"
        },
        "id": "jt9iX2lJjsRJ",
        "outputId": "30fc37c9-c6b6-4b49-9927-e8857f115c3b"
      },
      "execution_count": null,
      "outputs": [
        {
          "output_type": "stream",
          "name": "stdout",
          "text": [
            "Optimization terminated successfully.\n",
            "         Current function value: 0.337242\n",
            "         Iterations 7\n"
          ]
        }
      ]
    },
    {
      "cell_type": "code",
      "source": [
        "# check summary of model\n",
        "logistic_reg_sm.summary2()"
      ],
      "metadata": {
        "colab": {
          "base_uri": "https://localhost:8080/",
          "height": 289
        },
        "id": "hpqpsumGgKCJ",
        "outputId": "2528c474-11ae-4ad1-f0f7-fcb95ae26200"
      },
      "execution_count": null,
      "outputs": [
        {
          "output_type": "execute_result",
          "data": {
            "text/plain": [
              "<class 'statsmodels.iolib.summary2.Summary'>\n",
              "\"\"\"\n",
              "                        Results: Logit\n",
              "===============================================================\n",
              "Model:              Logit            Pseudo R-squared: 0.036   \n",
              "Dependent Variable: y                AIC:              153.0140\n",
              "Date:               2022-08-07 16:27 BIC:              166.4965\n",
              "No. Observations:   215              Log-Likelihood:   -72.507 \n",
              "Df Model:           3                LL-Null:          -75.230 \n",
              "Df Residuals:       211              LLR p-value:      0.14194 \n",
              "Converged:          1.0000           Scale:            1.0000  \n",
              "No. Iterations:     7.0000                                     \n",
              "----------------------------------------------------------------\n",
              "         Coef.    Std.Err.     z     P>|z|     [0.025    0.975] \n",
              "----------------------------------------------------------------\n",
              "const    -1.9051    1.8940  -1.0058  0.3145    -5.6172    1.8071\n",
              "x1       -0.0143    0.0133  -1.0750  0.2824    -0.0405    0.0118\n",
              "x2      307.4305  211.8005   1.4515  0.1466  -107.6909  722.5519\n",
              "x3       -0.1260    0.2535  -0.4969  0.6192    -0.6228    0.3709\n",
              "===============================================================\n",
              "\n",
              "\"\"\""
            ],
            "text/html": [
              "<table class=\"simpletable\">\n",
              "<tr>\n",
              "        <td>Model:</td>              <td>Logit</td>      <td>Pseudo R-squared:</td>   <td>0.036</td> \n",
              "</tr>\n",
              "<tr>\n",
              "  <td>Dependent Variable:</td>         <td>y</td>              <td>AIC:</td>        <td>153.0140</td>\n",
              "</tr>\n",
              "<tr>\n",
              "         <td>Date:</td>        <td>2022-08-07 16:27</td>       <td>BIC:</td>        <td>166.4965</td>\n",
              "</tr>\n",
              "<tr>\n",
              "   <td>No. Observations:</td>         <td>215</td>        <td>Log-Likelihood:</td>   <td>-72.507</td>\n",
              "</tr>\n",
              "<tr>\n",
              "       <td>Df Model:</td>              <td>3</td>            <td>LL-Null:</td>       <td>-75.230</td>\n",
              "</tr>\n",
              "<tr>\n",
              "     <td>Df Residuals:</td>           <td>211</td>         <td>LLR p-value:</td>     <td>0.14194</td>\n",
              "</tr>\n",
              "<tr>\n",
              "      <td>Converged:</td>           <td>1.0000</td>           <td>Scale:</td>        <td>1.0000</td> \n",
              "</tr>\n",
              "<tr>\n",
              "    <td>No. Iterations:</td>        <td>7.0000</td>              <td></td>              <td></td>    \n",
              "</tr>\n",
              "</table>\n",
              "<table class=\"simpletable\">\n",
              "<tr>\n",
              "    <td></td>      <th>Coef.</th>  <th>Std.Err.</th>    <th>z</th>     <th>P>|z|</th>  <th>[0.025</th>    <th>0.975]</th> \n",
              "</tr>\n",
              "<tr>\n",
              "  <th>const</th>  <td>-1.9051</td>  <td>1.8940</td>  <td>-1.0058</td> <td>0.3145</td>  <td>-5.6172</td>   <td>1.8071</td> \n",
              "</tr>\n",
              "<tr>\n",
              "  <th>x1</th>     <td>-0.0143</td>  <td>0.0133</td>  <td>-1.0750</td> <td>0.2824</td>  <td>-0.0405</td>   <td>0.0118</td> \n",
              "</tr>\n",
              "<tr>\n",
              "  <th>x2</th>    <td>307.4305</td> <td>211.8005</td> <td>1.4515</td>  <td>0.1466</td> <td>-107.6909</td> <td>722.5519</td>\n",
              "</tr>\n",
              "<tr>\n",
              "  <th>x3</th>     <td>-0.1260</td>  <td>0.2535</td>  <td>-0.4969</td> <td>0.6192</td>  <td>-0.6228</td>   <td>0.3709</td> \n",
              "</tr>\n",
              "</table>"
            ]
          },
          "metadata": {},
          "execution_count": 154
        }
      ]
    },
    {
      "cell_type": "code",
      "source": [
        "# check model coefficient\n",
        "logistic_reg_sm.params"
      ],
      "metadata": {
        "colab": {
          "base_uri": "https://localhost:8080/"
        },
        "id": "AjUT0iX-jyfi",
        "outputId": "30315730-14f2-4d08-b1af-2bb76ac899e8"
      },
      "execution_count": null,
      "outputs": [
        {
          "output_type": "execute_result",
          "data": {
            "text/plain": [
              "array([-1.90505253e+00, -1.43309358e-02,  3.07430501e+02, -1.25971679e-01])"
            ]
          },
          "metadata": {},
          "execution_count": 155
        }
      ]
    },
    {
      "cell_type": "code",
      "source": [
        "#Fitting model logistic reg\n",
        "logreg = LogisticRegression()\n",
        "logreg.fit(X_train, y_train)\n",
        "\n",
        "#check score logistic regression \n",
        "from sklearn.model_selection import cross_val_score\n",
        "\n",
        "y_pred = logreg.predict(X_test)\n",
        "cv_results = cross_val_score(logreg, X, y, cv = 5)\n",
        "cv_results"
      ],
      "metadata": {
        "colab": {
          "base_uri": "https://localhost:8080/"
        },
        "id": "A8ZoXsHXpSf-",
        "outputId": "ace1f417-dd7c-42fa-d20f-80e01364de18"
      },
      "execution_count": null,
      "outputs": [
        {
          "output_type": "execute_result",
          "data": {
            "text/plain": [
              "array([0.88888889, 0.88888889, 0.87037037, 0.88888889, 0.88679245])"
            ]
          },
          "metadata": {},
          "execution_count": 156
        }
      ]
    },
    {
      "cell_type": "code",
      "source": [
        "print (classification_report(y_test, y_pred))"
      ],
      "metadata": {
        "colab": {
          "base_uri": "https://localhost:8080/"
        },
        "id": "g95_rEDqIRBc",
        "outputId": "f3fe8ea3-b90c-4801-eae5-4c25ee147eef"
      },
      "execution_count": null,
      "outputs": [
        {
          "output_type": "stream",
          "name": "stdout",
          "text": [
            "              precision    recall  f1-score   support\n",
            "\n",
            "           0       0.89      1.00      0.94        48\n",
            "           1       0.00      0.00      0.00         6\n",
            "\n",
            "    accuracy                           0.89        54\n",
            "   macro avg       0.44      0.50      0.47        54\n",
            "weighted avg       0.79      0.89      0.84        54\n",
            "\n"
          ]
        },
        {
          "output_type": "stream",
          "name": "stderr",
          "text": [
            "/usr/local/lib/python3.7/dist-packages/sklearn/metrics/_classification.py:1318: UndefinedMetricWarning: Precision and F-score are ill-defined and being set to 0.0 in labels with no predicted samples. Use `zero_division` parameter to control this behavior.\n",
            "  _warn_prf(average, modifier, msg_start, len(result))\n",
            "/usr/local/lib/python3.7/dist-packages/sklearn/metrics/_classification.py:1318: UndefinedMetricWarning: Precision and F-score are ill-defined and being set to 0.0 in labels with no predicted samples. Use `zero_division` parameter to control this behavior.\n",
            "  _warn_prf(average, modifier, msg_start, len(result))\n",
            "/usr/local/lib/python3.7/dist-packages/sklearn/metrics/_classification.py:1318: UndefinedMetricWarning: Precision and F-score are ill-defined and being set to 0.0 in labels with no predicted samples. Use `zero_division` parameter to control this behavior.\n",
            "  _warn_prf(average, modifier, msg_start, len(result))\n"
          ]
        }
      ]
    },
    {
      "cell_type": "markdown",
      "source": [
        "## Define Other Model"
      ],
      "metadata": {
        "id": "8suVB8WNkEDl"
      }
    },
    {
      "cell_type": "markdown",
      "source": [
        "We try to use 5 ML"
      ],
      "metadata": {
        "id": "PPgStjaeH3QI"
      }
    },
    {
      "cell_type": "code",
      "source": [
        "knn_clf = KNeighborsClassifier(\n",
        "    n_neighbors = 1,\n",
        ")\n",
        "\n",
        "rf_clf = RandomForestClassifier(\n",
        "    random_state=1000,\n",
        "    n_estimators=1000,\n",
        "    class_weight = {0: 0.265353, 1:0.734647}\n",
        ")\n",
        "\n",
        "dc_clf = DecisionTreeClassifier(\n",
        "    max_depth = 5,\n",
        "    ccp_alpha = 0.001,\n",
        "    class_weight = {0: 0.265353, 1:0.734647}\n",
        ")\n",
        "\n",
        "svm_clf = SVC(\n",
        "    random_state = 1000,\n",
        "    probability=True,\n",
        "    class_weight = {0: 0.265353, 1:0.734647}\n",
        ")\n",
        "\n",
        "xgb_clf = XGBClassifier(\n",
        "    random_state=1000,\n",
        "    n_estimators=1000,\n",
        "    class_weight = {0: 0.265353, 1:0.734647}\n",
        ")"
      ],
      "metadata": {
        "id": "J5bMEiZrkFjW"
      },
      "execution_count": null,
      "outputs": []
    },
    {
      "cell_type": "markdown",
      "source": [
        "## Fitting Model"
      ],
      "metadata": {
        "id": "ECuOEHYTkivz"
      }
    },
    {
      "cell_type": "code",
      "source": [
        "knn_clf.fit(X_train, y_train)\n",
        "dc_clf.fit(X_train, y_train)\n",
        "rf_clf.fit(X_train, y_train)\n",
        "svm_clf.fit(X_train, y_train)\n",
        "xgb_clf.fit(X_train, y_train)"
      ],
      "metadata": {
        "colab": {
          "base_uri": "https://localhost:8080/"
        },
        "id": "YOdtE3VukkDj",
        "outputId": "efcf5bfd-74e3-4c90-f495-1f65fc1a1f57"
      },
      "execution_count": null,
      "outputs": [
        {
          "output_type": "execute_result",
          "data": {
            "text/plain": [
              "XGBClassifier(class_weight={0: 0.265353, 1: 0.734647}, n_estimators=1000,\n",
              "              random_state=1000)"
            ]
          },
          "metadata": {},
          "execution_count": 159
        }
      ]
    },
    {
      "cell_type": "markdown",
      "source": [
        "## Model Evaluation"
      ],
      "metadata": {
        "id": "R7BYfzndkusH"
      }
    },
    {
      "cell_type": "code",
      "source": [
        "# knn prediction\n",
        "knn_pred = knn_clf.predict(X_test)\n",
        "knn_pred_proba = knn_clf.predict_proba(X_test)\n",
        "\n",
        "# decision tree prediction\n",
        "dc_pred = dc_clf.predict(X_test)\n",
        "dc_pred_proba = dc_clf.predict_proba(X_test)\n",
        "\n",
        "# random forest prediction\n",
        "rf_pred = rf_clf.predict(X_test)\n",
        "rf_pred_proba = rf_clf.predict_proba(X_test)\n",
        "\n",
        "# SVM RBF prediction\n",
        "svm_pred = svm_clf.predict(X_test)\n",
        "svm_pred_proba = svm_clf.predict_proba(X_test)\n",
        "\n",
        "# XGBoost prediction\n",
        "xgb_pred = xgb_clf.predict(X_test)\n",
        "xgb_pred_proba = xgb_clf.predict_proba(X_test)"
      ],
      "metadata": {
        "id": "6RirI5nvkxE7"
      },
      "execution_count": null,
      "outputs": []
    },
    {
      "cell_type": "markdown",
      "source": [
        "###KNN"
      ],
      "metadata": {
        "id": "3y9Xa16Ik0q5"
      }
    },
    {
      "cell_type": "code",
      "source": [
        "pd.DataFrame(metrics.classification_report(y_test, knn_pred, target_names=['Tidak Krisis','Krisis'], output_dict=True))"
      ],
      "metadata": {
        "colab": {
          "base_uri": "https://localhost:8080/",
          "height": 175
        },
        "id": "k8NeLeX1k2aM",
        "outputId": "0aba5a34-5ab0-4e91-cc25-a5f31d8671ee"
      },
      "execution_count": null,
      "outputs": [
        {
          "output_type": "execute_result",
          "data": {
            "text/plain": [
              "           Tidak Krisis    Krisis  accuracy  macro avg  weighted avg\n",
              "precision      0.957447  0.571429  0.907407   0.764438      0.914556\n",
              "recall         0.937500  0.666667  0.907407   0.802083      0.907407\n",
              "f1-score       0.947368  0.615385  0.907407   0.781377      0.910481\n",
              "support       48.000000  6.000000  0.907407  54.000000     54.000000"
            ],
            "text/html": [
              "\n",
              "  <div id=\"df-4598da97-c107-405e-acad-b7f0a1089d63\">\n",
              "    <div class=\"colab-df-container\">\n",
              "      <div>\n",
              "<style scoped>\n",
              "    .dataframe tbody tr th:only-of-type {\n",
              "        vertical-align: middle;\n",
              "    }\n",
              "\n",
              "    .dataframe tbody tr th {\n",
              "        vertical-align: top;\n",
              "    }\n",
              "\n",
              "    .dataframe thead th {\n",
              "        text-align: right;\n",
              "    }\n",
              "</style>\n",
              "<table border=\"1\" class=\"dataframe\">\n",
              "  <thead>\n",
              "    <tr style=\"text-align: right;\">\n",
              "      <th></th>\n",
              "      <th>Tidak Krisis</th>\n",
              "      <th>Krisis</th>\n",
              "      <th>accuracy</th>\n",
              "      <th>macro avg</th>\n",
              "      <th>weighted avg</th>\n",
              "    </tr>\n",
              "  </thead>\n",
              "  <tbody>\n",
              "    <tr>\n",
              "      <th>precision</th>\n",
              "      <td>0.957447</td>\n",
              "      <td>0.571429</td>\n",
              "      <td>0.907407</td>\n",
              "      <td>0.764438</td>\n",
              "      <td>0.914556</td>\n",
              "    </tr>\n",
              "    <tr>\n",
              "      <th>recall</th>\n",
              "      <td>0.937500</td>\n",
              "      <td>0.666667</td>\n",
              "      <td>0.907407</td>\n",
              "      <td>0.802083</td>\n",
              "      <td>0.907407</td>\n",
              "    </tr>\n",
              "    <tr>\n",
              "      <th>f1-score</th>\n",
              "      <td>0.947368</td>\n",
              "      <td>0.615385</td>\n",
              "      <td>0.907407</td>\n",
              "      <td>0.781377</td>\n",
              "      <td>0.910481</td>\n",
              "    </tr>\n",
              "    <tr>\n",
              "      <th>support</th>\n",
              "      <td>48.000000</td>\n",
              "      <td>6.000000</td>\n",
              "      <td>0.907407</td>\n",
              "      <td>54.000000</td>\n",
              "      <td>54.000000</td>\n",
              "    </tr>\n",
              "  </tbody>\n",
              "</table>\n",
              "</div>\n",
              "      <button class=\"colab-df-convert\" onclick=\"convertToInteractive('df-4598da97-c107-405e-acad-b7f0a1089d63')\"\n",
              "              title=\"Convert this dataframe to an interactive table.\"\n",
              "              style=\"display:none;\">\n",
              "        \n",
              "  <svg xmlns=\"http://www.w3.org/2000/svg\" height=\"24px\"viewBox=\"0 0 24 24\"\n",
              "       width=\"24px\">\n",
              "    <path d=\"M0 0h24v24H0V0z\" fill=\"none\"/>\n",
              "    <path d=\"M18.56 5.44l.94 2.06.94-2.06 2.06-.94-2.06-.94-.94-2.06-.94 2.06-2.06.94zm-11 1L8.5 8.5l.94-2.06 2.06-.94-2.06-.94L8.5 2.5l-.94 2.06-2.06.94zm10 10l.94 2.06.94-2.06 2.06-.94-2.06-.94-.94-2.06-.94 2.06-2.06.94z\"/><path d=\"M17.41 7.96l-1.37-1.37c-.4-.4-.92-.59-1.43-.59-.52 0-1.04.2-1.43.59L10.3 9.45l-7.72 7.72c-.78.78-.78 2.05 0 2.83L4 21.41c.39.39.9.59 1.41.59.51 0 1.02-.2 1.41-.59l7.78-7.78 2.81-2.81c.8-.78.8-2.07 0-2.86zM5.41 20L4 18.59l7.72-7.72 1.47 1.35L5.41 20z\"/>\n",
              "  </svg>\n",
              "      </button>\n",
              "      \n",
              "  <style>\n",
              "    .colab-df-container {\n",
              "      display:flex;\n",
              "      flex-wrap:wrap;\n",
              "      gap: 12px;\n",
              "    }\n",
              "\n",
              "    .colab-df-convert {\n",
              "      background-color: #E8F0FE;\n",
              "      border: none;\n",
              "      border-radius: 50%;\n",
              "      cursor: pointer;\n",
              "      display: none;\n",
              "      fill: #1967D2;\n",
              "      height: 32px;\n",
              "      padding: 0 0 0 0;\n",
              "      width: 32px;\n",
              "    }\n",
              "\n",
              "    .colab-df-convert:hover {\n",
              "      background-color: #E2EBFA;\n",
              "      box-shadow: 0px 1px 2px rgba(60, 64, 67, 0.3), 0px 1px 3px 1px rgba(60, 64, 67, 0.15);\n",
              "      fill: #174EA6;\n",
              "    }\n",
              "\n",
              "    [theme=dark] .colab-df-convert {\n",
              "      background-color: #3B4455;\n",
              "      fill: #D2E3FC;\n",
              "    }\n",
              "\n",
              "    [theme=dark] .colab-df-convert:hover {\n",
              "      background-color: #434B5C;\n",
              "      box-shadow: 0px 1px 3px 1px rgba(0, 0, 0, 0.15);\n",
              "      filter: drop-shadow(0px 1px 2px rgba(0, 0, 0, 0.3));\n",
              "      fill: #FFFFFF;\n",
              "    }\n",
              "  </style>\n",
              "\n",
              "      <script>\n",
              "        const buttonEl =\n",
              "          document.querySelector('#df-4598da97-c107-405e-acad-b7f0a1089d63 button.colab-df-convert');\n",
              "        buttonEl.style.display =\n",
              "          google.colab.kernel.accessAllowed ? 'block' : 'none';\n",
              "\n",
              "        async function convertToInteractive(key) {\n",
              "          const element = document.querySelector('#df-4598da97-c107-405e-acad-b7f0a1089d63');\n",
              "          const dataTable =\n",
              "            await google.colab.kernel.invokeFunction('convertToInteractive',\n",
              "                                                     [key], {});\n",
              "          if (!dataTable) return;\n",
              "\n",
              "          const docLinkHtml = 'Like what you see? Visit the ' +\n",
              "            '<a target=\"_blank\" href=https://colab.research.google.com/notebooks/data_table.ipynb>data table notebook</a>'\n",
              "            + ' to learn more about interactive tables.';\n",
              "          element.innerHTML = '';\n",
              "          dataTable['output_type'] = 'display_data';\n",
              "          await google.colab.output.renderOutput(dataTable, element);\n",
              "          const docLink = document.createElement('div');\n",
              "          docLink.innerHTML = docLinkHtml;\n",
              "          element.appendChild(docLink);\n",
              "        }\n",
              "      </script>\n",
              "    </div>\n",
              "  </div>\n",
              "  "
            ]
          },
          "metadata": {},
          "execution_count": 161
        }
      ]
    },
    {
      "cell_type": "code",
      "source": [
        "print (classification_report(y_test, knn_pred))"
      ],
      "metadata": {
        "colab": {
          "base_uri": "https://localhost:8080/"
        },
        "id": "ySQtQZWMBnIO",
        "outputId": "e358eaad-5b61-4344-ad84-9d7352cbad87"
      },
      "execution_count": null,
      "outputs": [
        {
          "output_type": "stream",
          "name": "stdout",
          "text": [
            "              precision    recall  f1-score   support\n",
            "\n",
            "           0       0.96      0.94      0.95        48\n",
            "           1       0.57      0.67      0.62         6\n",
            "\n",
            "    accuracy                           0.91        54\n",
            "   macro avg       0.76      0.80      0.78        54\n",
            "weighted avg       0.91      0.91      0.91        54\n",
            "\n"
          ]
        }
      ]
    },
    {
      "cell_type": "code",
      "source": [
        "# check confusion matrix\n",
        "skplt.metrics.plot_confusion_matrix(y_test, knn_pred);"
      ],
      "metadata": {
        "colab": {
          "base_uri": "https://localhost:8080/",
          "height": 295
        },
        "id": "W80WiWWSl5K2",
        "outputId": "9353b924-3f40-46d2-f931-62f70640ccaf"
      },
      "execution_count": null,
      "outputs": [
        {
          "output_type": "display_data",
          "data": {
            "text/plain": [
              "<Figure size 432x288 with 2 Axes>"
            ],
            "image/png": "[encoded data removed]"
          },
          "metadata": {
            "needs_background": "light"
          }
        }
      ]
    },
    {
      "cell_type": "code",
      "source": [
        "#Checking performance our model with ROC Score.\n",
        "from sklearn.metrics import roc_auc_score\n",
        "roc_auc_score(y_test, y_pred)"
      ],
      "metadata": {
        "colab": {
          "base_uri": "https://localhost:8080/"
        },
        "id": "9BgduzP4tKph",
        "outputId": "4459d508-530f-4d4e-c5b6-a6664d231543"
      },
      "execution_count": null,
      "outputs": [
        {
          "output_type": "execute_result",
          "data": {
            "text/plain": [
              "0.5"
            ]
          },
          "metadata": {},
          "execution_count": 164
        }
      ]
    },
    {
      "cell_type": "code",
      "source": [
        "skplt.metrics.plot_roc_curve(y_test, knn_pred_proba);"
      ],
      "metadata": {
        "colab": {
          "base_uri": "https://localhost:8080/",
          "height": 350
        },
        "id": "TC5qDi8SlEGK",
        "outputId": "f1a57978-15e4-49fc-80ff-64b979fd3d63"
      },
      "execution_count": null,
      "outputs": [
        {
          "output_type": "stream",
          "name": "stderr",
          "text": [
            "/usr/local/lib/python3.7/dist-packages/sklearn/utils/deprecation.py:87: FutureWarning: Function plot_roc_curve is deprecated; This will be removed in v0.5.0. Please use scikitplot.metrics.plot_roc instead.\n",
            "  warnings.warn(msg, category=FutureWarning)\n"
          ]
        },
        {
          "output_type": "display_data",
          "data": {
            "text/plain": [
              "<Figure size 432x288 with 1 Axes>"
            ],
            "image/png": "[encoded data removed]"
          },
          "metadata": {
            "needs_background": "light"
          }
        }
      ]
    },
    {
      "cell_type": "code",
      "source": [
        "#Cross Validation score\n",
        "cv_result = cross_val_score(\n",
        "    estimator=knn_clf,\n",
        "    X=X_train,\n",
        "    y=y_train,\n",
        "    cv=10,\n",
        "    n_jobs=1\n",
        ")\n",
        "print('CV accuracy scores: %s' % cv_result)"
      ],
      "metadata": {
        "id": "vJu5akMDskJz",
        "colab": {
          "base_uri": "https://localhost:8080/"
        },
        "outputId": "00113b3f-6e40-41d8-b906-0469e98e91e8"
      },
      "execution_count": null,
      "outputs": [
        {
          "output_type": "stream",
          "name": "stdout",
          "text": [
            "CV accuracy scores: [1.         0.86363636 0.86363636 0.86363636 0.95454545 1.\n",
            " 0.85714286 1.         0.85714286 0.85714286]\n"
          ]
        }
      ]
    },
    {
      "cell_type": "code",
      "source": [
        "print('CV accuracy: %.3f +/- %.3f' % (np.mean(cv_result),np.std(cv_result)))"
      ],
      "metadata": {
        "colab": {
          "base_uri": "https://localhost:8080/"
        },
        "id": "W_u0ymqQsgmr",
        "outputId": "19b633fc-5732-4b31-adcd-e8e1c476459f"
      },
      "execution_count": null,
      "outputs": [
        {
          "output_type": "stream",
          "name": "stdout",
          "text": [
            "CV accuracy: 0.912 +/- 0.064\n"
          ]
        }
      ]
    },
    {
      "cell_type": "code",
      "source": [
        "# calculating the accuracy of models with different values of k\n",
        "mean_acc = np.zeros(20)\n",
        "for i in range(1,21):\n",
        "    #Train Model and Predict  \n",
        "    knn = KNeighborsClassifier(n_neighbors = i).fit(X_train,y_train)\n",
        "    yhat= knn.predict(X_test)\n",
        "    mean_acc[i-1] = metrics.accuracy_score(y_test, yhat)\n",
        "\n",
        "mean_acc"
      ],
      "metadata": {
        "colab": {
          "base_uri": "https://localhost:8080/"
        },
        "id": "38U169QH5adE",
        "outputId": "84710054-baf1-4892-e946-c5dbc64d3e9e"
      },
      "execution_count": null,
      "outputs": [
        {
          "output_type": "execute_result",
          "data": {
            "text/plain": [
              "array([0.90740741, 0.94444444, 0.94444444, 0.94444444, 0.94444444,\n",
              "       0.92592593, 0.94444444, 0.87037037, 0.88888889, 0.88888889,\n",
              "       0.88888889, 0.88888889, 0.88888889, 0.88888889, 0.88888889,\n",
              "       0.88888889, 0.88888889, 0.88888889, 0.88888889, 0.88888889])"
            ]
          },
          "metadata": {},
          "execution_count": 168
        }
      ]
    },
    {
      "cell_type": "code",
      "source": [
        "loc = np.arange(1,21,step=1.0)\n",
        "plt.figure(figsize = (10, 6))\n",
        "plt.plot(range(1,21), mean_acc)\n",
        "plt.xticks(loc)\n",
        "plt.xlabel('Number of Neighbors ')\n",
        "plt.ylabel('Accuracy')\n",
        "plt.show()"
      ],
      "metadata": {
        "colab": {
          "base_uri": "https://localhost:8080/",
          "height": 388
        },
        "id": "WSYRLPW-3-Sh",
        "outputId": "6369790b-e288-4dae-9622-f4d3fccd8027"
      },
      "execution_count": null,
      "outputs": [
        {
          "output_type": "display_data",
          "data": {
            "text/plain": [
              "<Figure size 720x432 with 1 Axes>"
            ],
            "image/png": "[encoded data removed]"
          },
          "metadata": {
            "needs_background": "light"
          }
        }
      ]
    },
    {
      "cell_type": "markdown",
      "source": [
        "As we can see, we found that the best K = 2, so we try to tune KNN"
      ],
      "metadata": {
        "id": "cQLTPbgi5oW6"
      }
    },
    {
      "cell_type": "markdown",
      "source": [
        "####Tune KNN in K=2 with GridSearch CV"
      ],
      "metadata": {
        "id": "swtcEAaVuaNx"
      }
    },
    {
      "cell_type": "code",
      "source": [
        "from sklearn.model_selection import GridSearchCV\n",
        "grid_params = { 'n_neighbors' : [2],\n",
        "               'weights' : ['uniform','distance'],\n",
        "               'metric' : ['minkowski','euclidean','manhattan']}"
      ],
      "metadata": {
        "id": "MzcXki8S2bDP"
      },
      "execution_count": null,
      "outputs": []
    },
    {
      "cell_type": "code",
      "source": [
        "gs = GridSearchCV(KNeighborsClassifier(), grid_params, verbose = 1, cv=3, n_jobs = -1)"
      ],
      "metadata": {
        "id": "BAjqBqjr3To3"
      },
      "execution_count": null,
      "outputs": []
    },
    {
      "cell_type": "code",
      "source": [
        "# fit the model on our train set\n",
        "g_res = gs.fit(X_train, y_train)"
      ],
      "metadata": {
        "colab": {
          "base_uri": "https://localhost:8080/"
        },
        "id": "2K8O_mSL3VcU",
        "outputId": "0f40bed9-eff7-44ce-d058-fd71356bc400"
      },
      "execution_count": null,
      "outputs": [
        {
          "output_type": "stream",
          "name": "stdout",
          "text": [
            "Fitting 3 folds for each of 6 candidates, totalling 18 fits\n"
          ]
        }
      ]
    },
    {
      "cell_type": "code",
      "source": [
        "# find the best score\n",
        "g_res.best_score_"
      ],
      "metadata": {
        "colab": {
          "base_uri": "https://localhost:8080/"
        },
        "id": "BoQLK1By3XYB",
        "outputId": "59b87d50-c8ba-4180-d5ee-4181e3d1e843"
      },
      "execution_count": null,
      "outputs": [
        {
          "output_type": "execute_result",
          "data": {
            "text/plain": [
              "0.9255346896191967"
            ]
          },
          "metadata": {},
          "execution_count": 173
        }
      ]
    },
    {
      "cell_type": "code",
      "source": [
        "# get the hyperparameters with the best score\n",
        "g_res.best_params_"
      ],
      "metadata": {
        "colab": {
          "base_uri": "https://localhost:8080/"
        },
        "id": "K7BlVtbf3ZFX",
        "outputId": "1ead93a1-7b03-4b58-d027-79ccab1a58eb"
      },
      "execution_count": null,
      "outputs": [
        {
          "output_type": "execute_result",
          "data": {
            "text/plain": [
              "{'metric': 'manhattan', 'n_neighbors': 2, 'weights': 'distance'}"
            ]
          },
          "metadata": {},
          "execution_count": 174
        }
      ]
    },
    {
      "cell_type": "code",
      "source": [
        "# use the best hyperparameters\n",
        "knn = KNeighborsClassifier(n_neighbors = 2, weights = 'uniform',algorithm = 'brute',metric = 'minkowski')\n",
        "\n",
        "#fitting\n",
        "knn.fit(X_train, y_train)"
      ],
      "metadata": {
        "colab": {
          "base_uri": "https://localhost:8080/"
        },
        "id": "GpWUrq3s3iRp",
        "outputId": "136281b3-4e03-4b0e-fd6b-cfd655559d23"
      },
      "execution_count": null,
      "outputs": [
        {
          "output_type": "execute_result",
          "data": {
            "text/plain": [
              "KNeighborsClassifier(algorithm='brute', n_neighbors=2)"
            ]
          },
          "metadata": {},
          "execution_count": 175
        }
      ]
    },
    {
      "cell_type": "code",
      "source": [
        "# get a prediction\n",
        "y_hat = knn.predict(X_train)\n",
        "y_knn = knn.predict(X_test)"
      ],
      "metadata": {
        "id": "Bvq8GLDE6yfM"
      },
      "execution_count": null,
      "outputs": []
    },
    {
      "cell_type": "markdown",
      "source": [
        "#####Model Evaluation with Tune"
      ],
      "metadata": {
        "id": "DALfHRh96zzP"
      }
    },
    {
      "cell_type": "code",
      "source": [
        "print('Training set accuracy: ', metrics.accuracy_score(y_train, y_hat))\n",
        "print('Test set accuracy: ',metrics.accuracy_score(y_test, y_knn))"
      ],
      "metadata": {
        "colab": {
          "base_uri": "https://localhost:8080/"
        },
        "id": "wqb_lyhf619B",
        "outputId": "517a6a59-e218-4326-e446-4bfb54f57aa2"
      },
      "execution_count": null,
      "outputs": [
        {
          "output_type": "stream",
          "name": "stdout",
          "text": [
            "Training set accuracy:  0.9534883720930233\n",
            "Test set accuracy:  0.9444444444444444\n"
          ]
        }
      ]
    },
    {
      "cell_type": "code",
      "source": [
        "from sklearn.metrics import confusion_matrix\n",
        "print(confusion_matrix(y_test, y_knn))"
      ],
      "metadata": {
        "colab": {
          "base_uri": "https://localhost:8080/"
        },
        "id": "N2nihum565_B",
        "outputId": "bbd26506-62de-4af5-ca18-2f7ac6a45c88"
      },
      "execution_count": null,
      "outputs": [
        {
          "output_type": "stream",
          "name": "stdout",
          "text": [
            "[[47  1]\n",
            " [ 2  4]]\n"
          ]
        }
      ]
    },
    {
      "cell_type": "code",
      "source": [
        "#Without Tune\n",
        "print (classification_report(y_test, knn_pred))"
      ],
      "metadata": {
        "colab": {
          "base_uri": "https://localhost:8080/"
        },
        "id": "gTBin_EU9MFq",
        "outputId": "19a6379b-8c3e-4366-f98a-4e9d0476d9d0"
      },
      "execution_count": null,
      "outputs": [
        {
          "output_type": "stream",
          "name": "stdout",
          "text": [
            "              precision    recall  f1-score   support\n",
            "\n",
            "           0       0.96      0.94      0.95        48\n",
            "           1       0.57      0.67      0.62         6\n",
            "\n",
            "    accuracy                           0.91        54\n",
            "   macro avg       0.76      0.80      0.78        54\n",
            "weighted avg       0.91      0.91      0.91        54\n",
            "\n"
          ]
        }
      ]
    },
    {
      "cell_type": "code",
      "source": [
        "#with Tune\n",
        "print (classification_report(y_test, y_knn))"
      ],
      "metadata": {
        "colab": {
          "base_uri": "https://localhost:8080/"
        },
        "id": "CmS-vjUX_z41",
        "outputId": "830a7344-28a5-4b5c-afd9-afe5d474451f"
      },
      "execution_count": null,
      "outputs": [
        {
          "output_type": "stream",
          "name": "stdout",
          "text": [
            "              precision    recall  f1-score   support\n",
            "\n",
            "           0       0.96      0.98      0.97        48\n",
            "           1       0.80      0.67      0.73         6\n",
            "\n",
            "    accuracy                           0.94        54\n",
            "   macro avg       0.88      0.82      0.85        54\n",
            "weighted avg       0.94      0.94      0.94        54\n",
            "\n"
          ]
        }
      ]
    },
    {
      "cell_type": "markdown",
      "source": [
        "we found that if we tune KNN, there is high accuracy than if we not tune the KNN."
      ],
      "metadata": {
        "id": "4qUiKQzjAEEe"
      }
    },
    {
      "cell_type": "code",
      "source": [
        "#Cross Validation score with Tune\n",
        "cv_result = cross_val_score(\n",
        "    estimator=knn,\n",
        "    X=X_train,\n",
        "    y=y_train,\n",
        "    cv=10,\n",
        "    n_jobs=1\n",
        ")\n",
        "print('CV accuracy scores: %s' % cv_result)"
      ],
      "metadata": {
        "colab": {
          "base_uri": "https://localhost:8080/"
        },
        "id": "kKmYMgWZO_2D",
        "outputId": "8b162dd8-fc6a-4620-e95b-582edd7a7b31"
      },
      "execution_count": null,
      "outputs": [
        {
          "output_type": "stream",
          "name": "stdout",
          "text": [
            "CV accuracy scores: [0.95454545 0.90909091 0.95454545 0.86363636 0.95454545 1.\n",
            " 0.9047619  1.         0.9047619  0.9047619 ]\n"
          ]
        }
      ]
    },
    {
      "cell_type": "code",
      "source": [
        "print('CV accuracy: %.3f +/- %.3f' % (np.mean(cv_result),np.std(cv_result)))"
      ],
      "metadata": {
        "colab": {
          "base_uri": "https://localhost:8080/"
        },
        "id": "Bccv1tqNPH7i",
        "outputId": "89dce251-9738-486a-a9c2-e4ed64016910"
      },
      "execution_count": null,
      "outputs": [
        {
          "output_type": "stream",
          "name": "stdout",
          "text": [
            "CV accuracy: 0.935 +/- 0.043\n"
          ]
        }
      ]
    },
    {
      "cell_type": "code",
      "source": [
        "# check confusion matrix\n",
        "skplt.metrics.plot_confusion_matrix(y_test, y_knn);"
      ],
      "metadata": {
        "colab": {
          "base_uri": "https://localhost:8080/",
          "height": 295
        },
        "id": "cqI9OiMdPgNB",
        "outputId": "6e10837b-be0c-4c86-e9c2-c84208fbeb3d"
      },
      "execution_count": null,
      "outputs": [
        {
          "output_type": "display_data",
          "data": {
            "text/plain": [
              "<Figure size 432x288 with 2 Axes>"
            ],
            "image/png": "[encoded data removed]"
          },
          "metadata": {
            "needs_background": "light"
          }
        }
      ]
    },
    {
      "cell_type": "code",
      "source": [
        "knn_pred_proba = knn.predict_proba(X_test)\n",
        "skplt.metrics.plot_roc_curve(y_test, knn_pred_proba);"
      ],
      "metadata": {
        "colab": {
          "base_uri": "https://localhost:8080/",
          "height": 350
        },
        "id": "NlsdoVJ0QCrJ",
        "outputId": "6ac13ff5-e736-4464-fd72-bc9f482c8db9"
      },
      "execution_count": null,
      "outputs": [
        {
          "output_type": "stream",
          "name": "stderr",
          "text": [
            "/usr/local/lib/python3.7/dist-packages/sklearn/utils/deprecation.py:87: FutureWarning: Function plot_roc_curve is deprecated; This will be removed in v0.5.0. Please use scikitplot.metrics.plot_roc instead.\n",
            "  warnings.warn(msg, category=FutureWarning)\n"
          ]
        },
        {
          "output_type": "display_data",
          "data": {
            "text/plain": [
              "<Figure size 432x288 with 1 Axes>"
            ],
            "image/png": "[encoded data removed]"
          },
          "metadata": {
            "needs_background": "light"
          }
        }
      ]
    },
    {
      "cell_type": "markdown",
      "source": [
        "###Decision Tree"
      ],
      "metadata": {
        "id": "1PEEmI0UlGmw"
      }
    },
    {
      "cell_type": "code",
      "source": [
        "pd.DataFrame(metrics.classification_report(y_test, dc_pred, target_names=['Tidak Krisis','Krisis'], output_dict=True))"
      ],
      "metadata": {
        "colab": {
          "base_uri": "https://localhost:8080/",
          "height": 175
        },
        "id": "xemWLlZalJe_",
        "outputId": "3a1391a9-35f7-4926-ae4b-2333cbfa53cd"
      },
      "execution_count": null,
      "outputs": [
        {
          "output_type": "execute_result",
          "data": {
            "text/plain": [
              "           Tidak Krisis    Krisis  accuracy  macro avg  weighted avg\n",
              "precision      0.958333  0.666667  0.925926     0.8125      0.925926\n",
              "recall         0.958333  0.666667  0.925926     0.8125      0.925926\n",
              "f1-score       0.958333  0.666667  0.925926     0.8125      0.925926\n",
              "support       48.000000  6.000000  0.925926    54.0000     54.000000"
            ],
            "text/html": [
              "\n",
              "  <div id=\"df-4ea40035-a32b-4436-9f75-53d386f63a70\">\n",
              "    <div class=\"colab-df-container\">\n",
              "      <div>\n",
              "<style scoped>\n",
              "    .dataframe tbody tr th:only-of-type {\n",
              "        vertical-align: middle;\n",
              "    }\n",
              "\n",
              "    .dataframe tbody tr th {\n",
              "        vertical-align: top;\n",
              "    }\n",
              "\n",
              "    .dataframe thead th {\n",
              "        text-align: right;\n",
              "    }\n",
              "</style>\n",
              "<table border=\"1\" class=\"dataframe\">\n",
              "  <thead>\n",
              "    <tr style=\"text-align: right;\">\n",
              "      <th></th>\n",
              "      <th>Tidak Krisis</th>\n",
              "      <th>Krisis</th>\n",
              "      <th>accuracy</th>\n",
              "      <th>macro avg</th>\n",
              "      <th>weighted avg</th>\n",
              "    </tr>\n",
              "  </thead>\n",
              "  <tbody>\n",
              "    <tr>\n",
              "      <th>precision</th>\n",
              "      <td>0.958333</td>\n",
              "      <td>0.666667</td>\n",
              "      <td>0.925926</td>\n",
              "      <td>0.8125</td>\n",
              "      <td>0.925926</td>\n",
              "    </tr>\n",
              "    <tr>\n",
              "      <th>recall</th>\n",
              "      <td>0.958333</td>\n",
              "      <td>0.666667</td>\n",
              "      <td>0.925926</td>\n",
              "      <td>0.8125</td>\n",
              "      <td>0.925926</td>\n",
              "    </tr>\n",
              "    <tr>\n",
              "      <th>f1-score</th>\n",
              "      <td>0.958333</td>\n",
              "      <td>0.666667</td>\n",
              "      <td>0.925926</td>\n",
              "      <td>0.8125</td>\n",
              "      <td>0.925926</td>\n",
              "    </tr>\n",
              "    <tr>\n",
              "      <th>support</th>\n",
              "      <td>48.000000</td>\n",
              "      <td>6.000000</td>\n",
              "      <td>0.925926</td>\n",
              "      <td>54.0000</td>\n",
              "      <td>54.000000</td>\n",
              "    </tr>\n",
              "  </tbody>\n",
              "</table>\n",
              "</div>\n",
              "      <button class=\"colab-df-convert\" onclick=\"convertToInteractive('df-4ea40035-a32b-4436-9f75-53d386f63a70')\"\n",
              "              title=\"Convert this dataframe to an interactive table.\"\n",
              "              style=\"display:none;\">\n",
              "        \n",
              "  <svg xmlns=\"http://www.w3.org/2000/svg\" height=\"24px\"viewBox=\"0 0 24 24\"\n",
              "       width=\"24px\">\n",
              "    <path d=\"M0 0h24v24H0V0z\" fill=\"none\"/>\n",
              "    <path d=\"M18.56 5.44l.94 2.06.94-2.06 2.06-.94-2.06-.94-.94-2.06-.94 2.06-2.06.94zm-11 1L8.5 8.5l.94-2.06 2.06-.94-2.06-.94L8.5 2.5l-.94 2.06-2.06.94zm10 10l.94 2.06.94-2.06 2.06-.94-2.06-.94-.94-2.06-.94 2.06-2.06.94z\"/><path d=\"M17.41 7.96l-1.37-1.37c-.4-.4-.92-.59-1.43-.59-.52 0-1.04.2-1.43.59L10.3 9.45l-7.72 7.72c-.78.78-.78 2.05 0 2.83L4 21.41c.39.39.9.59 1.41.59.51 0 1.02-.2 1.41-.59l7.78-7.78 2.81-2.81c.8-.78.8-2.07 0-2.86zM5.41 20L4 18.59l7.72-7.72 1.47 1.35L5.41 20z\"/>\n",
              "  </svg>\n",
              "      </button>\n",
              "      \n",
              "  <style>\n",
              "    .colab-df-container {\n",
              "      display:flex;\n",
              "      flex-wrap:wrap;\n",
              "      gap: 12px;\n",
              "    }\n",
              "\n",
              "    .colab-df-convert {\n",
              "      background-color: #E8F0FE;\n",
              "      border: none;\n",
              "      border-radius: 50%;\n",
              "      cursor: pointer;\n",
              "      display: none;\n",
              "      fill: #1967D2;\n",
              "      height: 32px;\n",
              "      padding: 0 0 0 0;\n",
              "      width: 32px;\n",
              "    }\n",
              "\n",
              "    .colab-df-convert:hover {\n",
              "      background-color: #E2EBFA;\n",
              "      box-shadow: 0px 1px 2px rgba(60, 64, 67, 0.3), 0px 1px 3px 1px rgba(60, 64, 67, 0.15);\n",
              "      fill: #174EA6;\n",
              "    }\n",
              "\n",
              "    [theme=dark] .colab-df-convert {\n",
              "      background-color: #3B4455;\n",
              "      fill: #D2E3FC;\n",
              "    }\n",
              "\n",
              "    [theme=dark] .colab-df-convert:hover {\n",
              "      background-color: #434B5C;\n",
              "      box-shadow: 0px 1px 3px 1px rgba(0, 0, 0, 0.15);\n",
              "      filter: drop-shadow(0px 1px 2px rgba(0, 0, 0, 0.3));\n",
              "      fill: #FFFFFF;\n",
              "    }\n",
              "  </style>\n",
              "\n",
              "      <script>\n",
              "        const buttonEl =\n",
              "          document.querySelector('#df-4ea40035-a32b-4436-9f75-53d386f63a70 button.colab-df-convert');\n",
              "        buttonEl.style.display =\n",
              "          google.colab.kernel.accessAllowed ? 'block' : 'none';\n",
              "\n",
              "        async function convertToInteractive(key) {\n",
              "          const element = document.querySelector('#df-4ea40035-a32b-4436-9f75-53d386f63a70');\n",
              "          const dataTable =\n",
              "            await google.colab.kernel.invokeFunction('convertToInteractive',\n",
              "                                                     [key], {});\n",
              "          if (!dataTable) return;\n",
              "\n",
              "          const docLinkHtml = 'Like what you see? Visit the ' +\n",
              "            '<a target=\"_blank\" href=https://colab.research.google.com/notebooks/data_table.ipynb>data table notebook</a>'\n",
              "            + ' to learn more about interactive tables.';\n",
              "          element.innerHTML = '';\n",
              "          dataTable['output_type'] = 'display_data';\n",
              "          await google.colab.output.renderOutput(dataTable, element);\n",
              "          const docLink = document.createElement('div');\n",
              "          docLink.innerHTML = docLinkHtml;\n",
              "          element.appendChild(docLink);\n",
              "        }\n",
              "      </script>\n",
              "    </div>\n",
              "  </div>\n",
              "  "
            ]
          },
          "metadata": {},
          "execution_count": 185
        }
      ]
    },
    {
      "cell_type": "code",
      "source": [
        "print (classification_report(y_test, dc_pred))"
      ],
      "metadata": {
        "colab": {
          "base_uri": "https://localhost:8080/"
        },
        "id": "bYQ_GGiyCA-x",
        "outputId": "6b40f853-8454-4598-eaac-f762b009733e"
      },
      "execution_count": null,
      "outputs": [
        {
          "output_type": "stream",
          "name": "stdout",
          "text": [
            "              precision    recall  f1-score   support\n",
            "\n",
            "           0       0.96      0.96      0.96        48\n",
            "           1       0.67      0.67      0.67         6\n",
            "\n",
            "    accuracy                           0.93        54\n",
            "   macro avg       0.81      0.81      0.81        54\n",
            "weighted avg       0.93      0.93      0.93        54\n",
            "\n"
          ]
        }
      ]
    },
    {
      "cell_type": "code",
      "source": [
        "# check confusion matrix\n",
        "skplt.metrics.plot_confusion_matrix(y_test, dc_pred);"
      ],
      "metadata": {
        "colab": {
          "base_uri": "https://localhost:8080/",
          "height": 295
        },
        "id": "uXxTP6KEl6Km",
        "outputId": "95ce446a-845d-412e-c8d2-19ac533e918d"
      },
      "execution_count": null,
      "outputs": [
        {
          "output_type": "display_data",
          "data": {
            "text/plain": [
              "<Figure size 432x288 with 2 Axes>"
            ],
            "image/png": "[encoded data removed]"
          },
          "metadata": {
            "needs_background": "light"
          }
        }
      ]
    },
    {
      "cell_type": "code",
      "source": [
        "#Checking performance our model with ROC Score.\n",
        "from sklearn.metrics import roc_auc_score\n",
        "roc_auc_score(y_test, y_pred)"
      ],
      "metadata": {
        "colab": {
          "base_uri": "https://localhost:8080/"
        },
        "id": "qUeS2TnZtbOb",
        "outputId": "d848a06e-f933-43c8-9f84-e8a83cc789ea"
      },
      "execution_count": null,
      "outputs": [
        {
          "output_type": "execute_result",
          "data": {
            "text/plain": [
              "0.5"
            ]
          },
          "metadata": {},
          "execution_count": 188
        }
      ]
    },
    {
      "cell_type": "code",
      "source": [
        "skplt.metrics.plot_roc_curve(y_test, dc_pred_proba);"
      ],
      "metadata": {
        "colab": {
          "base_uri": "https://localhost:8080/",
          "height": 350
        },
        "id": "2997SPcQlLyO",
        "outputId": "76826826-091c-4f43-ebc1-13c0964a19f8"
      },
      "execution_count": null,
      "outputs": [
        {
          "output_type": "stream",
          "name": "stderr",
          "text": [
            "/usr/local/lib/python3.7/dist-packages/sklearn/utils/deprecation.py:87: FutureWarning: Function plot_roc_curve is deprecated; This will be removed in v0.5.0. Please use scikitplot.metrics.plot_roc instead.\n",
            "  warnings.warn(msg, category=FutureWarning)\n"
          ]
        },
        {
          "output_type": "display_data",
          "data": {
            "text/plain": [
              "<Figure size 432x288 with 1 Axes>"
            ],
            "image/png": "[encoded data removed]"
          },
          "metadata": {
            "needs_background": "light"
          }
        }
      ]
    },
    {
      "cell_type": "markdown",
      "source": [
        "###Random Forest"
      ],
      "metadata": {
        "id": "-ATUdjKjlPmW"
      }
    },
    {
      "cell_type": "code",
      "source": [
        "pd.DataFrame(metrics.classification_report(y_test, rf_pred, target_names=['Tidak Krisis','Krisis'], output_dict=True))"
      ],
      "metadata": {
        "colab": {
          "base_uri": "https://localhost:8080/",
          "height": 175
        },
        "id": "GTVtw9TdlOo4",
        "outputId": "3ee91e94-761f-40f4-cb2b-ee834af63442"
      },
      "execution_count": null,
      "outputs": [
        {
          "output_type": "execute_result",
          "data": {
            "text/plain": [
              "           Tidak Krisis  Krisis  accuracy  macro avg  weighted avg\n",
              "precision      0.940000    0.75  0.925926   0.845000      0.918889\n",
              "recall         0.979167    0.50  0.925926   0.739583      0.925926\n",
              "f1-score       0.959184    0.60  0.925926   0.779592      0.919274\n",
              "support       48.000000    6.00  0.925926  54.000000     54.000000"
            ],
            "text/html": [
              "\n",
              "  <div id=\"df-2c521e0b-1c07-4e05-bded-e3b34fd7f3e6\">\n",
              "    <div class=\"colab-df-container\">\n",
              "      <div>\n",
              "<style scoped>\n",
              "    .dataframe tbody tr th:only-of-type {\n",
              "        vertical-align: middle;\n",
              "    }\n",
              "\n",
              "    .dataframe tbody tr th {\n",
              "        vertical-align: top;\n",
              "    }\n",
              "\n",
              "    .dataframe thead th {\n",
              "        text-align: right;\n",
              "    }\n",
              "</style>\n",
              "<table border=\"1\" class=\"dataframe\">\n",
              "  <thead>\n",
              "    <tr style=\"text-align: right;\">\n",
              "      <th></th>\n",
              "      <th>Tidak Krisis</th>\n",
              "      <th>Krisis</th>\n",
              "      <th>accuracy</th>\n",
              "      <th>macro avg</th>\n",
              "      <th>weighted avg</th>\n",
              "    </tr>\n",
              "  </thead>\n",
              "  <tbody>\n",
              "    <tr>\n",
              "      <th>precision</th>\n",
              "      <td>0.940000</td>\n",
              "      <td>0.75</td>\n",
              "      <td>0.925926</td>\n",
              "      <td>0.845000</td>\n",
              "      <td>0.918889</td>\n",
              "    </tr>\n",
              "    <tr>\n",
              "      <th>recall</th>\n",
              "      <td>0.979167</td>\n",
              "      <td>0.50</td>\n",
              "      <td>0.925926</td>\n",
              "      <td>0.739583</td>\n",
              "      <td>0.925926</td>\n",
              "    </tr>\n",
              "    <tr>\n",
              "      <th>f1-score</th>\n",
              "      <td>0.959184</td>\n",
              "      <td>0.60</td>\n",
              "      <td>0.925926</td>\n",
              "      <td>0.779592</td>\n",
              "      <td>0.919274</td>\n",
              "    </tr>\n",
              "    <tr>\n",
              "      <th>support</th>\n",
              "      <td>48.000000</td>\n",
              "      <td>6.00</td>\n",
              "      <td>0.925926</td>\n",
              "      <td>54.000000</td>\n",
              "      <td>54.000000</td>\n",
              "    </tr>\n",
              "  </tbody>\n",
              "</table>\n",
              "</div>\n",
              "      <button class=\"colab-df-convert\" onclick=\"convertToInteractive('df-2c521e0b-1c07-4e05-bded-e3b34fd7f3e6')\"\n",
              "              title=\"Convert this dataframe to an interactive table.\"\n",
              "              style=\"display:none;\">\n",
              "        \n",
              "  <svg xmlns=\"http://www.w3.org/2000/svg\" height=\"24px\"viewBox=\"0 0 24 24\"\n",
              "       width=\"24px\">\n",
              "    <path d=\"M0 0h24v24H0V0z\" fill=\"none\"/>\n",
              "    <path d=\"M18.56 5.44l.94 2.06.94-2.06 2.06-.94-2.06-.94-.94-2.06-.94 2.06-2.06.94zm-11 1L8.5 8.5l.94-2.06 2.06-.94-2.06-.94L8.5 2.5l-.94 2.06-2.06.94zm10 10l.94 2.06.94-2.06 2.06-.94-2.06-.94-.94-2.06-.94 2.06-2.06.94z\"/><path d=\"M17.41 7.96l-1.37-1.37c-.4-.4-.92-.59-1.43-.59-.52 0-1.04.2-1.43.59L10.3 9.45l-7.72 7.72c-.78.78-.78 2.05 0 2.83L4 21.41c.39.39.9.59 1.41.59.51 0 1.02-.2 1.41-.59l7.78-7.78 2.81-2.81c.8-.78.8-2.07 0-2.86zM5.41 20L4 18.59l7.72-7.72 1.47 1.35L5.41 20z\"/>\n",
              "  </svg>\n",
              "      </button>\n",
              "      \n",
              "  <style>\n",
              "    .colab-df-container {\n",
              "      display:flex;\n",
              "      flex-wrap:wrap;\n",
              "      gap: 12px;\n",
              "    }\n",
              "\n",
              "    .colab-df-convert {\n",
              "      background-color: #E8F0FE;\n",
              "      border: none;\n",
              "      border-radius: 50%;\n",
              "      cursor: pointer;\n",
              "      display: none;\n",
              "      fill: #1967D2;\n",
              "      height: 32px;\n",
              "      padding: 0 0 0 0;\n",
              "      width: 32px;\n",
              "    }\n",
              "\n",
              "    .colab-df-convert:hover {\n",
              "      background-color: #E2EBFA;\n",
              "      box-shadow: 0px 1px 2px rgba(60, 64, 67, 0.3), 0px 1px 3px 1px rgba(60, 64, 67, 0.15);\n",
              "      fill: #174EA6;\n",
              "    }\n",
              "\n",
              "    [theme=dark] .colab-df-convert {\n",
              "      background-color: #3B4455;\n",
              "      fill: #D2E3FC;\n",
              "    }\n",
              "\n",
              "    [theme=dark] .colab-df-convert:hover {\n",
              "      background-color: #434B5C;\n",
              "      box-shadow: 0px 1px 3px 1px rgba(0, 0, 0, 0.15);\n",
              "      filter: drop-shadow(0px 1px 2px rgba(0, 0, 0, 0.3));\n",
              "      fill: #FFFFFF;\n",
              "    }\n",
              "  </style>\n",
              "\n",
              "      <script>\n",
              "        const buttonEl =\n",
              "          document.querySelector('#df-2c521e0b-1c07-4e05-bded-e3b34fd7f3e6 button.colab-df-convert');\n",
              "        buttonEl.style.display =\n",
              "          google.colab.kernel.accessAllowed ? 'block' : 'none';\n",
              "\n",
              "        async function convertToInteractive(key) {\n",
              "          const element = document.querySelector('#df-2c521e0b-1c07-4e05-bded-e3b34fd7f3e6');\n",
              "          const dataTable =\n",
              "            await google.colab.kernel.invokeFunction('convertToInteractive',\n",
              "                                                     [key], {});\n",
              "          if (!dataTable) return;\n",
              "\n",
              "          const docLinkHtml = 'Like what you see? Visit the ' +\n",
              "            '<a target=\"_blank\" href=https://colab.research.google.com/notebooks/data_table.ipynb>data table notebook</a>'\n",
              "            + ' to learn more about interactive tables.';\n",
              "          element.innerHTML = '';\n",
              "          dataTable['output_type'] = 'display_data';\n",
              "          await google.colab.output.renderOutput(dataTable, element);\n",
              "          const docLink = document.createElement('div');\n",
              "          docLink.innerHTML = docLinkHtml;\n",
              "          element.appendChild(docLink);\n",
              "        }\n",
              "      </script>\n",
              "    </div>\n",
              "  </div>\n",
              "  "
            ]
          },
          "metadata": {},
          "execution_count": 190
        }
      ]
    },
    {
      "cell_type": "code",
      "source": [
        "print (classification_report(y_test, rf_pred))"
      ],
      "metadata": {
        "colab": {
          "base_uri": "https://localhost:8080/"
        },
        "id": "O2p7tLP_CCun",
        "outputId": "41225ed4-eb03-47e2-f4dc-ad1efe6a1c94"
      },
      "execution_count": null,
      "outputs": [
        {
          "output_type": "stream",
          "name": "stdout",
          "text": [
            "              precision    recall  f1-score   support\n",
            "\n",
            "           0       0.94      0.98      0.96        48\n",
            "           1       0.75      0.50      0.60         6\n",
            "\n",
            "    accuracy                           0.93        54\n",
            "   macro avg       0.84      0.74      0.78        54\n",
            "weighted avg       0.92      0.93      0.92        54\n",
            "\n"
          ]
        }
      ]
    },
    {
      "cell_type": "code",
      "source": [
        "# check confusion matrix\n",
        "skplt.metrics.plot_confusion_matrix(y_test, rf_pred);"
      ],
      "metadata": {
        "colab": {
          "base_uri": "https://localhost:8080/",
          "height": 295
        },
        "id": "Gxh0rzNrl6yh",
        "outputId": "14e595c9-7e0f-4506-a8ab-b5448b78bbf3"
      },
      "execution_count": null,
      "outputs": [
        {
          "output_type": "display_data",
          "data": {
            "text/plain": [
              "<Figure size 432x288 with 2 Axes>"
            ],
            "image/png": "[encoded data removed]"
          },
          "metadata": {
            "needs_background": "light"
          }
        }
      ]
    },
    {
      "cell_type": "code",
      "source": [
        "#Checking performance our model with ROC Score.\n",
        "from sklearn.metrics import roc_auc_score\n",
        "roc_auc_score(y_test, y_pred)"
      ],
      "metadata": {
        "colab": {
          "base_uri": "https://localhost:8080/"
        },
        "id": "mLU95aR7tcTO",
        "outputId": "60586d96-1e35-4ade-a220-18dc041c4ef9"
      },
      "execution_count": null,
      "outputs": [
        {
          "output_type": "execute_result",
          "data": {
            "text/plain": [
              "0.5"
            ]
          },
          "metadata": {},
          "execution_count": 193
        }
      ]
    },
    {
      "cell_type": "code",
      "source": [
        "skplt.metrics.plot_roc_curve(y_test, rf_pred_proba);"
      ],
      "metadata": {
        "colab": {
          "base_uri": "https://localhost:8080/",
          "height": 350
        },
        "id": "-4gQZdhYlROq",
        "outputId": "19a2301e-bf08-49b4-d9a8-84cf520560a4"
      },
      "execution_count": null,
      "outputs": [
        {
          "output_type": "stream",
          "name": "stderr",
          "text": [
            "/usr/local/lib/python3.7/dist-packages/sklearn/utils/deprecation.py:87: FutureWarning: Function plot_roc_curve is deprecated; This will be removed in v0.5.0. Please use scikitplot.metrics.plot_roc instead.\n",
            "  warnings.warn(msg, category=FutureWarning)\n"
          ]
        },
        {
          "output_type": "display_data",
          "data": {
            "text/plain": [
              "<Figure size 432x288 with 1 Axes>"
            ],
            "image/png": "[encoded data removed]"
          },
          "metadata": {
            "needs_background": "light"
          }
        }
      ]
    },
    {
      "cell_type": "markdown",
      "source": [
        "###SVM RBF"
      ],
      "metadata": {
        "id": "k3qrssMIlT8q"
      }
    },
    {
      "cell_type": "code",
      "source": [
        "pd.DataFrame(metrics.classification_report(y_test, svm_pred, target_names=['Tidak Krisis','Krisis'], output_dict=True))"
      ],
      "metadata": {
        "colab": {
          "base_uri": "https://localhost:8080/",
          "height": 299
        },
        "id": "yIeE_ZfNlX4K",
        "outputId": "2cd4caf1-40cb-4bce-f7f8-e4579c997093"
      },
      "execution_count": null,
      "outputs": [
        {
          "output_type": "stream",
          "name": "stderr",
          "text": [
            "/usr/local/lib/python3.7/dist-packages/sklearn/metrics/_classification.py:1318: UndefinedMetricWarning: Precision and F-score are ill-defined and being set to 0.0 in labels with no predicted samples. Use `zero_division` parameter to control this behavior.\n",
            "  _warn_prf(average, modifier, msg_start, len(result))\n",
            "/usr/local/lib/python3.7/dist-packages/sklearn/metrics/_classification.py:1318: UndefinedMetricWarning: Precision and F-score are ill-defined and being set to 0.0 in labels with no predicted samples. Use `zero_division` parameter to control this behavior.\n",
            "  _warn_prf(average, modifier, msg_start, len(result))\n",
            "/usr/local/lib/python3.7/dist-packages/sklearn/metrics/_classification.py:1318: UndefinedMetricWarning: Precision and F-score are ill-defined and being set to 0.0 in labels with no predicted samples. Use `zero_division` parameter to control this behavior.\n",
            "  _warn_prf(average, modifier, msg_start, len(result))\n"
          ]
        },
        {
          "output_type": "execute_result",
          "data": {
            "text/plain": [
              "           Tidak Krisis  Krisis  accuracy  macro avg  weighted avg\n",
              "precision      0.888889     0.0  0.888889   0.444444      0.790123\n",
              "recall         1.000000     0.0  0.888889   0.500000      0.888889\n",
              "f1-score       0.941176     0.0  0.888889   0.470588      0.836601\n",
              "support       48.000000     6.0  0.888889  54.000000     54.000000"
            ],
            "text/html": [
              "\n",
              "  <div id=\"df-8377801f-9ecd-4b91-8dcf-3d2898e19e56\">\n",
              "    <div class=\"colab-df-container\">\n",
              "      <div>\n",
              "<style scoped>\n",
              "    .dataframe tbody tr th:only-of-type {\n",
              "        vertical-align: middle;\n",
              "    }\n",
              "\n",
              "    .dataframe tbody tr th {\n",
              "        vertical-align: top;\n",
              "    }\n",
              "\n",
              "    .dataframe thead th {\n",
              "        text-align: right;\n",
              "    }\n",
              "</style>\n",
              "<table border=\"1\" class=\"dataframe\">\n",
              "  <thead>\n",
              "    <tr style=\"text-align: right;\">\n",
              "      <th></th>\n",
              "      <th>Tidak Krisis</th>\n",
              "      <th>Krisis</th>\n",
              "      <th>accuracy</th>\n",
              "      <th>macro avg</th>\n",
              "      <th>weighted avg</th>\n",
              "    </tr>\n",
              "  </thead>\n",
              "  <tbody>\n",
              "    <tr>\n",
              "      <th>precision</th>\n",
              "      <td>0.888889</td>\n",
              "      <td>0.0</td>\n",
              "      <td>0.888889</td>\n",
              "      <td>0.444444</td>\n",
              "      <td>0.790123</td>\n",
              "    </tr>\n",
              "    <tr>\n",
              "      <th>recall</th>\n",
              "      <td>1.000000</td>\n",
              "      <td>0.0</td>\n",
              "      <td>0.888889</td>\n",
              "      <td>0.500000</td>\n",
              "      <td>0.888889</td>\n",
              "    </tr>\n",
              "    <tr>\n",
              "      <th>f1-score</th>\n",
              "      <td>0.941176</td>\n",
              "      <td>0.0</td>\n",
              "      <td>0.888889</td>\n",
              "      <td>0.470588</td>\n",
              "      <td>0.836601</td>\n",
              "    </tr>\n",
              "    <tr>\n",
              "      <th>support</th>\n",
              "      <td>48.000000</td>\n",
              "      <td>6.0</td>\n",
              "      <td>0.888889</td>\n",
              "      <td>54.000000</td>\n",
              "      <td>54.000000</td>\n",
              "    </tr>\n",
              "  </tbody>\n",
              "</table>\n",
              "</div>\n",
              "      <button class=\"colab-df-convert\" onclick=\"convertToInteractive('df-8377801f-9ecd-4b91-8dcf-3d2898e19e56')\"\n",
              "              title=\"Convert this dataframe to an interactive table.\"\n",
              "              style=\"display:none;\">\n",
              "        \n",
              "  <svg xmlns=\"http://www.w3.org/2000/svg\" height=\"24px\"viewBox=\"0 0 24 24\"\n",
              "       width=\"24px\">\n",
              "    <path d=\"M0 0h24v24H0V0z\" fill=\"none\"/>\n",
              "    <path d=\"M18.56 5.44l.94 2.06.94-2.06 2.06-.94-2.06-.94-.94-2.06-.94 2.06-2.06.94zm-11 1L8.5 8.5l.94-2.06 2.06-.94-2.06-.94L8.5 2.5l-.94 2.06-2.06.94zm10 10l.94 2.06.94-2.06 2.06-.94-2.06-.94-.94-2.06-.94 2.06-2.06.94z\"/><path d=\"M17.41 7.96l-1.37-1.37c-.4-.4-.92-.59-1.43-.59-.52 0-1.04.2-1.43.59L10.3 9.45l-7.72 7.72c-.78.78-.78 2.05 0 2.83L4 21.41c.39.39.9.59 1.41.59.51 0 1.02-.2 1.41-.59l7.78-7.78 2.81-2.81c.8-.78.8-2.07 0-2.86zM5.41 20L4 18.59l7.72-7.72 1.47 1.35L5.41 20z\"/>\n",
              "  </svg>\n",
              "      </button>\n",
              "      \n",
              "  <style>\n",
              "    .colab-df-container {\n",
              "      display:flex;\n",
              "      flex-wrap:wrap;\n",
              "      gap: 12px;\n",
              "    }\n",
              "\n",
              "    .colab-df-convert {\n",
              "      background-color: #E8F0FE;\n",
              "      border: none;\n",
              "      border-radius: 50%;\n",
              "      cursor: pointer;\n",
              "      display: none;\n",
              "      fill: #1967D2;\n",
              "      height: 32px;\n",
              "      padding: 0 0 0 0;\n",
              "      width: 32px;\n",
              "    }\n",
              "\n",
              "    .colab-df-convert:hover {\n",
              "      background-color: #E2EBFA;\n",
              "      box-shadow: 0px 1px 2px rgba(60, 64, 67, 0.3), 0px 1px 3px 1px rgba(60, 64, 67, 0.15);\n",
              "      fill: #174EA6;\n",
              "    }\n",
              "\n",
              "    [theme=dark] .colab-df-convert {\n",
              "      background-color: #3B4455;\n",
              "      fill: #D2E3FC;\n",
              "    }\n",
              "\n",
              "    [theme=dark] .colab-df-convert:hover {\n",
              "      background-color: #434B5C;\n",
              "      box-shadow: 0px 1px 3px 1px rgba(0, 0, 0, 0.15);\n",
              "      filter: drop-shadow(0px 1px 2px rgba(0, 0, 0, 0.3));\n",
              "      fill: #FFFFFF;\n",
              "    }\n",
              "  </style>\n",
              "\n",
              "      <script>\n",
              "        const buttonEl =\n",
              "          document.querySelector('#df-8377801f-9ecd-4b91-8dcf-3d2898e19e56 button.colab-df-convert');\n",
              "        buttonEl.style.display =\n",
              "          google.colab.kernel.accessAllowed ? 'block' : 'none';\n",
              "\n",
              "        async function convertToInteractive(key) {\n",
              "          const element = document.querySelector('#df-8377801f-9ecd-4b91-8dcf-3d2898e19e56');\n",
              "          const dataTable =\n",
              "            await google.colab.kernel.invokeFunction('convertToInteractive',\n",
              "                                                     [key], {});\n",
              "          if (!dataTable) return;\n",
              "\n",
              "          const docLinkHtml = 'Like what you see? Visit the ' +\n",
              "            '<a target=\"_blank\" href=https://colab.research.google.com/notebooks/data_table.ipynb>data table notebook</a>'\n",
              "            + ' to learn more about interactive tables.';\n",
              "          element.innerHTML = '';\n",
              "          dataTable['output_type'] = 'display_data';\n",
              "          await google.colab.output.renderOutput(dataTable, element);\n",
              "          const docLink = document.createElement('div');\n",
              "          docLink.innerHTML = docLinkHtml;\n",
              "          element.appendChild(docLink);\n",
              "        }\n",
              "      </script>\n",
              "    </div>\n",
              "  </div>\n",
              "  "
            ]
          },
          "metadata": {},
          "execution_count": 195
        }
      ]
    },
    {
      "cell_type": "code",
      "source": [
        "print (classification_report(y_test, svm_pred))"
      ],
      "metadata": {
        "colab": {
          "base_uri": "https://localhost:8080/"
        },
        "id": "5pvanJylCEuX",
        "outputId": "d47a5909-3f3f-463e-aeba-3f99cfdda6aa"
      },
      "execution_count": null,
      "outputs": [
        {
          "output_type": "stream",
          "name": "stdout",
          "text": [
            "              precision    recall  f1-score   support\n",
            "\n",
            "           0       0.89      1.00      0.94        48\n",
            "           1       0.00      0.00      0.00         6\n",
            "\n",
            "    accuracy                           0.89        54\n",
            "   macro avg       0.44      0.50      0.47        54\n",
            "weighted avg       0.79      0.89      0.84        54\n",
            "\n"
          ]
        },
        {
          "output_type": "stream",
          "name": "stderr",
          "text": [
            "/usr/local/lib/python3.7/dist-packages/sklearn/metrics/_classification.py:1318: UndefinedMetricWarning: Precision and F-score are ill-defined and being set to 0.0 in labels with no predicted samples. Use `zero_division` parameter to control this behavior.\n",
            "  _warn_prf(average, modifier, msg_start, len(result))\n",
            "/usr/local/lib/python3.7/dist-packages/sklearn/metrics/_classification.py:1318: UndefinedMetricWarning: Precision and F-score are ill-defined and being set to 0.0 in labels with no predicted samples. Use `zero_division` parameter to control this behavior.\n",
            "  _warn_prf(average, modifier, msg_start, len(result))\n",
            "/usr/local/lib/python3.7/dist-packages/sklearn/metrics/_classification.py:1318: UndefinedMetricWarning: Precision and F-score are ill-defined and being set to 0.0 in labels with no predicted samples. Use `zero_division` parameter to control this behavior.\n",
            "  _warn_prf(average, modifier, msg_start, len(result))\n"
          ]
        }
      ]
    },
    {
      "cell_type": "code",
      "source": [
        "# check confusion matrix\n",
        "skplt.metrics.plot_confusion_matrix(y_test, svm_pred);"
      ],
      "metadata": {
        "colab": {
          "base_uri": "https://localhost:8080/",
          "height": 295
        },
        "id": "tUIvOGzJl7di",
        "outputId": "e3443aec-6d60-432d-ad79-81308d38477e"
      },
      "execution_count": null,
      "outputs": [
        {
          "output_type": "display_data",
          "data": {
            "text/plain": [
              "<Figure size 432x288 with 2 Axes>"
            ],
            "image/png": "[encoded data removed]"
          },
          "metadata": {
            "needs_background": "light"
          }
        }
      ]
    },
    {
      "cell_type": "code",
      "source": [
        "#Checking performance our model with ROC Score.\n",
        "from sklearn.metrics import roc_auc_score\n",
        "roc_auc_score(y_test, y_pred)"
      ],
      "metadata": {
        "colab": {
          "base_uri": "https://localhost:8080/"
        },
        "id": "r3NO9V4fteBl",
        "outputId": "7f055748-1c07-4b93-8f40-b6450d122f4a"
      },
      "execution_count": null,
      "outputs": [
        {
          "output_type": "execute_result",
          "data": {
            "text/plain": [
              "0.5"
            ]
          },
          "metadata": {},
          "execution_count": 198
        }
      ]
    },
    {
      "cell_type": "code",
      "source": [
        "skplt.metrics.plot_roc_curve(y_test, svm_pred_proba);"
      ],
      "metadata": {
        "colab": {
          "base_uri": "https://localhost:8080/",
          "height": 350
        },
        "id": "dBjK1WjElYa0",
        "outputId": "fc53dce8-113d-406e-845d-bb1f8a58ab52"
      },
      "execution_count": null,
      "outputs": [
        {
          "output_type": "stream",
          "name": "stderr",
          "text": [
            "/usr/local/lib/python3.7/dist-packages/sklearn/utils/deprecation.py:87: FutureWarning: Function plot_roc_curve is deprecated; This will be removed in v0.5.0. Please use scikitplot.metrics.plot_roc instead.\n",
            "  warnings.warn(msg, category=FutureWarning)\n"
          ]
        },
        {
          "output_type": "display_data",
          "data": {
            "text/plain": [
              "<Figure size 432x288 with 1 Axes>"
            ],
            "image/png": "[encoded data removed]"
          },
          "metadata": {
            "needs_background": "light"
          }
        }
      ]
    },
    {
      "cell_type": "markdown",
      "source": [
        "###XGBoost "
      ],
      "metadata": {
        "id": "fVbS7tnMlaKz"
      }
    },
    {
      "cell_type": "code",
      "source": [
        "pd.DataFrame(metrics.classification_report(y_test, xgb_pred, target_names=['Tidak Krisis','Krisis'], output_dict=True))"
      ],
      "metadata": {
        "colab": {
          "base_uri": "https://localhost:8080/",
          "height": 175
        },
        "id": "jswq-cNPldXZ",
        "outputId": "9cc8b5f6-2f84-4649-c53d-2efc04c3ce5a"
      },
      "execution_count": null,
      "outputs": [
        {
          "output_type": "execute_result",
          "data": {
            "text/plain": [
              "           Tidak Krisis    Krisis  accuracy  macro avg  weighted avg\n",
              "precision      0.921569  0.666667  0.907407   0.794118      0.893246\n",
              "recall         0.979167  0.333333  0.907407   0.656250      0.907407\n",
              "f1-score       0.949495  0.444444  0.907407   0.696970      0.893378\n",
              "support       48.000000  6.000000  0.907407  54.000000     54.000000"
            ],
            "text/html": [
              "\n",
              "  <div id=\"df-b1614d73-e46e-4907-ad72-d983a6454963\">\n",
              "    <div class=\"colab-df-container\">\n",
              "      <div>\n",
              "<style scoped>\n",
              "    .dataframe tbody tr th:only-of-type {\n",
              "        vertical-align: middle;\n",
              "    }\n",
              "\n",
              "    .dataframe tbody tr th {\n",
              "        vertical-align: top;\n",
              "    }\n",
              "\n",
              "    .dataframe thead th {\n",
              "        text-align: right;\n",
              "    }\n",
              "</style>\n",
              "<table border=\"1\" class=\"dataframe\">\n",
              "  <thead>\n",
              "    <tr style=\"text-align: right;\">\n",
              "      <th></th>\n",
              "      <th>Tidak Krisis</th>\n",
              "      <th>Krisis</th>\n",
              "      <th>accuracy</th>\n",
              "      <th>macro avg</th>\n",
              "      <th>weighted avg</th>\n",
              "    </tr>\n",
              "  </thead>\n",
              "  <tbody>\n",
              "    <tr>\n",
              "      <th>precision</th>\n",
              "      <td>0.921569</td>\n",
              "      <td>0.666667</td>\n",
              "      <td>0.907407</td>\n",
              "      <td>0.794118</td>\n",
              "      <td>0.893246</td>\n",
              "    </tr>\n",
              "    <tr>\n",
              "      <th>recall</th>\n",
              "      <td>0.979167</td>\n",
              "      <td>0.333333</td>\n",
              "      <td>0.907407</td>\n",
              "      <td>0.656250</td>\n",
              "      <td>0.907407</td>\n",
              "    </tr>\n",
              "    <tr>\n",
              "      <th>f1-score</th>\n",
              "      <td>0.949495</td>\n",
              "      <td>0.444444</td>\n",
              "      <td>0.907407</td>\n",
              "      <td>0.696970</td>\n",
              "      <td>0.893378</td>\n",
              "    </tr>\n",
              "    <tr>\n",
              "      <th>support</th>\n",
              "      <td>48.000000</td>\n",
              "      <td>6.000000</td>\n",
              "      <td>0.907407</td>\n",
              "      <td>54.000000</td>\n",
              "      <td>54.000000</td>\n",
              "    </tr>\n",
              "  </tbody>\n",
              "</table>\n",
              "</div>\n",
              "      <button class=\"colab-df-convert\" onclick=\"convertToInteractive('df-b1614d73-e46e-4907-ad72-d983a6454963')\"\n",
              "              title=\"Convert this dataframe to an interactive table.\"\n",
              "              style=\"display:none;\">\n",
              "        \n",
              "  <svg xmlns=\"http://www.w3.org/2000/svg\" height=\"24px\"viewBox=\"0 0 24 24\"\n",
              "       width=\"24px\">\n",
              "    <path d=\"M0 0h24v24H0V0z\" fill=\"none\"/>\n",
              "    <path d=\"M18.56 5.44l.94 2.06.94-2.06 2.06-.94-2.06-.94-.94-2.06-.94 2.06-2.06.94zm-11 1L8.5 8.5l.94-2.06 2.06-.94-2.06-.94L8.5 2.5l-.94 2.06-2.06.94zm10 10l.94 2.06.94-2.06 2.06-.94-2.06-.94-.94-2.06-.94 2.06-2.06.94z\"/><path d=\"M17.41 7.96l-1.37-1.37c-.4-.4-.92-.59-1.43-.59-.52 0-1.04.2-1.43.59L10.3 9.45l-7.72 7.72c-.78.78-.78 2.05 0 2.83L4 21.41c.39.39.9.59 1.41.59.51 0 1.02-.2 1.41-.59l7.78-7.78 2.81-2.81c.8-.78.8-2.07 0-2.86zM5.41 20L4 18.59l7.72-7.72 1.47 1.35L5.41 20z\"/>\n",
              "  </svg>\n",
              "      </button>\n",
              "      \n",
              "  <style>\n",
              "    .colab-df-container {\n",
              "      display:flex;\n",
              "      flex-wrap:wrap;\n",
              "      gap: 12px;\n",
              "    }\n",
              "\n",
              "    .colab-df-convert {\n",
              "      background-color: #E8F0FE;\n",
              "      border: none;\n",
              "      border-radius: 50%;\n",
              "      cursor: pointer;\n",
              "      display: none;\n",
              "      fill: #1967D2;\n",
              "      height: 32px;\n",
              "      padding: 0 0 0 0;\n",
              "      width: 32px;\n",
              "    }\n",
              "\n",
              "    .colab-df-convert:hover {\n",
              "      background-color: #E2EBFA;\n",
              "      box-shadow: 0px 1px 2px rgba(60, 64, 67, 0.3), 0px 1px 3px 1px rgba(60, 64, 67, 0.15);\n",
              "      fill: #174EA6;\n",
              "    }\n",
              "\n",
              "    [theme=dark] .colab-df-convert {\n",
              "      background-color: #3B4455;\n",
              "      fill: #D2E3FC;\n",
              "    }\n",
              "\n",
              "    [theme=dark] .colab-df-convert:hover {\n",
              "      background-color: #434B5C;\n",
              "      box-shadow: 0px 1px 3px 1px rgba(0, 0, 0, 0.15);\n",
              "      filter: drop-shadow(0px 1px 2px rgba(0, 0, 0, 0.3));\n",
              "      fill: #FFFFFF;\n",
              "    }\n",
              "  </style>\n",
              "\n",
              "      <script>\n",
              "        const buttonEl =\n",
              "          document.querySelector('#df-b1614d73-e46e-4907-ad72-d983a6454963 button.colab-df-convert');\n",
              "        buttonEl.style.display =\n",
              "          google.colab.kernel.accessAllowed ? 'block' : 'none';\n",
              "\n",
              "        async function convertToInteractive(key) {\n",
              "          const element = document.querySelector('#df-b1614d73-e46e-4907-ad72-d983a6454963');\n",
              "          const dataTable =\n",
              "            await google.colab.kernel.invokeFunction('convertToInteractive',\n",
              "                                                     [key], {});\n",
              "          if (!dataTable) return;\n",
              "\n",
              "          const docLinkHtml = 'Like what you see? Visit the ' +\n",
              "            '<a target=\"_blank\" href=https://colab.research.google.com/notebooks/data_table.ipynb>data table notebook</a>'\n",
              "            + ' to learn more about interactive tables.';\n",
              "          element.innerHTML = '';\n",
              "          dataTable['output_type'] = 'display_data';\n",
              "          await google.colab.output.renderOutput(dataTable, element);\n",
              "          const docLink = document.createElement('div');\n",
              "          docLink.innerHTML = docLinkHtml;\n",
              "          element.appendChild(docLink);\n",
              "        }\n",
              "      </script>\n",
              "    </div>\n",
              "  </div>\n",
              "  "
            ]
          },
          "metadata": {},
          "execution_count": 200
        }
      ]
    },
    {
      "cell_type": "code",
      "source": [
        "print (classification_report(y_test, xgb_pred))"
      ],
      "metadata": {
        "colab": {
          "base_uri": "https://localhost:8080/"
        },
        "id": "Q9dnrnMMCGv0",
        "outputId": "c681c1b2-58db-48be-c7c4-59b1acc2d318"
      },
      "execution_count": null,
      "outputs": [
        {
          "output_type": "stream",
          "name": "stdout",
          "text": [
            "              precision    recall  f1-score   support\n",
            "\n",
            "           0       0.92      0.98      0.95        48\n",
            "           1       0.67      0.33      0.44         6\n",
            "\n",
            "    accuracy                           0.91        54\n",
            "   macro avg       0.79      0.66      0.70        54\n",
            "weighted avg       0.89      0.91      0.89        54\n",
            "\n"
          ]
        }
      ]
    },
    {
      "cell_type": "code",
      "source": [
        "# check confusion matrix\n",
        "skplt.metrics.plot_confusion_matrix(y_test, xgb_pred);"
      ],
      "metadata": {
        "colab": {
          "base_uri": "https://localhost:8080/",
          "height": 295
        },
        "id": "6zpeowg6l9Ed",
        "outputId": "eff09361-5d38-44c3-ec24-744a89c57495"
      },
      "execution_count": null,
      "outputs": [
        {
          "output_type": "display_data",
          "data": {
            "text/plain": [
              "<Figure size 432x288 with 2 Axes>"
            ],
            "image/png": "[encoded data removed]"
          },
          "metadata": {
            "needs_background": "light"
          }
        }
      ]
    },
    {
      "cell_type": "code",
      "source": [
        "#Checking performance our model with ROC Score.\n",
        "from sklearn.metrics import roc_auc_score\n",
        "roc_auc_score(y_test, y_pred)"
      ],
      "metadata": {
        "colab": {
          "base_uri": "https://localhost:8080/"
        },
        "id": "t1ySx4vmtfBp",
        "outputId": "555067c2-c76a-4dce-95ac-1fa493883aa5"
      },
      "execution_count": null,
      "outputs": [
        {
          "output_type": "execute_result",
          "data": {
            "text/plain": [
              "0.5"
            ]
          },
          "metadata": {},
          "execution_count": 203
        }
      ]
    },
    {
      "cell_type": "code",
      "source": [
        "skplt.metrics.plot_roc_curve(y_test, xgb_pred_proba);"
      ],
      "metadata": {
        "colab": {
          "base_uri": "https://localhost:8080/",
          "height": 350
        },
        "id": "ZcEKWzoQldtt",
        "outputId": "0c70075e-78f4-479b-82a8-1e219d202ca5"
      },
      "execution_count": null,
      "outputs": [
        {
          "output_type": "stream",
          "name": "stderr",
          "text": [
            "/usr/local/lib/python3.7/dist-packages/sklearn/utils/deprecation.py:87: FutureWarning: Function plot_roc_curve is deprecated; This will be removed in v0.5.0. Please use scikitplot.metrics.plot_roc instead.\n",
            "  warnings.warn(msg, category=FutureWarning)\n"
          ]
        },
        {
          "output_type": "display_data",
          "data": {
            "text/plain": [
              "<Figure size 432x288 with 1 Axes>"
            ],
            "image/png": "[encoded data removed]"
          },
          "metadata": {
            "needs_background": "light"
          }
        }
      ]
    },
    {
      "cell_type": "markdown",
      "source": [
        "We can determine the accuracy of the models we create with performance metrics such as: accuracy, F1 Score, precision, Micro ROC.\n",
        "\n",
        "1.   KNN = 91%, 95%, 96%, 80%\n",
        "2.   KNN Tuned Model = 94%, 97%, 96%, 94% ---> *Best model cause accuracy, F1 Score, and precision*\n",
        "3.   Decision Tree = 93%, 96%, 96%, 95%\n",
        "4.   Random Forest = 93%, 96%, 94%, 98%\n",
        "5.   SVM RBF = 89%, 94%, 89%, 98%\n",
        "6.   XGBoost = 91%, 95%, 92%, 98%\n",
        "7.   Logistic Regression = 89%, 94%, 89%\n",
        "\n"
      ],
      "metadata": {
        "id": "RpU0S2rh8wdY"
      }
    },
    {
      "cell_type": "markdown",
      "source": [
        "Hence, KNN Tuned Model is the best model we should choose to predict a dataset of 'predict.csv'"
      ],
      "metadata": {
        "id": "Eeb7VZolAdEB"
      }
    },
    {
      "cell_type": "markdown",
      "source": [
        "#Predict df_predict with KNN Tuned Model"
      ],
      "metadata": {
        "id": "TCTOaEtzAlwQ"
      }
    },
    {
      "cell_type": "code",
      "source": [
        "classes = {0:'TIDAK KRISIS',1:'KRISIS'}"
      ],
      "metadata": {
        "id": "6_RgSY1JAttw"
      },
      "execution_count": null,
      "outputs": []
    },
    {
      "cell_type": "code",
      "source": [
        "#load data\n",
        "df_predict = pd.read_csv('/content/gdrive/MyDrive/DS - WallStreet DevOps/FINAL PROJECT/predict.csv',sep = ';')"
      ],
      "metadata": {
        "id": "xOcYPDw6MKGS"
      },
      "execution_count": null,
      "outputs": []
    },
    {
      "cell_type": "code",
      "source": [
        "# drop certain columns\n",
        "data_predict = df_predict.drop(\n",
        "    ['Id','Ekspor', 'Cadangan Devisa','IHSG','Selisih Pinjaman dan Simpanan','Suku Bunga Simpanan Riil','Selisih BI Rate Riil dan FED Rate Riil','Simpanan bank ','Nilai Tukar Riil','Nilai Tukar Perdagangan'], \n",
        "    axis = 1\n",
        ")\n",
        "\n",
        "data_predict.info()"
      ],
      "metadata": {
        "colab": {
          "base_uri": "https://localhost:8080/"
        },
        "id": "85KN7eqJLeIQ",
        "outputId": "a9248c8b-3d0b-4f87-8c5b-96f9fd416460"
      },
      "execution_count": null,
      "outputs": [
        {
          "output_type": "stream",
          "name": "stdout",
          "text": [
            "<class 'pandas.core.frame.DataFrame'>\n",
            "RangeIndex: 83 entries, 0 to 82\n",
            "Data columns (total 3 columns):\n",
            " #   Column              Non-Null Count  Dtype  \n",
            "---  ------              --------------  -----  \n",
            " 0   M1                  83 non-null     float64\n",
            " 1   M2/Cadangan Devisa  83 non-null     float64\n",
            " 2   M2M                 83 non-null     float64\n",
            "dtypes: float64(3)\n",
            "memory usage: 2.1 KB\n"
          ]
        }
      ]
    },
    {
      "cell_type": "code",
      "source": [
        "final_predict = knn.predict(data_predict)"
      ],
      "metadata": {
        "colab": {
          "base_uri": "https://localhost:8080/"
        },
        "id": "gS2h-TcfA9AJ",
        "outputId": "384166b3-c9fe-482f-ee0d-857b5161396e"
      },
      "execution_count": null,
      "outputs": [
        {
          "output_type": "stream",
          "name": "stderr",
          "text": [
            "/usr/local/lib/python3.7/dist-packages/sklearn/base.py:444: UserWarning: X has feature names, but KNeighborsClassifier was fitted without feature names\n",
            "  f\"X has feature names, but {self.__class__.__name__} was fitted without\"\n"
          ]
        }
      ]
    },
    {
      "cell_type": "code",
      "source": [
        "final_predict"
      ],
      "metadata": {
        "colab": {
          "base_uri": "https://localhost:8080/"
        },
        "id": "zqUM_mQURUUI",
        "outputId": "52956d0e-8be4-4069-997e-c5d278d94016"
      },
      "execution_count": null,
      "outputs": [
        {
          "output_type": "execute_result",
          "data": {
            "text/plain": [
              "array([0, 0, 0, 0, 0, 0, 0, 0, 0, 0, 0, 0, 0, 0, 0, 0, 0, 0, 0, 0, 1, 0,\n",
              "       0, 0, 0, 0, 0, 0, 0, 0, 0, 0, 0, 0, 0, 0, 0, 0, 0, 0, 0, 0, 0, 0,\n",
              "       0, 0, 0, 0, 0, 1, 1, 0, 0, 0, 0, 0, 0, 0, 0, 0, 0, 0, 0, 0, 0, 0,\n",
              "       0, 0, 0, 0, 0, 0, 0, 0, 0, 0, 0, 0, 0, 0, 0, 0, 0])"
            ]
          },
          "metadata": {},
          "execution_count": 209
        }
      ]
    },
    {
      "cell_type": "code",
      "source": [
        "print(classes[final_predict[np.random.randint(0,82)]])"
      ],
      "metadata": {
        "colab": {
          "base_uri": "https://localhost:8080/"
        },
        "id": "tIPlo4H0DjRR",
        "outputId": "404f3d00-e69f-4ff8-f6d8-17d83b644c64"
      },
      "execution_count": null,
      "outputs": [
        {
          "output_type": "stream",
          "name": "stdout",
          "text": [
            "TIDAK KRISIS\n"
          ]
        }
      ]
    },
    {
      "cell_type": "markdown",
      "source": [
        "The following are the results of crisis predictions using the \"predict.csv' dataset where the model used is the KNN Tuned Model"
      ],
      "metadata": {
        "id": "qtq7cgP2KhTQ"
      }
    },
    {
      "cell_type": "code",
      "source": [
        "#Create column of 'Krisis Prediction' to data_predict\n",
        "data_predict['Krisis Prediction'] = final_predict.tolist()\n",
        "data_predict"
      ],
      "metadata": {
        "colab": {
          "base_uri": "https://localhost:8080/",
          "height": 424
        },
        "id": "WmJaM1quRywT",
        "outputId": "f6fec30c-0d29-4187-bbd0-df5a3bfdb1eb"
      },
      "execution_count": null,
      "outputs": [
        {
          "output_type": "execute_result",
          "data": {
            "text/plain": [
              "        M1  M2/Cadangan Devisa   M2M  Krisis Prediction\n",
              "0    12.27              0.0062  5.78                  0\n",
              "1    11.56              0.0071  6.92                  0\n",
              "2    12.33              0.0063  7.02                  0\n",
              "3    12.05              0.0061  7.14                  0\n",
              "4    12.04              0.0052  7.84                  0\n",
              "..     ...                 ...   ...                ...\n",
              "78   98.95              0.0031  5.19                  0\n",
              "79   94.10              0.0032  5.50                  0\n",
              "80   94.56              0.0033  5.63                  0\n",
              "81   98.00              0.0034  5.69                  0\n",
              "82  107.74              0.0034  5.69                  0\n",
              "\n",
              "[83 rows x 4 columns]"
            ],
            "text/html": [
              "\n",
              "  <div id=\"df-fbc397d3-da7b-4167-8dea-ee10d06013b3\">\n",
              "    <div class=\"colab-df-container\">\n",
              "      <div>\n",
              "<style scoped>\n",
              "    .dataframe tbody tr th:only-of-type {\n",
              "        vertical-align: middle;\n",
              "    }\n",
              "\n",
              "    .dataframe tbody tr th {\n",
              "        vertical-align: top;\n",
              "    }\n",
              "\n",
              "    .dataframe thead th {\n",
              "        text-align: right;\n",
              "    }\n",
              "</style>\n",
              "<table border=\"1\" class=\"dataframe\">\n",
              "  <thead>\n",
              "    <tr style=\"text-align: right;\">\n",
              "      <th></th>\n",
              "      <th>M1</th>\n",
              "      <th>M2/Cadangan Devisa</th>\n",
              "      <th>M2M</th>\n",
              "      <th>Krisis Prediction</th>\n",
              "    </tr>\n",
              "  </thead>\n",
              "  <tbody>\n",
              "    <tr>\n",
              "      <th>0</th>\n",
              "      <td>12.27</td>\n",
              "      <td>0.0062</td>\n",
              "      <td>5.78</td>\n",
              "      <td>0</td>\n",
              "    </tr>\n",
              "    <tr>\n",
              "      <th>1</th>\n",
              "      <td>11.56</td>\n",
              "      <td>0.0071</td>\n",
              "      <td>6.92</td>\n",
              "      <td>0</td>\n",
              "    </tr>\n",
              "    <tr>\n",
              "      <th>2</th>\n",
              "      <td>12.33</td>\n",
              "      <td>0.0063</td>\n",
              "      <td>7.02</td>\n",
              "      <td>0</td>\n",
              "    </tr>\n",
              "    <tr>\n",
              "      <th>3</th>\n",
              "      <td>12.05</td>\n",
              "      <td>0.0061</td>\n",
              "      <td>7.14</td>\n",
              "      <td>0</td>\n",
              "    </tr>\n",
              "    <tr>\n",
              "      <th>4</th>\n",
              "      <td>12.04</td>\n",
              "      <td>0.0052</td>\n",
              "      <td>7.84</td>\n",
              "      <td>0</td>\n",
              "    </tr>\n",
              "    <tr>\n",
              "      <th>...</th>\n",
              "      <td>...</td>\n",
              "      <td>...</td>\n",
              "      <td>...</td>\n",
              "      <td>...</td>\n",
              "    </tr>\n",
              "    <tr>\n",
              "      <th>78</th>\n",
              "      <td>98.95</td>\n",
              "      <td>0.0031</td>\n",
              "      <td>5.19</td>\n",
              "      <td>0</td>\n",
              "    </tr>\n",
              "    <tr>\n",
              "      <th>79</th>\n",
              "      <td>94.10</td>\n",
              "      <td>0.0032</td>\n",
              "      <td>5.50</td>\n",
              "      <td>0</td>\n",
              "    </tr>\n",
              "    <tr>\n",
              "      <th>80</th>\n",
              "      <td>94.56</td>\n",
              "      <td>0.0033</td>\n",
              "      <td>5.63</td>\n",
              "      <td>0</td>\n",
              "    </tr>\n",
              "    <tr>\n",
              "      <th>81</th>\n",
              "      <td>98.00</td>\n",
              "      <td>0.0034</td>\n",
              "      <td>5.69</td>\n",
              "      <td>0</td>\n",
              "    </tr>\n",
              "    <tr>\n",
              "      <th>82</th>\n",
              "      <td>107.74</td>\n",
              "      <td>0.0034</td>\n",
              "      <td>5.69</td>\n",
              "      <td>0</td>\n",
              "    </tr>\n",
              "  </tbody>\n",
              "</table>\n",
              "<p>83 rows × 4 columns</p>\n",
              "</div>\n",
              "      <button class=\"colab-df-convert\" onclick=\"convertToInteractive('df-fbc397d3-da7b-4167-8dea-ee10d06013b3')\"\n",
              "              title=\"Convert this dataframe to an interactive table.\"\n",
              "              style=\"display:none;\">\n",
              "        \n",
              "  <svg xmlns=\"http://www.w3.org/2000/svg\" height=\"24px\"viewBox=\"0 0 24 24\"\n",
              "       width=\"24px\">\n",
              "    <path d=\"M0 0h24v24H0V0z\" fill=\"none\"/>\n",
              "    <path d=\"M18.56 5.44l.94 2.06.94-2.06 2.06-.94-2.06-.94-.94-2.06-.94 2.06-2.06.94zm-11 1L8.5 8.5l.94-2.06 2.06-.94-2.06-.94L8.5 2.5l-.94 2.06-2.06.94zm10 10l.94 2.06.94-2.06 2.06-.94-2.06-.94-.94-2.06-.94 2.06-2.06.94z\"/><path d=\"M17.41 7.96l-1.37-1.37c-.4-.4-.92-.59-1.43-.59-.52 0-1.04.2-1.43.59L10.3 9.45l-7.72 7.72c-.78.78-.78 2.05 0 2.83L4 21.41c.39.39.9.59 1.41.59.51 0 1.02-.2 1.41-.59l7.78-7.78 2.81-2.81c.8-.78.8-2.07 0-2.86zM5.41 20L4 18.59l7.72-7.72 1.47 1.35L5.41 20z\"/>\n",
              "  </svg>\n",
              "      </button>\n",
              "      \n",
              "  <style>\n",
              "    .colab-df-container {\n",
              "      display:flex;\n",
              "      flex-wrap:wrap;\n",
              "      gap: 12px;\n",
              "    }\n",
              "\n",
              "    .colab-df-convert {\n",
              "      background-color: #E8F0FE;\n",
              "      border: none;\n",
              "      border-radius: 50%;\n",
              "      cursor: pointer;\n",
              "      display: none;\n",
              "      fill: #1967D2;\n",
              "      height: 32px;\n",
              "      padding: 0 0 0 0;\n",
              "      width: 32px;\n",
              "    }\n",
              "\n",
              "    .colab-df-convert:hover {\n",
              "      background-color: #E2EBFA;\n",
              "      box-shadow: 0px 1px 2px rgba(60, 64, 67, 0.3), 0px 1px 3px 1px rgba(60, 64, 67, 0.15);\n",
              "      fill: #174EA6;\n",
              "    }\n",
              "\n",
              "    [theme=dark] .colab-df-convert {\n",
              "      background-color: #3B4455;\n",
              "      fill: #D2E3FC;\n",
              "    }\n",
              "\n",
              "    [theme=dark] .colab-df-convert:hover {\n",
              "      background-color: #434B5C;\n",
              "      box-shadow: 0px 1px 3px 1px rgba(0, 0, 0, 0.15);\n",
              "      filter: drop-shadow(0px 1px 2px rgba(0, 0, 0, 0.3));\n",
              "      fill: #FFFFFF;\n",
              "    }\n",
              "  </style>\n",
              "\n",
              "      <script>\n",
              "        const buttonEl =\n",
              "          document.querySelector('#df-fbc397d3-da7b-4167-8dea-ee10d06013b3 button.colab-df-convert');\n",
              "        buttonEl.style.display =\n",
              "          google.colab.kernel.accessAllowed ? 'block' : 'none';\n",
              "\n",
              "        async function convertToInteractive(key) {\n",
              "          const element = document.querySelector('#df-fbc397d3-da7b-4167-8dea-ee10d06013b3');\n",
              "          const dataTable =\n",
              "            await google.colab.kernel.invokeFunction('convertToInteractive',\n",
              "                                                     [key], {});\n",
              "          if (!dataTable) return;\n",
              "\n",
              "          const docLinkHtml = 'Like what you see? Visit the ' +\n",
              "            '<a target=\"_blank\" href=https://colab.research.google.com/notebooks/data_table.ipynb>data table notebook</a>'\n",
              "            + ' to learn more about interactive tables.';\n",
              "          element.innerHTML = '';\n",
              "          dataTable['output_type'] = 'display_data';\n",
              "          await google.colab.output.renderOutput(dataTable, element);\n",
              "          const docLink = document.createElement('div');\n",
              "          docLink.innerHTML = docLinkHtml;\n",
              "          element.appendChild(docLink);\n",
              "        }\n",
              "      </script>\n",
              "    </div>\n",
              "  </div>\n",
              "  "
            ]
          },
          "metadata": {},
          "execution_count": 211
        }
      ]
    }
  ]
}

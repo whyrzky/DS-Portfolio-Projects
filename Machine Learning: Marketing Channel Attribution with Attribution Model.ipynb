{
  "nbformat": 4,
  "nbformat_minor": 0,
  "metadata": {
    "colab": {
      "provenance": [],
      "collapsed_sections": [],
      "toc_visible": true,
      "include_colab_link": true
    },
    "kernelspec": {
      "name": "python3",
      "display_name": "Python 3"
    },
    "language_info": {
      "name": "python"
    }
  },
  "cells": [
    {
      "cell_type": "markdown",
      "metadata": {
        "id": "view-in-github",
        "colab_type": "text"
      },
      "source": [
        "<a href=\"https://colab.research.google.com/github/whyrzky/DS-Portfolio-Projects/blob/main/Machine%20Learning%3A%20Marketing%20Channel%20Attribution%20with%20Attribution%20Model.ipynb\" target=\"_parent\"><img src=\"https://colab.research.google.com/assets/colab-badge.svg\" alt=\"Open In Colab\"/></a>"
      ]
    },
    {
      "cell_type": "markdown",
      "source": [
        "#Install Package"
      ],
      "metadata": {
        "id": "oEYv3NroAGRL"
      }
    },
    {
      "cell_type": "code",
      "execution_count": null,
      "metadata": {
        "id": "2Zn3JDji1HgL"
      },
      "outputs": [],
      "source": [
        "# channel attribution analysis and markov modeling\n",
        "!pip install marketing_attribution_models\n",
        "\n",
        "import pandas as pd\n",
        "import numpy as np\n",
        "import matplotlib.pyplot as plt\n",
        "\n",
        "import seaborn as sns\n",
        "\n",
        "from marketing_attribution_models import MAM\n",
        "\n",
        "%matplotlib inline"
      ]
    },
    {
      "cell_type": "markdown",
      "source": [
        "#Load Data"
      ],
      "metadata": {
        "id": "0UE83jF4AFL3"
      }
    },
    {
      "cell_type": "code",
      "source": [
        "raw_data = pd.read_csv(\"https://raw.githubusercontent.com/hadimaster65555/dataset_for_teaching/main/dataset/campaign_data/campaign_data.csv\")"
      ],
      "metadata": {
        "id": "K5RdIc4D1MCX"
      },
      "execution_count": null,
      "outputs": []
    },
    {
      "cell_type": "code",
      "source": [
        "raw_data.info()"
      ],
      "metadata": {
        "colab": {
          "base_uri": "https://localhost:8080/"
        },
        "id": "6Ya7q0YN1RwF",
        "outputId": "6468cf8c-6f85-44c2-eb75-e25f0ed095f7"
      },
      "execution_count": null,
      "outputs": [
        {
          "output_type": "stream",
          "name": "stdout",
          "text": [
            "<class 'pandas.core.frame.DataFrame'>\n",
            "RangeIndex: 650000 entries, 0 to 649999\n",
            "Data columns (total 6 columns):\n",
            " #   Column            Non-Null Count   Dtype  \n",
            "---  ------            --------------   -----  \n",
            " 0   cookie            650000 non-null  object \n",
            " 1   time              650000 non-null  object \n",
            " 2   interaction       650000 non-null  object \n",
            " 3   conversion        650000 non-null  int64  \n",
            " 4   conversion_value  650000 non-null  float64\n",
            " 5   channel           650000 non-null  object \n",
            "dtypes: float64(1), int64(1), object(4)\n",
            "memory usage: 29.8+ MB\n"
          ]
        }
      ]
    },
    {
      "cell_type": "code",
      "source": [
        "raw_data.head()"
      ],
      "metadata": {
        "colab": {
          "base_uri": "https://localhost:8080/",
          "height": 206
        },
        "id": "X1Td_8h51Wux",
        "outputId": "b421dd0f-127a-4a81-d3ca-bdbce7407058"
      },
      "execution_count": null,
      "outputs": [
        {
          "output_type": "execute_result",
          "data": {
            "text/plain": [
              "                      cookie                  time interaction  conversion  \\\n",
              "0  9AACfh9fhA7EEn0fn0hihDBfD  2018-07-21T23:25:13Z  impression           0   \n",
              "1  CoCko0ih7EF993ABBoCnC9F3F  2018-07-13T22:49:52Z  impression           0   \n",
              "2  hB9o3if3A33F0Eh97EDhEk9F7  2018-07-07T22:20:16Z  impression           0   \n",
              "3  hB9o3if3A33F0Eh97EDhEk9F7  2018-07-07T22:20:48Z  impression           0   \n",
              "4  99E9ohDDhnkiCDofo7k73nii0  2018-07-29T09:23:04Z  impression           0   \n",
              "\n",
              "   conversion_value      channel  \n",
              "0               0.0    Instagram  \n",
              "1               0.0     Facebook  \n",
              "2               0.0     Facebook  \n",
              "3               0.0     Facebook  \n",
              "4               0.0  Paid Search  "
            ],
            "text/html": [
              "\n",
              "  <div id=\"df-531ed34a-79b9-4c7c-8268-b2c4614210b4\">\n",
              "    <div class=\"colab-df-container\">\n",
              "      <div>\n",
              "<style scoped>\n",
              "    .dataframe tbody tr th:only-of-type {\n",
              "        vertical-align: middle;\n",
              "    }\n",
              "\n",
              "    .dataframe tbody tr th {\n",
              "        vertical-align: top;\n",
              "    }\n",
              "\n",
              "    .dataframe thead th {\n",
              "        text-align: right;\n",
              "    }\n",
              "</style>\n",
              "<table border=\"1\" class=\"dataframe\">\n",
              "  <thead>\n",
              "    <tr style=\"text-align: right;\">\n",
              "      <th></th>\n",
              "      <th>cookie</th>\n",
              "      <th>time</th>\n",
              "      <th>interaction</th>\n",
              "      <th>conversion</th>\n",
              "      <th>conversion_value</th>\n",
              "      <th>channel</th>\n",
              "    </tr>\n",
              "  </thead>\n",
              "  <tbody>\n",
              "    <tr>\n",
              "      <th>0</th>\n",
              "      <td>9AACfh9fhA7EEn0fn0hihDBfD</td>\n",
              "      <td>2018-07-21T23:25:13Z</td>\n",
              "      <td>impression</td>\n",
              "      <td>0</td>\n",
              "      <td>0.0</td>\n",
              "      <td>Instagram</td>\n",
              "    </tr>\n",
              "    <tr>\n",
              "      <th>1</th>\n",
              "      <td>CoCko0ih7EF993ABBoCnC9F3F</td>\n",
              "      <td>2018-07-13T22:49:52Z</td>\n",
              "      <td>impression</td>\n",
              "      <td>0</td>\n",
              "      <td>0.0</td>\n",
              "      <td>Facebook</td>\n",
              "    </tr>\n",
              "    <tr>\n",
              "      <th>2</th>\n",
              "      <td>hB9o3if3A33F0Eh97EDhEk9F7</td>\n",
              "      <td>2018-07-07T22:20:16Z</td>\n",
              "      <td>impression</td>\n",
              "      <td>0</td>\n",
              "      <td>0.0</td>\n",
              "      <td>Facebook</td>\n",
              "    </tr>\n",
              "    <tr>\n",
              "      <th>3</th>\n",
              "      <td>hB9o3if3A33F0Eh97EDhEk9F7</td>\n",
              "      <td>2018-07-07T22:20:48Z</td>\n",
              "      <td>impression</td>\n",
              "      <td>0</td>\n",
              "      <td>0.0</td>\n",
              "      <td>Facebook</td>\n",
              "    </tr>\n",
              "    <tr>\n",
              "      <th>4</th>\n",
              "      <td>99E9ohDDhnkiCDofo7k73nii0</td>\n",
              "      <td>2018-07-29T09:23:04Z</td>\n",
              "      <td>impression</td>\n",
              "      <td>0</td>\n",
              "      <td>0.0</td>\n",
              "      <td>Paid Search</td>\n",
              "    </tr>\n",
              "  </tbody>\n",
              "</table>\n",
              "</div>\n",
              "      <button class=\"colab-df-convert\" onclick=\"convertToInteractive('df-531ed34a-79b9-4c7c-8268-b2c4614210b4')\"\n",
              "              title=\"Convert this dataframe to an interactive table.\"\n",
              "              style=\"display:none;\">\n",
              "        \n",
              "  <svg xmlns=\"http://www.w3.org/2000/svg\" height=\"24px\"viewBox=\"0 0 24 24\"\n",
              "       width=\"24px\">\n",
              "    <path d=\"M0 0h24v24H0V0z\" fill=\"none\"/>\n",
              "    <path d=\"M18.56 5.44l.94 2.06.94-2.06 2.06-.94-2.06-.94-.94-2.06-.94 2.06-2.06.94zm-11 1L8.5 8.5l.94-2.06 2.06-.94-2.06-.94L8.5 2.5l-.94 2.06-2.06.94zm10 10l.94 2.06.94-2.06 2.06-.94-2.06-.94-.94-2.06-.94 2.06-2.06.94z\"/><path d=\"M17.41 7.96l-1.37-1.37c-.4-.4-.92-.59-1.43-.59-.52 0-1.04.2-1.43.59L10.3 9.45l-7.72 7.72c-.78.78-.78 2.05 0 2.83L4 21.41c.39.39.9.59 1.41.59.51 0 1.02-.2 1.41-.59l7.78-7.78 2.81-2.81c.8-.78.8-2.07 0-2.86zM5.41 20L4 18.59l7.72-7.72 1.47 1.35L5.41 20z\"/>\n",
              "  </svg>\n",
              "      </button>\n",
              "      \n",
              "  <style>\n",
              "    .colab-df-container {\n",
              "      display:flex;\n",
              "      flex-wrap:wrap;\n",
              "      gap: 12px;\n",
              "    }\n",
              "\n",
              "    .colab-df-convert {\n",
              "      background-color: #E8F0FE;\n",
              "      border: none;\n",
              "      border-radius: 50%;\n",
              "      cursor: pointer;\n",
              "      display: none;\n",
              "      fill: #1967D2;\n",
              "      height: 32px;\n",
              "      padding: 0 0 0 0;\n",
              "      width: 32px;\n",
              "    }\n",
              "\n",
              "    .colab-df-convert:hover {\n",
              "      background-color: #E2EBFA;\n",
              "      box-shadow: 0px 1px 2px rgba(60, 64, 67, 0.3), 0px 1px 3px 1px rgba(60, 64, 67, 0.15);\n",
              "      fill: #174EA6;\n",
              "    }\n",
              "\n",
              "    [theme=dark] .colab-df-convert {\n",
              "      background-color: #3B4455;\n",
              "      fill: #D2E3FC;\n",
              "    }\n",
              "\n",
              "    [theme=dark] .colab-df-convert:hover {\n",
              "      background-color: #434B5C;\n",
              "      box-shadow: 0px 1px 3px 1px rgba(0, 0, 0, 0.15);\n",
              "      filter: drop-shadow(0px 1px 2px rgba(0, 0, 0, 0.3));\n",
              "      fill: #FFFFFF;\n",
              "    }\n",
              "  </style>\n",
              "\n",
              "      <script>\n",
              "        const buttonEl =\n",
              "          document.querySelector('#df-531ed34a-79b9-4c7c-8268-b2c4614210b4 button.colab-df-convert');\n",
              "        buttonEl.style.display =\n",
              "          google.colab.kernel.accessAllowed ? 'block' : 'none';\n",
              "\n",
              "        async function convertToInteractive(key) {\n",
              "          const element = document.querySelector('#df-531ed34a-79b9-4c7c-8268-b2c4614210b4');\n",
              "          const dataTable =\n",
              "            await google.colab.kernel.invokeFunction('convertToInteractive',\n",
              "                                                     [key], {});\n",
              "          if (!dataTable) return;\n",
              "\n",
              "          const docLinkHtml = 'Like what you see? Visit the ' +\n",
              "            '<a target=\"_blank\" href=https://colab.research.google.com/notebooks/data_table.ipynb>data table notebook</a>'\n",
              "            + ' to learn more about interactive tables.';\n",
              "          element.innerHTML = '';\n",
              "          dataTable['output_type'] = 'display_data';\n",
              "          await google.colab.output.renderOutput(dataTable, element);\n",
              "          const docLink = document.createElement('div');\n",
              "          docLink.innerHTML = docLinkHtml;\n",
              "          element.appendChild(docLink);\n",
              "        }\n",
              "      </script>\n",
              "    </div>\n",
              "  </div>\n",
              "  "
            ]
          },
          "metadata": {},
          "execution_count": 18
        }
      ]
    },
    {
      "cell_type": "code",
      "source": [
        "raw_data.isna().sum()"
      ],
      "metadata": {
        "colab": {
          "base_uri": "https://localhost:8080/"
        },
        "id": "BJyECU441gFk",
        "outputId": "a8e20dd1-2721-4bbe-ab1d-af77d4079bd9"
      },
      "execution_count": null,
      "outputs": [
        {
          "output_type": "execute_result",
          "data": {
            "text/plain": [
              "cookie              0\n",
              "time                0\n",
              "interaction         0\n",
              "conversion          0\n",
              "conversion_value    0\n",
              "channel             0\n",
              "dtype: int64"
            ]
          },
          "metadata": {},
          "execution_count": 19
        }
      ]
    },
    {
      "cell_type": "markdown",
      "source": [
        "# Attribution Analysis"
      ],
      "metadata": {
        "id": "PK8IbXOm1iZx"
      }
    },
    {
      "cell_type": "code",
      "source": [
        "raw_data"
      ],
      "metadata": {
        "colab": {
          "base_uri": "https://localhost:8080/",
          "height": 424
        },
        "id": "caDIiQI_2PaH",
        "outputId": "64dd993a-f6a5-4ade-eaa5-83df72611c7a"
      },
      "execution_count": null,
      "outputs": [
        {
          "output_type": "execute_result",
          "data": {
            "text/plain": [
              "                           cookie                  time interaction  \\\n",
              "0       9AACfh9fhA7EEn0fn0hihDBfD  2018-07-21T23:25:13Z  impression   \n",
              "1       CoCko0ih7EF993ABBoCnC9F3F  2018-07-13T22:49:52Z  impression   \n",
              "2       hB9o3if3A33F0Eh97EDhEk9F7  2018-07-07T22:20:16Z  impression   \n",
              "3       hB9o3if3A33F0Eh97EDhEk9F7  2018-07-07T22:20:48Z  impression   \n",
              "4       99E9ohDDhnkiCDofo7k73nii0  2018-07-29T09:23:04Z  impression   \n",
              "...                           ...                   ...         ...   \n",
              "649995  Af3Dohk39k73DoknC7EokAB3A  2018-07-07T12:44:35Z  impression   \n",
              "649996  Af3Dohk39k73DoknC7EokAB3A  2018-07-14T11:28:22Z  impression   \n",
              "649997  Af3Dohk39k73DoknC7EokAB3A  2018-07-15T11:51:17Z  impression   \n",
              "649998  Af3Dohk39k73DoknC7EokAB3A  2018-07-18T13:33:38Z  impression   \n",
              "649999  Af3Dohk39k73DoknC7EokAB3A  2018-07-18T13:34:13Z  impression   \n",
              "\n",
              "        conversion  conversion_value      channel  \n",
              "0                0               0.0    Instagram  \n",
              "1                0               0.0     Facebook  \n",
              "2                0               0.0     Facebook  \n",
              "3                0               0.0     Facebook  \n",
              "4                0               0.0  Paid Search  \n",
              "...            ...               ...          ...  \n",
              "649995           0               0.0  Paid Search  \n",
              "649996           0               0.0     Facebook  \n",
              "649997           0               0.0     Facebook  \n",
              "649998           0               0.0     Facebook  \n",
              "649999           0               0.0    Instagram  \n",
              "\n",
              "[650000 rows x 6 columns]"
            ],
            "text/html": [
              "\n",
              "  <div id=\"df-2f95e12f-0c8a-4ff9-8518-0a7a54b72af2\">\n",
              "    <div class=\"colab-df-container\">\n",
              "      <div>\n",
              "<style scoped>\n",
              "    .dataframe tbody tr th:only-of-type {\n",
              "        vertical-align: middle;\n",
              "    }\n",
              "\n",
              "    .dataframe tbody tr th {\n",
              "        vertical-align: top;\n",
              "    }\n",
              "\n",
              "    .dataframe thead th {\n",
              "        text-align: right;\n",
              "    }\n",
              "</style>\n",
              "<table border=\"1\" class=\"dataframe\">\n",
              "  <thead>\n",
              "    <tr style=\"text-align: right;\">\n",
              "      <th></th>\n",
              "      <th>cookie</th>\n",
              "      <th>time</th>\n",
              "      <th>interaction</th>\n",
              "      <th>conversion</th>\n",
              "      <th>conversion_value</th>\n",
              "      <th>channel</th>\n",
              "    </tr>\n",
              "  </thead>\n",
              "  <tbody>\n",
              "    <tr>\n",
              "      <th>0</th>\n",
              "      <td>9AACfh9fhA7EEn0fn0hihDBfD</td>\n",
              "      <td>2018-07-21T23:25:13Z</td>\n",
              "      <td>impression</td>\n",
              "      <td>0</td>\n",
              "      <td>0.0</td>\n",
              "      <td>Instagram</td>\n",
              "    </tr>\n",
              "    <tr>\n",
              "      <th>1</th>\n",
              "      <td>CoCko0ih7EF993ABBoCnC9F3F</td>\n",
              "      <td>2018-07-13T22:49:52Z</td>\n",
              "      <td>impression</td>\n",
              "      <td>0</td>\n",
              "      <td>0.0</td>\n",
              "      <td>Facebook</td>\n",
              "    </tr>\n",
              "    <tr>\n",
              "      <th>2</th>\n",
              "      <td>hB9o3if3A33F0Eh97EDhEk9F7</td>\n",
              "      <td>2018-07-07T22:20:16Z</td>\n",
              "      <td>impression</td>\n",
              "      <td>0</td>\n",
              "      <td>0.0</td>\n",
              "      <td>Facebook</td>\n",
              "    </tr>\n",
              "    <tr>\n",
              "      <th>3</th>\n",
              "      <td>hB9o3if3A33F0Eh97EDhEk9F7</td>\n",
              "      <td>2018-07-07T22:20:48Z</td>\n",
              "      <td>impression</td>\n",
              "      <td>0</td>\n",
              "      <td>0.0</td>\n",
              "      <td>Facebook</td>\n",
              "    </tr>\n",
              "    <tr>\n",
              "      <th>4</th>\n",
              "      <td>99E9ohDDhnkiCDofo7k73nii0</td>\n",
              "      <td>2018-07-29T09:23:04Z</td>\n",
              "      <td>impression</td>\n",
              "      <td>0</td>\n",
              "      <td>0.0</td>\n",
              "      <td>Paid Search</td>\n",
              "    </tr>\n",
              "    <tr>\n",
              "      <th>...</th>\n",
              "      <td>...</td>\n",
              "      <td>...</td>\n",
              "      <td>...</td>\n",
              "      <td>...</td>\n",
              "      <td>...</td>\n",
              "      <td>...</td>\n",
              "    </tr>\n",
              "    <tr>\n",
              "      <th>649995</th>\n",
              "      <td>Af3Dohk39k73DoknC7EokAB3A</td>\n",
              "      <td>2018-07-07T12:44:35Z</td>\n",
              "      <td>impression</td>\n",
              "      <td>0</td>\n",
              "      <td>0.0</td>\n",
              "      <td>Paid Search</td>\n",
              "    </tr>\n",
              "    <tr>\n",
              "      <th>649996</th>\n",
              "      <td>Af3Dohk39k73DoknC7EokAB3A</td>\n",
              "      <td>2018-07-14T11:28:22Z</td>\n",
              "      <td>impression</td>\n",
              "      <td>0</td>\n",
              "      <td>0.0</td>\n",
              "      <td>Facebook</td>\n",
              "    </tr>\n",
              "    <tr>\n",
              "      <th>649997</th>\n",
              "      <td>Af3Dohk39k73DoknC7EokAB3A</td>\n",
              "      <td>2018-07-15T11:51:17Z</td>\n",
              "      <td>impression</td>\n",
              "      <td>0</td>\n",
              "      <td>0.0</td>\n",
              "      <td>Facebook</td>\n",
              "    </tr>\n",
              "    <tr>\n",
              "      <th>649998</th>\n",
              "      <td>Af3Dohk39k73DoknC7EokAB3A</td>\n",
              "      <td>2018-07-18T13:33:38Z</td>\n",
              "      <td>impression</td>\n",
              "      <td>0</td>\n",
              "      <td>0.0</td>\n",
              "      <td>Facebook</td>\n",
              "    </tr>\n",
              "    <tr>\n",
              "      <th>649999</th>\n",
              "      <td>Af3Dohk39k73DoknC7EokAB3A</td>\n",
              "      <td>2018-07-18T13:34:13Z</td>\n",
              "      <td>impression</td>\n",
              "      <td>0</td>\n",
              "      <td>0.0</td>\n",
              "      <td>Instagram</td>\n",
              "    </tr>\n",
              "  </tbody>\n",
              "</table>\n",
              "<p>650000 rows × 6 columns</p>\n",
              "</div>\n",
              "      <button class=\"colab-df-convert\" onclick=\"convertToInteractive('df-2f95e12f-0c8a-4ff9-8518-0a7a54b72af2')\"\n",
              "              title=\"Convert this dataframe to an interactive table.\"\n",
              "              style=\"display:none;\">\n",
              "        \n",
              "  <svg xmlns=\"http://www.w3.org/2000/svg\" height=\"24px\"viewBox=\"0 0 24 24\"\n",
              "       width=\"24px\">\n",
              "    <path d=\"M0 0h24v24H0V0z\" fill=\"none\"/>\n",
              "    <path d=\"M18.56 5.44l.94 2.06.94-2.06 2.06-.94-2.06-.94-.94-2.06-.94 2.06-2.06.94zm-11 1L8.5 8.5l.94-2.06 2.06-.94-2.06-.94L8.5 2.5l-.94 2.06-2.06.94zm10 10l.94 2.06.94-2.06 2.06-.94-2.06-.94-.94-2.06-.94 2.06-2.06.94z\"/><path d=\"M17.41 7.96l-1.37-1.37c-.4-.4-.92-.59-1.43-.59-.52 0-1.04.2-1.43.59L10.3 9.45l-7.72 7.72c-.78.78-.78 2.05 0 2.83L4 21.41c.39.39.9.59 1.41.59.51 0 1.02-.2 1.41-.59l7.78-7.78 2.81-2.81c.8-.78.8-2.07 0-2.86zM5.41 20L4 18.59l7.72-7.72 1.47 1.35L5.41 20z\"/>\n",
              "  </svg>\n",
              "      </button>\n",
              "      \n",
              "  <style>\n",
              "    .colab-df-container {\n",
              "      display:flex;\n",
              "      flex-wrap:wrap;\n",
              "      gap: 12px;\n",
              "    }\n",
              "\n",
              "    .colab-df-convert {\n",
              "      background-color: #E8F0FE;\n",
              "      border: none;\n",
              "      border-radius: 50%;\n",
              "      cursor: pointer;\n",
              "      display: none;\n",
              "      fill: #1967D2;\n",
              "      height: 32px;\n",
              "      padding: 0 0 0 0;\n",
              "      width: 32px;\n",
              "    }\n",
              "\n",
              "    .colab-df-convert:hover {\n",
              "      background-color: #E2EBFA;\n",
              "      box-shadow: 0px 1px 2px rgba(60, 64, 67, 0.3), 0px 1px 3px 1px rgba(60, 64, 67, 0.15);\n",
              "      fill: #174EA6;\n",
              "    }\n",
              "\n",
              "    [theme=dark] .colab-df-convert {\n",
              "      background-color: #3B4455;\n",
              "      fill: #D2E3FC;\n",
              "    }\n",
              "\n",
              "    [theme=dark] .colab-df-convert:hover {\n",
              "      background-color: #434B5C;\n",
              "      box-shadow: 0px 1px 3px 1px rgba(0, 0, 0, 0.15);\n",
              "      filter: drop-shadow(0px 1px 2px rgba(0, 0, 0, 0.3));\n",
              "      fill: #FFFFFF;\n",
              "    }\n",
              "  </style>\n",
              "\n",
              "      <script>\n",
              "        const buttonEl =\n",
              "          document.querySelector('#df-2f95e12f-0c8a-4ff9-8518-0a7a54b72af2 button.colab-df-convert');\n",
              "        buttonEl.style.display =\n",
              "          google.colab.kernel.accessAllowed ? 'block' : 'none';\n",
              "\n",
              "        async function convertToInteractive(key) {\n",
              "          const element = document.querySelector('#df-2f95e12f-0c8a-4ff9-8518-0a7a54b72af2');\n",
              "          const dataTable =\n",
              "            await google.colab.kernel.invokeFunction('convertToInteractive',\n",
              "                                                     [key], {});\n",
              "          if (!dataTable) return;\n",
              "\n",
              "          const docLinkHtml = 'Like what you see? Visit the ' +\n",
              "            '<a target=\"_blank\" href=https://colab.research.google.com/notebooks/data_table.ipynb>data table notebook</a>'\n",
              "            + ' to learn more about interactive tables.';\n",
              "          element.innerHTML = '';\n",
              "          dataTable['output_type'] = 'display_data';\n",
              "          await google.colab.output.renderOutput(dataTable, element);\n",
              "          const docLink = document.createElement('div');\n",
              "          docLink.innerHTML = docLinkHtml;\n",
              "          element.appendChild(docLink);\n",
              "        }\n",
              "      </script>\n",
              "    </div>\n",
              "  </div>\n",
              "  "
            ]
          },
          "metadata": {},
          "execution_count": 20
        }
      ]
    },
    {
      "cell_type": "code",
      "source": [
        "aggregated_data = raw_data.groupby(['cookie', 'time', 'channel'],as_index=False).agg(\n",
        "    {\n",
        "        'conversion': 'sum',\n",
        "        'conversion_value': 'sum'\n",
        "    }\n",
        ").sort_values(by=['conversion'], ascending = False).copy()"
      ],
      "metadata": {
        "id": "8RONTPFC1rFT"
      },
      "execution_count": null,
      "outputs": []
    },
    {
      "cell_type": "code",
      "source": [
        "plt.figure(figsize=(10,5))\n",
        "aggregated_data['channel'].value_counts(ascending=True).plot(kind='barh')\n",
        "plt.show()"
      ],
      "metadata": {
        "colab": {
          "base_uri": "https://localhost:8080/",
          "height": 316
        },
        "id": "z0WCq5Mz2wUj",
        "outputId": "ca208078-531d-4f72-98fb-92cacb5cb604"
      },
      "execution_count": null,
      "outputs": [
        {
          "output_type": "display_data",
          "data": {
            "text/plain": [
              "<Figure size 720x360 with 1 Axes>"
            ],
            "image/png": "[encoded data removed]"
          },
          "metadata": {
            "needs_background": "light"
          }
        }
      ]
    },
    {
      "cell_type": "code",
      "source": [
        "# plt.figure(figsize=(10,5))\n",
        "aggregated_data.groupby(['channel'], as_index=False).size().sort_values(by=['size'], ascending = False)\n",
        "# plt.show()"
      ],
      "metadata": {
        "colab": {
          "base_uri": "https://localhost:8080/",
          "height": 206
        },
        "id": "FggPEzA43YCR",
        "outputId": "bd86e624-1d9d-4321-8973-f68de0cc10ca"
      },
      "execution_count": null,
      "outputs": [
        {
          "output_type": "execute_result",
          "data": {
            "text/plain": [
              "          channel    size\n",
              "0        Facebook  198402\n",
              "4     Paid Search  158072\n",
              "3    Online Video  128538\n",
              "1       Instagram   85136\n",
              "2  Online Display   74487"
            ],
            "text/html": [
              "\n",
              "  <div id=\"df-07ac1f3b-1143-498a-ab07-47b513de7f5f\">\n",
              "    <div class=\"colab-df-container\">\n",
              "      <div>\n",
              "<style scoped>\n",
              "    .dataframe tbody tr th:only-of-type {\n",
              "        vertical-align: middle;\n",
              "    }\n",
              "\n",
              "    .dataframe tbody tr th {\n",
              "        vertical-align: top;\n",
              "    }\n",
              "\n",
              "    .dataframe thead th {\n",
              "        text-align: right;\n",
              "    }\n",
              "</style>\n",
              "<table border=\"1\" class=\"dataframe\">\n",
              "  <thead>\n",
              "    <tr style=\"text-align: right;\">\n",
              "      <th></th>\n",
              "      <th>channel</th>\n",
              "      <th>size</th>\n",
              "    </tr>\n",
              "  </thead>\n",
              "  <tbody>\n",
              "    <tr>\n",
              "      <th>0</th>\n",
              "      <td>Facebook</td>\n",
              "      <td>198402</td>\n",
              "    </tr>\n",
              "    <tr>\n",
              "      <th>4</th>\n",
              "      <td>Paid Search</td>\n",
              "      <td>158072</td>\n",
              "    </tr>\n",
              "    <tr>\n",
              "      <th>3</th>\n",
              "      <td>Online Video</td>\n",
              "      <td>128538</td>\n",
              "    </tr>\n",
              "    <tr>\n",
              "      <th>1</th>\n",
              "      <td>Instagram</td>\n",
              "      <td>85136</td>\n",
              "    </tr>\n",
              "    <tr>\n",
              "      <th>2</th>\n",
              "      <td>Online Display</td>\n",
              "      <td>74487</td>\n",
              "    </tr>\n",
              "  </tbody>\n",
              "</table>\n",
              "</div>\n",
              "      <button class=\"colab-df-convert\" onclick=\"convertToInteractive('df-07ac1f3b-1143-498a-ab07-47b513de7f5f')\"\n",
              "              title=\"Convert this dataframe to an interactive table.\"\n",
              "              style=\"display:none;\">\n",
              "        \n",
              "  <svg xmlns=\"http://www.w3.org/2000/svg\" height=\"24px\"viewBox=\"0 0 24 24\"\n",
              "       width=\"24px\">\n",
              "    <path d=\"M0 0h24v24H0V0z\" fill=\"none\"/>\n",
              "    <path d=\"M18.56 5.44l.94 2.06.94-2.06 2.06-.94-2.06-.94-.94-2.06-.94 2.06-2.06.94zm-11 1L8.5 8.5l.94-2.06 2.06-.94-2.06-.94L8.5 2.5l-.94 2.06-2.06.94zm10 10l.94 2.06.94-2.06 2.06-.94-2.06-.94-.94-2.06-.94 2.06-2.06.94z\"/><path d=\"M17.41 7.96l-1.37-1.37c-.4-.4-.92-.59-1.43-.59-.52 0-1.04.2-1.43.59L10.3 9.45l-7.72 7.72c-.78.78-.78 2.05 0 2.83L4 21.41c.39.39.9.59 1.41.59.51 0 1.02-.2 1.41-.59l7.78-7.78 2.81-2.81c.8-.78.8-2.07 0-2.86zM5.41 20L4 18.59l7.72-7.72 1.47 1.35L5.41 20z\"/>\n",
              "  </svg>\n",
              "      </button>\n",
              "      \n",
              "  <style>\n",
              "    .colab-df-container {\n",
              "      display:flex;\n",
              "      flex-wrap:wrap;\n",
              "      gap: 12px;\n",
              "    }\n",
              "\n",
              "    .colab-df-convert {\n",
              "      background-color: #E8F0FE;\n",
              "      border: none;\n",
              "      border-radius: 50%;\n",
              "      cursor: pointer;\n",
              "      display: none;\n",
              "      fill: #1967D2;\n",
              "      height: 32px;\n",
              "      padding: 0 0 0 0;\n",
              "      width: 32px;\n",
              "    }\n",
              "\n",
              "    .colab-df-convert:hover {\n",
              "      background-color: #E2EBFA;\n",
              "      box-shadow: 0px 1px 2px rgba(60, 64, 67, 0.3), 0px 1px 3px 1px rgba(60, 64, 67, 0.15);\n",
              "      fill: #174EA6;\n",
              "    }\n",
              "\n",
              "    [theme=dark] .colab-df-convert {\n",
              "      background-color: #3B4455;\n",
              "      fill: #D2E3FC;\n",
              "    }\n",
              "\n",
              "    [theme=dark] .colab-df-convert:hover {\n",
              "      background-color: #434B5C;\n",
              "      box-shadow: 0px 1px 3px 1px rgba(0, 0, 0, 0.15);\n",
              "      filter: drop-shadow(0px 1px 2px rgba(0, 0, 0, 0.3));\n",
              "      fill: #FFFFFF;\n",
              "    }\n",
              "  </style>\n",
              "\n",
              "      <script>\n",
              "        const buttonEl =\n",
              "          document.querySelector('#df-07ac1f3b-1143-498a-ab07-47b513de7f5f button.colab-df-convert');\n",
              "        buttonEl.style.display =\n",
              "          google.colab.kernel.accessAllowed ? 'block' : 'none';\n",
              "\n",
              "        async function convertToInteractive(key) {\n",
              "          const element = document.querySelector('#df-07ac1f3b-1143-498a-ab07-47b513de7f5f');\n",
              "          const dataTable =\n",
              "            await google.colab.kernel.invokeFunction('convertToInteractive',\n",
              "                                                     [key], {});\n",
              "          if (!dataTable) return;\n",
              "\n",
              "          const docLinkHtml = 'Like what you see? Visit the ' +\n",
              "            '<a target=\"_blank\" href=https://colab.research.google.com/notebooks/data_table.ipynb>data table notebook</a>'\n",
              "            + ' to learn more about interactive tables.';\n",
              "          element.innerHTML = '';\n",
              "          dataTable['output_type'] = 'display_data';\n",
              "          await google.colab.output.renderOutput(dataTable, element);\n",
              "          const docLink = document.createElement('div');\n",
              "          docLink.innerHTML = docLinkHtml;\n",
              "          element.appendChild(docLink);\n",
              "        }\n",
              "      </script>\n",
              "    </div>\n",
              "  </div>\n",
              "  "
            ]
          },
          "metadata": {},
          "execution_count": 24
        }
      ]
    },
    {
      "cell_type": "markdown",
      "source": [
        "## AVG Rev per Channel"
      ],
      "metadata": {
        "id": "rL3en4pZ8t_V"
      }
    },
    {
      "cell_type": "code",
      "source": [
        "channel_attribute_value = aggregated_data.assign(\n",
        "    n_events = 0\n",
        ").groupby(\n",
        "    ['channel'], as_index=False\n",
        ").agg({\n",
        "    'n_events': 'size',\n",
        "    'conversion': 'sum',\n",
        "    'conversion_value': 'sum'\n",
        "}\n",
        ").assign(\n",
        "    revenue_per_conversion = lambda x: x['conversion_value']/x['n_events']\n",
        ").sort_values(by=['conversion_value'], ascending=False).copy()"
      ],
      "metadata": {
        "id": "aimXeTec42eP"
      },
      "execution_count": null,
      "outputs": []
    },
    {
      "cell_type": "code",
      "source": [
        "channel_attribute_value"
      ],
      "metadata": {
        "colab": {
          "base_uri": "https://localhost:8080/",
          "height": 206
        },
        "id": "M_WD0PC25x4v",
        "outputId": "b745196b-a127-4a47-e470-c8dc3a422736"
      },
      "execution_count": null,
      "outputs": [
        {
          "output_type": "execute_result",
          "data": {
            "text/plain": [
              "          channel  n_events  conversion  conversion_value  \\\n",
              "0        Facebook    198402        6052           37786.5   \n",
              "4     Paid Search    158072        4768           29703.5   \n",
              "3    Online Video    128538        3992           25093.0   \n",
              "1       Instagram     85136        2555           15989.5   \n",
              "2  Online Display     74487        2246           13956.5   \n",
              "\n",
              "   revenue_per_conversion  \n",
              "0                0.190454  \n",
              "4                0.187911  \n",
              "3                0.195219  \n",
              "1                0.187811  \n",
              "2                0.187368  "
            ],
            "text/html": [
              "\n",
              "  <div id=\"df-06ffe784-480f-421b-9e0f-8918e08e9ba3\">\n",
              "    <div class=\"colab-df-container\">\n",
              "      <div>\n",
              "<style scoped>\n",
              "    .dataframe tbody tr th:only-of-type {\n",
              "        vertical-align: middle;\n",
              "    }\n",
              "\n",
              "    .dataframe tbody tr th {\n",
              "        vertical-align: top;\n",
              "    }\n",
              "\n",
              "    .dataframe thead th {\n",
              "        text-align: right;\n",
              "    }\n",
              "</style>\n",
              "<table border=\"1\" class=\"dataframe\">\n",
              "  <thead>\n",
              "    <tr style=\"text-align: right;\">\n",
              "      <th></th>\n",
              "      <th>channel</th>\n",
              "      <th>n_events</th>\n",
              "      <th>conversion</th>\n",
              "      <th>conversion_value</th>\n",
              "      <th>revenue_per_conversion</th>\n",
              "    </tr>\n",
              "  </thead>\n",
              "  <tbody>\n",
              "    <tr>\n",
              "      <th>0</th>\n",
              "      <td>Facebook</td>\n",
              "      <td>198402</td>\n",
              "      <td>6052</td>\n",
              "      <td>37786.5</td>\n",
              "      <td>0.190454</td>\n",
              "    </tr>\n",
              "    <tr>\n",
              "      <th>4</th>\n",
              "      <td>Paid Search</td>\n",
              "      <td>158072</td>\n",
              "      <td>4768</td>\n",
              "      <td>29703.5</td>\n",
              "      <td>0.187911</td>\n",
              "    </tr>\n",
              "    <tr>\n",
              "      <th>3</th>\n",
              "      <td>Online Video</td>\n",
              "      <td>128538</td>\n",
              "      <td>3992</td>\n",
              "      <td>25093.0</td>\n",
              "      <td>0.195219</td>\n",
              "    </tr>\n",
              "    <tr>\n",
              "      <th>1</th>\n",
              "      <td>Instagram</td>\n",
              "      <td>85136</td>\n",
              "      <td>2555</td>\n",
              "      <td>15989.5</td>\n",
              "      <td>0.187811</td>\n",
              "    </tr>\n",
              "    <tr>\n",
              "      <th>2</th>\n",
              "      <td>Online Display</td>\n",
              "      <td>74487</td>\n",
              "      <td>2246</td>\n",
              "      <td>13956.5</td>\n",
              "      <td>0.187368</td>\n",
              "    </tr>\n",
              "  </tbody>\n",
              "</table>\n",
              "</div>\n",
              "      <button class=\"colab-df-convert\" onclick=\"convertToInteractive('df-06ffe784-480f-421b-9e0f-8918e08e9ba3')\"\n",
              "              title=\"Convert this dataframe to an interactive table.\"\n",
              "              style=\"display:none;\">\n",
              "        \n",
              "  <svg xmlns=\"http://www.w3.org/2000/svg\" height=\"24px\"viewBox=\"0 0 24 24\"\n",
              "       width=\"24px\">\n",
              "    <path d=\"M0 0h24v24H0V0z\" fill=\"none\"/>\n",
              "    <path d=\"M18.56 5.44l.94 2.06.94-2.06 2.06-.94-2.06-.94-.94-2.06-.94 2.06-2.06.94zm-11 1L8.5 8.5l.94-2.06 2.06-.94-2.06-.94L8.5 2.5l-.94 2.06-2.06.94zm10 10l.94 2.06.94-2.06 2.06-.94-2.06-.94-.94-2.06-.94 2.06-2.06.94z\"/><path d=\"M17.41 7.96l-1.37-1.37c-.4-.4-.92-.59-1.43-.59-.52 0-1.04.2-1.43.59L10.3 9.45l-7.72 7.72c-.78.78-.78 2.05 0 2.83L4 21.41c.39.39.9.59 1.41.59.51 0 1.02-.2 1.41-.59l7.78-7.78 2.81-2.81c.8-.78.8-2.07 0-2.86zM5.41 20L4 18.59l7.72-7.72 1.47 1.35L5.41 20z\"/>\n",
              "  </svg>\n",
              "      </button>\n",
              "      \n",
              "  <style>\n",
              "    .colab-df-container {\n",
              "      display:flex;\n",
              "      flex-wrap:wrap;\n",
              "      gap: 12px;\n",
              "    }\n",
              "\n",
              "    .colab-df-convert {\n",
              "      background-color: #E8F0FE;\n",
              "      border: none;\n",
              "      border-radius: 50%;\n",
              "      cursor: pointer;\n",
              "      display: none;\n",
              "      fill: #1967D2;\n",
              "      height: 32px;\n",
              "      padding: 0 0 0 0;\n",
              "      width: 32px;\n",
              "    }\n",
              "\n",
              "    .colab-df-convert:hover {\n",
              "      background-color: #E2EBFA;\n",
              "      box-shadow: 0px 1px 2px rgba(60, 64, 67, 0.3), 0px 1px 3px 1px rgba(60, 64, 67, 0.15);\n",
              "      fill: #174EA6;\n",
              "    }\n",
              "\n",
              "    [theme=dark] .colab-df-convert {\n",
              "      background-color: #3B4455;\n",
              "      fill: #D2E3FC;\n",
              "    }\n",
              "\n",
              "    [theme=dark] .colab-df-convert:hover {\n",
              "      background-color: #434B5C;\n",
              "      box-shadow: 0px 1px 3px 1px rgba(0, 0, 0, 0.15);\n",
              "      filter: drop-shadow(0px 1px 2px rgba(0, 0, 0, 0.3));\n",
              "      fill: #FFFFFF;\n",
              "    }\n",
              "  </style>\n",
              "\n",
              "      <script>\n",
              "        const buttonEl =\n",
              "          document.querySelector('#df-06ffe784-480f-421b-9e0f-8918e08e9ba3 button.colab-df-convert');\n",
              "        buttonEl.style.display =\n",
              "          google.colab.kernel.accessAllowed ? 'block' : 'none';\n",
              "\n",
              "        async function convertToInteractive(key) {\n",
              "          const element = document.querySelector('#df-06ffe784-480f-421b-9e0f-8918e08e9ba3');\n",
              "          const dataTable =\n",
              "            await google.colab.kernel.invokeFunction('convertToInteractive',\n",
              "                                                     [key], {});\n",
              "          if (!dataTable) return;\n",
              "\n",
              "          const docLinkHtml = 'Like what you see? Visit the ' +\n",
              "            '<a target=\"_blank\" href=https://colab.research.google.com/notebooks/data_table.ipynb>data table notebook</a>'\n",
              "            + ' to learn more about interactive tables.';\n",
              "          element.innerHTML = '';\n",
              "          dataTable['output_type'] = 'display_data';\n",
              "          await google.colab.output.renderOutput(dataTable, element);\n",
              "          const docLink = document.createElement('div');\n",
              "          docLink.innerHTML = docLinkHtml;\n",
              "          element.appendChild(docLink);\n",
              "        }\n",
              "      </script>\n",
              "    </div>\n",
              "  </div>\n",
              "  "
            ]
          },
          "metadata": {},
          "execution_count": 27
        }
      ]
    },
    {
      "cell_type": "code",
      "source": [
        "plt.figure(figsize=(15,1))\n",
        "channel_attribute_value[['channel', 'revenue_per_conversion']].sort_values(\n",
        "  by = ['revenue_per_conversion'],\n",
        "  ascending = True \n",
        ").plot(\n",
        "    x = 'channel', \n",
        "    y = 'revenue_per_conversion', \n",
        "    kind = 'barh',\n",
        "    title = 'Average Revenue per Channel',\n",
        "    xlabel = 'Channel',\n",
        "    ylabel = 'Revenue per Conversion'\n",
        ")\n",
        "plt.show()"
      ],
      "metadata": {
        "colab": {
          "base_uri": "https://localhost:8080/",
          "height": 294
        },
        "id": "6V5lE49z6C0a",
        "outputId": "9c5f3761-d1aa-4c59-a69a-2cecd4042070"
      },
      "execution_count": null,
      "outputs": [
        {
          "output_type": "display_data",
          "data": {
            "text/plain": [
              "<Figure size 1080x72 with 0 Axes>"
            ]
          },
          "metadata": {}
        },
        {
          "output_type": "display_data",
          "data": {
            "text/plain": [
              "<Figure size 432x288 with 1 Axes>"
            ],
            "image/png": "[encoded data removed]"
          },
          "metadata": {
            "needs_background": "light"
          }
        }
      ]
    },
    {
      "cell_type": "markdown",
      "source": [
        "## Conv per Channel"
      ],
      "metadata": {
        "id": "wdcIi-YX8zYF"
      }
    },
    {
      "cell_type": "code",
      "source": [
        "plt.figure(figsize=(10,5))\n",
        "channel_attribute_value[['channel', 'conversion_value']].sort_values(\n",
        "  by = ['conversion_value'],\n",
        "  ascending = True \n",
        ").rename(\n",
        "    columns = {'conversion_value':'Total Revenue'}\n",
        ").plot(\n",
        "    x = 'channel', \n",
        "    y = 'Total Revenue', \n",
        "    kind = 'barh',\n",
        "    title = 'Total Revenue per Channel',\n",
        "    xlabel = 'Channel',\n",
        "    ylabel = 'Total Revenue'\n",
        ")\n",
        "plt.show()"
      ],
      "metadata": {
        "colab": {
          "base_uri": "https://localhost:8080/",
          "height": 294
        },
        "id": "-Yx3ttB46cVu",
        "outputId": "5db19061-f347-4f20-bfa3-f5d4be5f6b32"
      },
      "execution_count": null,
      "outputs": [
        {
          "output_type": "display_data",
          "data": {
            "text/plain": [
              "<Figure size 720x360 with 0 Axes>"
            ]
          },
          "metadata": {}
        },
        {
          "output_type": "display_data",
          "data": {
            "text/plain": [
              "<Figure size 432x288 with 1 Axes>"
            ],
            "image/png": "[encoded data removed]"
          },
          "metadata": {
            "needs_background": "light"
          }
        }
      ]
    },
    {
      "cell_type": "markdown",
      "source": [
        "#Channel Attribution Model"
      ],
      "metadata": {
        "id": "Yzk5ExiL7Hkx"
      }
    },
    {
      "cell_type": "markdown",
      "source": [
        "## Heuristic Model"
      ],
      "metadata": {
        "id": "QQTWRu3d8Yr9"
      }
    },
    {
      "cell_type": "code",
      "source": [
        "raw_data.columns"
      ],
      "metadata": {
        "colab": {
          "base_uri": "https://localhost:8080/"
        },
        "id": "az8O9WjU7KGB",
        "outputId": "699af0b3-cf95-459d-e072-f4a47ae189fe"
      },
      "execution_count": null,
      "outputs": [
        {
          "output_type": "execute_result",
          "data": {
            "text/plain": [
              "Index(['cookie', 'time', 'interaction', 'conversion', 'conversion_value',\n",
              "       'channel', 'has_transaction'],\n",
              "      dtype='object')"
            ]
          },
          "metadata": {},
          "execution_count": 55
        }
      ]
    },
    {
      "cell_type": "code",
      "source": [
        "# data preprocessing\n",
        "raw_data['conversion_value'].fillna(0, inplace=True)\n",
        "raw_data['has_transaction'] = raw_data.conversion.apply(lambda x: True if x > 0 else False)"
      ],
      "metadata": {
        "id": "Na1LVHc47NGw"
      },
      "execution_count": null,
      "outputs": []
    },
    {
      "cell_type": "code",
      "source": [
        "data_for_model = raw_data[['cookie', 'channel', 'time','interaction','conversion', 'conversion_value', 'has_transaction']]"
      ],
      "metadata": {
        "id": "dqreVpCN7XGB"
      },
      "execution_count": null,
      "outputs": []
    },
    {
      "cell_type": "code",
      "source": [
        "attribution = MAM(\n",
        "    data_for_model, \n",
        "    channels_colname='channel',\n",
        "    group_channels=True, \n",
        "    group_channels_by_id_list=['cookie'], \n",
        "    group_timestamp_colname='time',\n",
        "    journey_with_conv_colname='has_transaction',\n",
        "    create_journey_id_based_on_conversion = True,\n",
        "    conversion_value='conversion_value'\n",
        ")"
      ],
      "metadata": {
        "id": "cA6Ec8LA7fge"
      },
      "execution_count": null,
      "outputs": []
    },
    {
      "cell_type": "code",
      "source": [
        "attribution.attribution_last_click()"
      ],
      "metadata": {
        "colab": {
          "base_uri": "https://localhost:8080/"
        },
        "id": "HkRduEWb7yn8",
        "outputId": "76071666-2e92-4f37-dbce-37070f9b8a77"
      },
      "execution_count": null,
      "outputs": [
        {
          "output_type": "execute_result",
          "data": {
            "text/plain": [
              "(0                   [0.0, 0.0, 0.0, 0.0]\n",
              " 1         [0.0, 0.0, 0.0, 0.0, 0.0, 0.0]\n",
              " 2              [0.0, 0.0, 0.0, 0.0, 0.0]\n",
              " 3                                  [0.0]\n",
              " 4                                  [0.0]\n",
              "                        ...              \n",
              " 252459                             [0.0]\n",
              " 252460                             [0.0]\n",
              " 252461                   [0.0, 0.0, 0.0]\n",
              " 252462                        [0.0, 0.0]\n",
              " 252463                             [0.0]\n",
              " Length: 252464, dtype: object, channels\n",
              " Facebook          37786.5\n",
              " Instagram         15989.5\n",
              " Online Display    13956.5\n",
              " Online Video      25093.0\n",
              " Paid Search       29703.5\n",
              " Name: value, dtype: float64)"
            ]
          },
          "metadata": {},
          "execution_count": 59
        }
      ]
    },
    {
      "cell_type": "code",
      "source": [
        "attribution.attribution_first_click()"
      ],
      "metadata": {
        "colab": {
          "base_uri": "https://localhost:8080/"
        },
        "id": "TJHOyZrn71Q2",
        "outputId": "3ffa3c2a-68dc-422e-c6c7-3d019138c166"
      },
      "execution_count": null,
      "outputs": [
        {
          "output_type": "execute_result",
          "data": {
            "text/plain": [
              "(0                   [0.0, 0.0, 0.0, 0.0]\n",
              " 1         [0.0, 0.0, 0.0, 0.0, 0.0, 0.0]\n",
              " 2              [0.0, 0.0, 0.0, 0.0, 0.0]\n",
              " 3                                  [0.0]\n",
              " 4                                  [0.0]\n",
              "                        ...              \n",
              " 252459                             [0.0]\n",
              " 252460                             [0.0]\n",
              " 252461                   [0.0, 0.0, 0.0]\n",
              " 252462                        [0.0, 0.0]\n",
              " 252463                             [0.0]\n",
              " Length: 252464, dtype: object,\n",
              "          channels  attribution_first_click_heuristic\n",
              " 0        Facebook                            36848.5\n",
              " 1       Instagram                            16470.0\n",
              " 2  Online Display                            14109.5\n",
              " 3    Online Video                            23894.0\n",
              " 4     Paid Search                            31207.0)"
            ]
          },
          "metadata": {},
          "execution_count": 60
        }
      ]
    },
    {
      "cell_type": "code",
      "source": [
        "attribution.attribution_linear()"
      ],
      "metadata": {
        "colab": {
          "base_uri": "https://localhost:8080/"
        },
        "id": "BPWf4NTw73FD",
        "outputId": "29a0699a-aba0-4070-de79-956e935012c5"
      },
      "execution_count": null,
      "outputs": [
        {
          "output_type": "execute_result",
          "data": {
            "text/plain": [
              "(0                   [0.0, 0.0, 0.0, 0.0]\n",
              " 1         [0.0, 0.0, 0.0, 0.0, 0.0, 0.0]\n",
              " 2              [0.0, 0.0, 0.0, 0.0, 0.0]\n",
              " 3                                  [0.0]\n",
              " 4                                  [0.0]\n",
              "                        ...              \n",
              " 252459                             [0.0]\n",
              " 252460                             [0.0]\n",
              " 252461                   [0.0, 0.0, 0.0]\n",
              " 252462                        [0.0, 0.0]\n",
              " 252463                             [0.0]\n",
              " Length: 252464, dtype: object,          channels  attribution_linear_heuristic\n",
              " 0        Facebook                  37211.167922\n",
              " 1       Instagram                  16069.338769\n",
              " 2  Online Display                  13888.247638\n",
              " 3    Online Video                  24729.164451\n",
              " 4     Paid Search                  30631.081220)"
            ]
          },
          "metadata": {},
          "execution_count": 61
        }
      ]
    },
    {
      "cell_type": "markdown",
      "source": [
        "## Attribution Plot of Heuristic Model"
      ],
      "metadata": {
        "id": "6YcPHPRv8SGB"
      }
    },
    {
      "cell_type": "code",
      "source": [
        "attribution.plot(model_type='heuristic');"
      ],
      "metadata": {
        "colab": {
          "base_uri": "https://localhost:8080/",
          "height": 368
        },
        "id": "U3EReoNN75Kl",
        "outputId": "d2307f63-681f-4faf-95ca-125d7b28b748"
      },
      "execution_count": null,
      "outputs": [
        {
          "output_type": "display_data",
          "data": {
            "text/plain": [
              "<Figure size 1440x504 with 1 Axes>"
            ],
            "image/png": "[encoded data removed]"
          },
          "metadata": {
            "needs_background": "light"
          }
        }
      ]
    },
    {
      "cell_type": "markdown",
      "source": [
        "So, the company should prioritize Facebook, Paid Search, and Online Video to optimalize ads budget for those to make more conversion_revenue. In the click attribute, there is no significant differences both last click and first click."
      ],
      "metadata": {
        "id": "s6RvU6eUA0uA"
      }
    },
    {
      "cell_type": "markdown",
      "source": [
        "## Markov Model"
      ],
      "metadata": {
        "id": "hHNol8hp79il"
      }
    },
    {
      "cell_type": "code",
      "source": [
        "# create markov results\n",
        "markov_results = attribution.attribution_markov(transition_to_same_state=False)"
      ],
      "metadata": {
        "id": "FkF_7mvC7-oa"
      },
      "execution_count": null,
      "outputs": []
    },
    {
      "cell_type": "code",
      "source": [
        "# check markov results\n",
        "markov_results[1]"
      ],
      "metadata": {
        "colab": {
          "base_uri": "https://localhost:8080/",
          "height": 206
        },
        "id": "13GyH3KZ8AHv",
        "outputId": "9f1c4731-737e-4057-888c-274c4c4220f0"
      },
      "execution_count": null,
      "outputs": [
        {
          "output_type": "execute_result",
          "data": {
            "text/plain": [
              "         channels  attribution_markov_algorithmic\n",
              "0    Online Video                    20799.582988\n",
              "1        Facebook                    36934.593916\n",
              "2     Paid Search                    26016.675622\n",
              "3       Instagram                    25470.052749\n",
              "4  Online Display                    13308.094725"
            ],
            "text/html": [
              "\n",
              "  <div id=\"df-617e81b3-a948-44cf-a5ec-086e9a66ae16\">\n",
              "    <div class=\"colab-df-container\">\n",
              "      <div>\n",
              "<style scoped>\n",
              "    .dataframe tbody tr th:only-of-type {\n",
              "        vertical-align: middle;\n",
              "    }\n",
              "\n",
              "    .dataframe tbody tr th {\n",
              "        vertical-align: top;\n",
              "    }\n",
              "\n",
              "    .dataframe thead th {\n",
              "        text-align: right;\n",
              "    }\n",
              "</style>\n",
              "<table border=\"1\" class=\"dataframe\">\n",
              "  <thead>\n",
              "    <tr style=\"text-align: right;\">\n",
              "      <th></th>\n",
              "      <th>channels</th>\n",
              "      <th>attribution_markov_algorithmic</th>\n",
              "    </tr>\n",
              "  </thead>\n",
              "  <tbody>\n",
              "    <tr>\n",
              "      <th>0</th>\n",
              "      <td>Online Video</td>\n",
              "      <td>20799.582988</td>\n",
              "    </tr>\n",
              "    <tr>\n",
              "      <th>1</th>\n",
              "      <td>Facebook</td>\n",
              "      <td>36934.593916</td>\n",
              "    </tr>\n",
              "    <tr>\n",
              "      <th>2</th>\n",
              "      <td>Paid Search</td>\n",
              "      <td>26016.675622</td>\n",
              "    </tr>\n",
              "    <tr>\n",
              "      <th>3</th>\n",
              "      <td>Instagram</td>\n",
              "      <td>25470.052749</td>\n",
              "    </tr>\n",
              "    <tr>\n",
              "      <th>4</th>\n",
              "      <td>Online Display</td>\n",
              "      <td>13308.094725</td>\n",
              "    </tr>\n",
              "  </tbody>\n",
              "</table>\n",
              "</div>\n",
              "      <button class=\"colab-df-convert\" onclick=\"convertToInteractive('df-617e81b3-a948-44cf-a5ec-086e9a66ae16')\"\n",
              "              title=\"Convert this dataframe to an interactive table.\"\n",
              "              style=\"display:none;\">\n",
              "        \n",
              "  <svg xmlns=\"http://www.w3.org/2000/svg\" height=\"24px\"viewBox=\"0 0 24 24\"\n",
              "       width=\"24px\">\n",
              "    <path d=\"M0 0h24v24H0V0z\" fill=\"none\"/>\n",
              "    <path d=\"M18.56 5.44l.94 2.06.94-2.06 2.06-.94-2.06-.94-.94-2.06-.94 2.06-2.06.94zm-11 1L8.5 8.5l.94-2.06 2.06-.94-2.06-.94L8.5 2.5l-.94 2.06-2.06.94zm10 10l.94 2.06.94-2.06 2.06-.94-2.06-.94-.94-2.06-.94 2.06-2.06.94z\"/><path d=\"M17.41 7.96l-1.37-1.37c-.4-.4-.92-.59-1.43-.59-.52 0-1.04.2-1.43.59L10.3 9.45l-7.72 7.72c-.78.78-.78 2.05 0 2.83L4 21.41c.39.39.9.59 1.41.59.51 0 1.02-.2 1.41-.59l7.78-7.78 2.81-2.81c.8-.78.8-2.07 0-2.86zM5.41 20L4 18.59l7.72-7.72 1.47 1.35L5.41 20z\"/>\n",
              "  </svg>\n",
              "      </button>\n",
              "      \n",
              "  <style>\n",
              "    .colab-df-container {\n",
              "      display:flex;\n",
              "      flex-wrap:wrap;\n",
              "      gap: 12px;\n",
              "    }\n",
              "\n",
              "    .colab-df-convert {\n",
              "      background-color: #E8F0FE;\n",
              "      border: none;\n",
              "      border-radius: 50%;\n",
              "      cursor: pointer;\n",
              "      display: none;\n",
              "      fill: #1967D2;\n",
              "      height: 32px;\n",
              "      padding: 0 0 0 0;\n",
              "      width: 32px;\n",
              "    }\n",
              "\n",
              "    .colab-df-convert:hover {\n",
              "      background-color: #E2EBFA;\n",
              "      box-shadow: 0px 1px 2px rgba(60, 64, 67, 0.3), 0px 1px 3px 1px rgba(60, 64, 67, 0.15);\n",
              "      fill: #174EA6;\n",
              "    }\n",
              "\n",
              "    [theme=dark] .colab-df-convert {\n",
              "      background-color: #3B4455;\n",
              "      fill: #D2E3FC;\n",
              "    }\n",
              "\n",
              "    [theme=dark] .colab-df-convert:hover {\n",
              "      background-color: #434B5C;\n",
              "      box-shadow: 0px 1px 3px 1px rgba(0, 0, 0, 0.15);\n",
              "      filter: drop-shadow(0px 1px 2px rgba(0, 0, 0, 0.3));\n",
              "      fill: #FFFFFF;\n",
              "    }\n",
              "  </style>\n",
              "\n",
              "      <script>\n",
              "        const buttonEl =\n",
              "          document.querySelector('#df-617e81b3-a948-44cf-a5ec-086e9a66ae16 button.colab-df-convert');\n",
              "        buttonEl.style.display =\n",
              "          google.colab.kernel.accessAllowed ? 'block' : 'none';\n",
              "\n",
              "        async function convertToInteractive(key) {\n",
              "          const element = document.querySelector('#df-617e81b3-a948-44cf-a5ec-086e9a66ae16');\n",
              "          const dataTable =\n",
              "            await google.colab.kernel.invokeFunction('convertToInteractive',\n",
              "                                                     [key], {});\n",
              "          if (!dataTable) return;\n",
              "\n",
              "          const docLinkHtml = 'Like what you see? Visit the ' +\n",
              "            '<a target=\"_blank\" href=https://colab.research.google.com/notebooks/data_table.ipynb>data table notebook</a>'\n",
              "            + ' to learn more about interactive tables.';\n",
              "          element.innerHTML = '';\n",
              "          dataTable['output_type'] = 'display_data';\n",
              "          await google.colab.output.renderOutput(dataTable, element);\n",
              "          const docLink = document.createElement('div');\n",
              "          docLink.innerHTML = docLinkHtml;\n",
              "          element.appendChild(docLink);\n",
              "        }\n",
              "      </script>\n",
              "    </div>\n",
              "  </div>\n",
              "  "
            ]
          },
          "metadata": {},
          "execution_count": 64
        }
      ]
    },
    {
      "cell_type": "code",
      "source": [
        "# check removal effects\n",
        "ax, fig = plt.subplots(figsize=(6,6))\n",
        "sns.heatmap(\n",
        "    markov_results[3].round(3), \n",
        "    cmap=\"YlGnBu\", \n",
        "    annot=True, \n",
        "    linewidths=.5\n",
        ");"
      ],
      "metadata": {
        "colab": {
          "base_uri": "https://localhost:8080/",
          "height": 371
        },
        "id": "zNtQySeI8BjE",
        "outputId": "bf3eb6eb-1c3e-44e4-c2a9-bed85347eecc"
      },
      "execution_count": null,
      "outputs": [
        {
          "output_type": "display_data",
          "data": {
            "text/plain": [
              "<Figure size 432x432 with 2 Axes>"
            ],
            "image/png": "[encoded data removed]"
          },
          "metadata": {
            "needs_background": "light"
          }
        }
      ]
    },
    {
      "cell_type": "markdown",
      "source": [
        "So, the company should be aware for this removal effect. Facebook is higher effect to the conversion_value. Followed by Paid Search (35%), Instagram (34%), Online video (28%), and Online Display (18%).\n",
        "\n",
        "Removal effect define that if we remove a channel, then the channel will give (%) the effect to the conversion_value."
      ],
      "metadata": {
        "id": "iNhmiwxgBFqt"
      }
    },
    {
      "cell_type": "markdown",
      "source": [
        "## Attribution Plot of Markov Model"
      ],
      "metadata": {
        "id": "HBZ4RoAK8LnK"
      }
    },
    {
      "cell_type": "code",
      "source": [
        "attribution.plot();"
      ],
      "metadata": {
        "colab": {
          "base_uri": "https://localhost:8080/",
          "height": 368
        },
        "id": "tWqpN4zU8OaD",
        "outputId": "fb7c4efd-1c9a-4074-ddd5-8f922d2592f8"
      },
      "execution_count": null,
      "outputs": [
        {
          "output_type": "display_data",
          "data": {
            "text/plain": [
              "<Figure size 1440x504 with 1 Axes>"
            ],
            "image/png": "[encoded data removed]"
          },
          "metadata": {
            "needs_background": "light"
          }
        }
      ]
    },
    {
      "cell_type": "markdown",
      "source": [
        "In the Markov Model probabolity, they recommend that we prioritize Facebook, Paid Search, and Instagram to optimize the ads budget for those that generate more conversion_revenue."
      ],
      "metadata": {
        "id": "UPcW_oKvCEIL"
      }
    }
  ]
}
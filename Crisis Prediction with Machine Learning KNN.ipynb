{
  "nbformat": 4,
  "nbformat_minor": 0,
  "metadata": {
    "colab": {
      "provenance": [],
      "collapsed_sections": [],
      "include_colab_link": true
    },
    "kernelspec": {
      "name": "python3",
      "display_name": "Python 3"
    },
    "language_info": {
      "name": "python"
    }
  },
  "cells": [
    {
      "cell_type": "markdown",
      "metadata": {
        "id": "view-in-github",
        "colab_type": "text"
      },
      "source": [
        "<a href=\"https://colab.research.google.com/github/whyrzky/DS-Portfolio-Projects/blob/main/Crisis%20Prediction%20with%20Machine%20Learning%20KNN.ipynb\" target=\"_parent\"><img src=\"https://colab.research.google.com/assets/colab-badge.svg\" alt=\"Open In Colab\"/></a>"
      ]
    },
    {
      "cell_type": "code",
      "execution_count": null,
      "metadata": {
        "id": "8nThh7UMMHxj"
      },
      "outputs": [],
      "source": [
        "import pandas as pd\n",
        "import numpy as np\n",
        "import matplotlib.pyplot as plt\n",
        "import seaborn as sns\n",
        "import warnings\n",
        "\n",
        "warnings.filterwarnings('ignore')\n",
        "pd.set_option('display.max_columns', 100)\n",
        "plt.style.use('seaborn')"
      ]
    },
    {
      "cell_type": "code",
      "source": [
        "from google.colab import drive\n",
        "drive.mount('/content/gdrive')\n",
        "path =\"/content/gdrive/MyDrive/Belajar Python/Final Project/\" \n",
        "\n",
        "df = pd.read_csv(path+'data.csv')"
      ],
      "metadata": {
        "colab": {
          "base_uri": "https://localhost:8080/"
        },
        "id": "Sd4IRYCoND5H",
        "outputId": "e92cbd6f-bf9e-4d7c-9908-4f8b2ccf8381"
      },
      "execution_count": null,
      "outputs": [
        {
          "output_type": "stream",
          "name": "stdout",
          "text": [
            "Drive already mounted at /content/gdrive; to attempt to forcibly remount, call drive.mount(\"/content/gdrive\", force_remount=True).\n"
          ]
        }
      ]
    },
    {
      "cell_type": "code",
      "source": [
        "df.head(5)"
      ],
      "metadata": {
        "colab": {
          "base_uri": "https://localhost:8080/",
          "height": 285
        },
        "id": "PNaz8o1okOdQ",
        "outputId": "cdc266db-05d2-444a-b461-ee0361670ca1"
      },
      "execution_count": null,
      "outputs": [
        {
          "output_type": "execute_result",
          "data": {
            "text/plain": [
              "   Id  Ekspor  Cadangan Devisa    IHSG  Selisih Pinjaman dan Simpanan  \\\n",
              "0   0  1845.2           6068.2  504.27                           1.24   \n",
              "1   1  2055.0           6259.1  612.20                           1.24   \n",
              "2   4  1750.0           5767.5  624.33                           1.22   \n",
              "3   5  1812.0           6392.7  614.41                           1.19   \n",
              "4   6  2124.0           6615.6  556.34                           1.18   \n",
              "\n",
              "   Suku Bunga Simpanan Riil  Selisih BI Rate Riil dan FED Rate Riil  \\\n",
              "0                     15.56                                    4.36   \n",
              "1                     16.63                                    5.83   \n",
              "2                     14.77                                    7.92   \n",
              "3                     14.29                                    7.91   \n",
              "4                     16.66                                    9.74   \n",
              "\n",
              "   Simpanan bank   Nilai Tukar Riil  Nilai Tukar Perdagangan     M1  \\\n",
              "0       14.567329            376.63                   1.2366  10.66   \n",
              "1       16.707625            375.39                   1.2129  12.15   \n",
              "2       16.067787            388.69                   1.0374  12.58   \n",
              "3       16.274743            396.82                   1.0315  12.23   \n",
              "4       16.913348            397.52                   1.0400  12.08   \n",
              "\n",
              "   M2/Cadangan Devisa   M2M  Krisis  \n",
              "0              0.0055  6.46       1  \n",
              "1              0.0056  6.16       1  \n",
              "2              0.0066  6.77       0  \n",
              "3              0.0060  7.04       0  \n",
              "4              0.0060  6.76       0  "
            ],
            "text/html": [
              "\n",
              "  <div id=\"df-dab068e1-23ba-424d-a0fb-aaa8fca23372\">\n",
              "    <div class=\"colab-df-container\">\n",
              "      <div>\n",
              "<style scoped>\n",
              "    .dataframe tbody tr th:only-of-type {\n",
              "        vertical-align: middle;\n",
              "    }\n",
              "\n",
              "    .dataframe tbody tr th {\n",
              "        vertical-align: top;\n",
              "    }\n",
              "\n",
              "    .dataframe thead th {\n",
              "        text-align: right;\n",
              "    }\n",
              "</style>\n",
              "<table border=\"1\" class=\"dataframe\">\n",
              "  <thead>\n",
              "    <tr style=\"text-align: right;\">\n",
              "      <th></th>\n",
              "      <th>Id</th>\n",
              "      <th>Ekspor</th>\n",
              "      <th>Cadangan Devisa</th>\n",
              "      <th>IHSG</th>\n",
              "      <th>Selisih Pinjaman dan Simpanan</th>\n",
              "      <th>Suku Bunga Simpanan Riil</th>\n",
              "      <th>Selisih BI Rate Riil dan FED Rate Riil</th>\n",
              "      <th>Simpanan bank</th>\n",
              "      <th>Nilai Tukar Riil</th>\n",
              "      <th>Nilai Tukar Perdagangan</th>\n",
              "      <th>M1</th>\n",
              "      <th>M2/Cadangan Devisa</th>\n",
              "      <th>M2M</th>\n",
              "      <th>Krisis</th>\n",
              "    </tr>\n",
              "  </thead>\n",
              "  <tbody>\n",
              "    <tr>\n",
              "      <th>0</th>\n",
              "      <td>0</td>\n",
              "      <td>1845.2</td>\n",
              "      <td>6068.2</td>\n",
              "      <td>504.27</td>\n",
              "      <td>1.24</td>\n",
              "      <td>15.56</td>\n",
              "      <td>4.36</td>\n",
              "      <td>14.567329</td>\n",
              "      <td>376.63</td>\n",
              "      <td>1.2366</td>\n",
              "      <td>10.66</td>\n",
              "      <td>0.0055</td>\n",
              "      <td>6.46</td>\n",
              "      <td>1</td>\n",
              "    </tr>\n",
              "    <tr>\n",
              "      <th>1</th>\n",
              "      <td>1</td>\n",
              "      <td>2055.0</td>\n",
              "      <td>6259.1</td>\n",
              "      <td>612.20</td>\n",
              "      <td>1.24</td>\n",
              "      <td>16.63</td>\n",
              "      <td>5.83</td>\n",
              "      <td>16.707625</td>\n",
              "      <td>375.39</td>\n",
              "      <td>1.2129</td>\n",
              "      <td>12.15</td>\n",
              "      <td>0.0056</td>\n",
              "      <td>6.16</td>\n",
              "      <td>1</td>\n",
              "    </tr>\n",
              "    <tr>\n",
              "      <th>2</th>\n",
              "      <td>4</td>\n",
              "      <td>1750.0</td>\n",
              "      <td>5767.5</td>\n",
              "      <td>624.33</td>\n",
              "      <td>1.22</td>\n",
              "      <td>14.77</td>\n",
              "      <td>7.92</td>\n",
              "      <td>16.067787</td>\n",
              "      <td>388.69</td>\n",
              "      <td>1.0374</td>\n",
              "      <td>12.58</td>\n",
              "      <td>0.0066</td>\n",
              "      <td>6.77</td>\n",
              "      <td>0</td>\n",
              "    </tr>\n",
              "    <tr>\n",
              "      <th>3</th>\n",
              "      <td>5</td>\n",
              "      <td>1812.0</td>\n",
              "      <td>6392.7</td>\n",
              "      <td>614.41</td>\n",
              "      <td>1.19</td>\n",
              "      <td>14.29</td>\n",
              "      <td>7.91</td>\n",
              "      <td>16.274743</td>\n",
              "      <td>396.82</td>\n",
              "      <td>1.0315</td>\n",
              "      <td>12.23</td>\n",
              "      <td>0.0060</td>\n",
              "      <td>7.04</td>\n",
              "      <td>0</td>\n",
              "    </tr>\n",
              "    <tr>\n",
              "      <th>4</th>\n",
              "      <td>6</td>\n",
              "      <td>2124.0</td>\n",
              "      <td>6615.6</td>\n",
              "      <td>556.34</td>\n",
              "      <td>1.18</td>\n",
              "      <td>16.66</td>\n",
              "      <td>9.74</td>\n",
              "      <td>16.913348</td>\n",
              "      <td>397.52</td>\n",
              "      <td>1.0400</td>\n",
              "      <td>12.08</td>\n",
              "      <td>0.0060</td>\n",
              "      <td>6.76</td>\n",
              "      <td>0</td>\n",
              "    </tr>\n",
              "  </tbody>\n",
              "</table>\n",
              "</div>\n",
              "      <button class=\"colab-df-convert\" onclick=\"convertToInteractive('df-dab068e1-23ba-424d-a0fb-aaa8fca23372')\"\n",
              "              title=\"Convert this dataframe to an interactive table.\"\n",
              "              style=\"display:none;\">\n",
              "        \n",
              "  <svg xmlns=\"http://www.w3.org/2000/svg\" height=\"24px\"viewBox=\"0 0 24 24\"\n",
              "       width=\"24px\">\n",
              "    <path d=\"M0 0h24v24H0V0z\" fill=\"none\"/>\n",
              "    <path d=\"M18.56 5.44l.94 2.06.94-2.06 2.06-.94-2.06-.94-.94-2.06-.94 2.06-2.06.94zm-11 1L8.5 8.5l.94-2.06 2.06-.94-2.06-.94L8.5 2.5l-.94 2.06-2.06.94zm10 10l.94 2.06.94-2.06 2.06-.94-2.06-.94-.94-2.06-.94 2.06-2.06.94z\"/><path d=\"M17.41 7.96l-1.37-1.37c-.4-.4-.92-.59-1.43-.59-.52 0-1.04.2-1.43.59L10.3 9.45l-7.72 7.72c-.78.78-.78 2.05 0 2.83L4 21.41c.39.39.9.59 1.41.59.51 0 1.02-.2 1.41-.59l7.78-7.78 2.81-2.81c.8-.78.8-2.07 0-2.86zM5.41 20L4 18.59l7.72-7.72 1.47 1.35L5.41 20z\"/>\n",
              "  </svg>\n",
              "      </button>\n",
              "      \n",
              "  <style>\n",
              "    .colab-df-container {\n",
              "      display:flex;\n",
              "      flex-wrap:wrap;\n",
              "      gap: 12px;\n",
              "    }\n",
              "\n",
              "    .colab-df-convert {\n",
              "      background-color: #E8F0FE;\n",
              "      border: none;\n",
              "      border-radius: 50%;\n",
              "      cursor: pointer;\n",
              "      display: none;\n",
              "      fill: #1967D2;\n",
              "      height: 32px;\n",
              "      padding: 0 0 0 0;\n",
              "      width: 32px;\n",
              "    }\n",
              "\n",
              "    .colab-df-convert:hover {\n",
              "      background-color: #E2EBFA;\n",
              "      box-shadow: 0px 1px 2px rgba(60, 64, 67, 0.3), 0px 1px 3px 1px rgba(60, 64, 67, 0.15);\n",
              "      fill: #174EA6;\n",
              "    }\n",
              "\n",
              "    [theme=dark] .colab-df-convert {\n",
              "      background-color: #3B4455;\n",
              "      fill: #D2E3FC;\n",
              "    }\n",
              "\n",
              "    [theme=dark] .colab-df-convert:hover {\n",
              "      background-color: #434B5C;\n",
              "      box-shadow: 0px 1px 3px 1px rgba(0, 0, 0, 0.15);\n",
              "      filter: drop-shadow(0px 1px 2px rgba(0, 0, 0, 0.3));\n",
              "      fill: #FFFFFF;\n",
              "    }\n",
              "  </style>\n",
              "\n",
              "      <script>\n",
              "        const buttonEl =\n",
              "          document.querySelector('#df-dab068e1-23ba-424d-a0fb-aaa8fca23372 button.colab-df-convert');\n",
              "        buttonEl.style.display =\n",
              "          google.colab.kernel.accessAllowed ? 'block' : 'none';\n",
              "\n",
              "        async function convertToInteractive(key) {\n",
              "          const element = document.querySelector('#df-dab068e1-23ba-424d-a0fb-aaa8fca23372');\n",
              "          const dataTable =\n",
              "            await google.colab.kernel.invokeFunction('convertToInteractive',\n",
              "                                                     [key], {});\n",
              "          if (!dataTable) return;\n",
              "\n",
              "          const docLinkHtml = 'Like what you see? Visit the ' +\n",
              "            '<a target=\"_blank\" href=https://colab.research.google.com/notebooks/data_table.ipynb>data table notebook</a>'\n",
              "            + ' to learn more about interactive tables.';\n",
              "          element.innerHTML = '';\n",
              "          dataTable['output_type'] = 'display_data';\n",
              "          await google.colab.output.renderOutput(dataTable, element);\n",
              "          const docLink = document.createElement('div');\n",
              "          docLink.innerHTML = docLinkHtml;\n",
              "          element.appendChild(docLink);\n",
              "        }\n",
              "      </script>\n",
              "    </div>\n",
              "  </div>\n",
              "  "
            ]
          },
          "metadata": {},
          "execution_count": 3
        }
      ]
    },
    {
      "cell_type": "code",
      "source": [
        "df.info()"
      ],
      "metadata": {
        "colab": {
          "base_uri": "https://localhost:8080/"
        },
        "id": "ewk1YnH8kY9N",
        "outputId": "3112bc5e-5bd6-4da7-edce-166d1c3d08a1"
      },
      "execution_count": null,
      "outputs": [
        {
          "output_type": "stream",
          "name": "stdout",
          "text": [
            "<class 'pandas.core.frame.DataFrame'>\n",
            "RangeIndex: 270 entries, 0 to 269\n",
            "Data columns (total 14 columns):\n",
            " #   Column                                  Non-Null Count  Dtype  \n",
            "---  ------                                  --------------  -----  \n",
            " 0   Id                                      270 non-null    int64  \n",
            " 1   Ekspor                                  270 non-null    float64\n",
            " 2   Cadangan Devisa                         270 non-null    float64\n",
            " 3   IHSG                                    270 non-null    float64\n",
            " 4   Selisih Pinjaman dan Simpanan           270 non-null    float64\n",
            " 5   Suku Bunga Simpanan Riil                270 non-null    float64\n",
            " 6   Selisih BI Rate Riil dan FED Rate Riil  270 non-null    float64\n",
            " 7   Simpanan bank                           270 non-null    float64\n",
            " 8   Nilai Tukar Riil                        270 non-null    float64\n",
            " 9   Nilai Tukar Perdagangan                 270 non-null    float64\n",
            " 10  M1                                      270 non-null    float64\n",
            " 11  M2/Cadangan Devisa                      270 non-null    float64\n",
            " 12  M2M                                     270 non-null    float64\n",
            " 13  Krisis                                  270 non-null    int64  \n",
            "dtypes: float64(12), int64(2)\n",
            "memory usage: 29.7 KB\n"
          ]
        }
      ]
    },
    {
      "cell_type": "code",
      "source": [
        "df.describe()"
      ],
      "metadata": {
        "colab": {
          "base_uri": "https://localhost:8080/",
          "height": 434
        },
        "id": "8Pfc-IzHka-v",
        "outputId": "0b14c7cb-90cf-4dd7-f0a8-e2d04adcd2ee"
      },
      "execution_count": null,
      "outputs": [
        {
          "output_type": "execute_result",
          "data": {
            "text/plain": [
              "               Id        Ekspor  Cadangan Devisa         IHSG  \\\n",
              "count  270.000000    270.000000       270.000000   270.000000   \n",
              "mean   174.429630   8247.868963     53516.383556  2071.609444   \n",
              "std    101.887141   4853.028611     41132.468503  2014.293535   \n",
              "min      0.000000   1750.000000      5767.500000   226.680000   \n",
              "25%     88.250000   4082.750000     19042.000000   462.717500   \n",
              "50%    172.500000   6261.415000     34816.185000   759.030000   \n",
              "75%    262.750000  12936.765000    102477.375000  3916.700000   \n",
              "max    351.000000  18530.800000    130196.380000  6597.220000   \n",
              "\n",
              "       Selisih Pinjaman dan Simpanan  Suku Bunga Simpanan Riil  \\\n",
              "count                     270.000000                270.000000   \n",
              "mean                        1.500222                 12.016000   \n",
              "std                         0.333443                  7.509484   \n",
              "min                         0.660000                  0.680000   \n",
              "25%                         1.220000                  6.622500   \n",
              "50%                         1.505000                 10.395000   \n",
              "75%                         1.760000                 15.330000   \n",
              "max                         2.410000                 52.980000   \n",
              "\n",
              "       Selisih BI Rate Riil dan FED Rate Riil  Simpanan bank   \\\n",
              "count                              270.000000      270.000000   \n",
              "mean                                 8.328000      134.058398   \n",
              "std                                  7.233576      100.175825   \n",
              "min                                  1.250000       14.567329   \n",
              "25%                                  5.107500       58.468779   \n",
              "50%                                  6.515000       83.851499   \n",
              "75%                                  8.822500      245.694303   \n",
              "max                                 59.880000      330.612337   \n",
              "\n",
              "       Nilai Tukar Riil  Nilai Tukar Perdagangan          M1  \\\n",
              "count        270.000000               270.000000  270.000000   \n",
              "mean        7232.566259                 1.225759   41.406296   \n",
              "std         5550.579030                 0.214566   29.628941   \n",
              "min          375.390000                 0.851500    7.350000   \n",
              "25%          742.267500                 1.063950   16.475000   \n",
              "50%         6753.570000                 1.166350   26.455000   \n",
              "75%        10000.275000                 1.373825   73.185000   \n",
              "max        19358.390000                 1.857700  104.840000   \n",
              "\n",
              "       M2/Cadangan Devisa         M2M      Krisis  \n",
              "count          270.000000  270.000000  270.000000  \n",
              "mean             0.003716    6.763333    0.111111  \n",
              "std              0.001151    5.115211    0.314853  \n",
              "min              0.002000    4.190000    0.000000  \n",
              "25%              0.003000    5.020000    0.000000  \n",
              "50%              0.003200    6.180000    0.000000  \n",
              "75%              0.004600    7.900000    0.000000  \n",
              "max              0.006600   86.970000    1.000000  "
            ],
            "text/html": [
              "\n",
              "  <div id=\"df-8d4c792e-cddb-4455-9a30-792fbc608e42\">\n",
              "    <div class=\"colab-df-container\">\n",
              "      <div>\n",
              "<style scoped>\n",
              "    .dataframe tbody tr th:only-of-type {\n",
              "        vertical-align: middle;\n",
              "    }\n",
              "\n",
              "    .dataframe tbody tr th {\n",
              "        vertical-align: top;\n",
              "    }\n",
              "\n",
              "    .dataframe thead th {\n",
              "        text-align: right;\n",
              "    }\n",
              "</style>\n",
              "<table border=\"1\" class=\"dataframe\">\n",
              "  <thead>\n",
              "    <tr style=\"text-align: right;\">\n",
              "      <th></th>\n",
              "      <th>Id</th>\n",
              "      <th>Ekspor</th>\n",
              "      <th>Cadangan Devisa</th>\n",
              "      <th>IHSG</th>\n",
              "      <th>Selisih Pinjaman dan Simpanan</th>\n",
              "      <th>Suku Bunga Simpanan Riil</th>\n",
              "      <th>Selisih BI Rate Riil dan FED Rate Riil</th>\n",
              "      <th>Simpanan bank</th>\n",
              "      <th>Nilai Tukar Riil</th>\n",
              "      <th>Nilai Tukar Perdagangan</th>\n",
              "      <th>M1</th>\n",
              "      <th>M2/Cadangan Devisa</th>\n",
              "      <th>M2M</th>\n",
              "      <th>Krisis</th>\n",
              "    </tr>\n",
              "  </thead>\n",
              "  <tbody>\n",
              "    <tr>\n",
              "      <th>count</th>\n",
              "      <td>270.000000</td>\n",
              "      <td>270.000000</td>\n",
              "      <td>270.000000</td>\n",
              "      <td>270.000000</td>\n",
              "      <td>270.000000</td>\n",
              "      <td>270.000000</td>\n",
              "      <td>270.000000</td>\n",
              "      <td>270.000000</td>\n",
              "      <td>270.000000</td>\n",
              "      <td>270.000000</td>\n",
              "      <td>270.000000</td>\n",
              "      <td>270.000000</td>\n",
              "      <td>270.000000</td>\n",
              "      <td>270.000000</td>\n",
              "    </tr>\n",
              "    <tr>\n",
              "      <th>mean</th>\n",
              "      <td>174.429630</td>\n",
              "      <td>8247.868963</td>\n",
              "      <td>53516.383556</td>\n",
              "      <td>2071.609444</td>\n",
              "      <td>1.500222</td>\n",
              "      <td>12.016000</td>\n",
              "      <td>8.328000</td>\n",
              "      <td>134.058398</td>\n",
              "      <td>7232.566259</td>\n",
              "      <td>1.225759</td>\n",
              "      <td>41.406296</td>\n",
              "      <td>0.003716</td>\n",
              "      <td>6.763333</td>\n",
              "      <td>0.111111</td>\n",
              "    </tr>\n",
              "    <tr>\n",
              "      <th>std</th>\n",
              "      <td>101.887141</td>\n",
              "      <td>4853.028611</td>\n",
              "      <td>41132.468503</td>\n",
              "      <td>2014.293535</td>\n",
              "      <td>0.333443</td>\n",
              "      <td>7.509484</td>\n",
              "      <td>7.233576</td>\n",
              "      <td>100.175825</td>\n",
              "      <td>5550.579030</td>\n",
              "      <td>0.214566</td>\n",
              "      <td>29.628941</td>\n",
              "      <td>0.001151</td>\n",
              "      <td>5.115211</td>\n",
              "      <td>0.314853</td>\n",
              "    </tr>\n",
              "    <tr>\n",
              "      <th>min</th>\n",
              "      <td>0.000000</td>\n",
              "      <td>1750.000000</td>\n",
              "      <td>5767.500000</td>\n",
              "      <td>226.680000</td>\n",
              "      <td>0.660000</td>\n",
              "      <td>0.680000</td>\n",
              "      <td>1.250000</td>\n",
              "      <td>14.567329</td>\n",
              "      <td>375.390000</td>\n",
              "      <td>0.851500</td>\n",
              "      <td>7.350000</td>\n",
              "      <td>0.002000</td>\n",
              "      <td>4.190000</td>\n",
              "      <td>0.000000</td>\n",
              "    </tr>\n",
              "    <tr>\n",
              "      <th>25%</th>\n",
              "      <td>88.250000</td>\n",
              "      <td>4082.750000</td>\n",
              "      <td>19042.000000</td>\n",
              "      <td>462.717500</td>\n",
              "      <td>1.220000</td>\n",
              "      <td>6.622500</td>\n",
              "      <td>5.107500</td>\n",
              "      <td>58.468779</td>\n",
              "      <td>742.267500</td>\n",
              "      <td>1.063950</td>\n",
              "      <td>16.475000</td>\n",
              "      <td>0.003000</td>\n",
              "      <td>5.020000</td>\n",
              "      <td>0.000000</td>\n",
              "    </tr>\n",
              "    <tr>\n",
              "      <th>50%</th>\n",
              "      <td>172.500000</td>\n",
              "      <td>6261.415000</td>\n",
              "      <td>34816.185000</td>\n",
              "      <td>759.030000</td>\n",
              "      <td>1.505000</td>\n",
              "      <td>10.395000</td>\n",
              "      <td>6.515000</td>\n",
              "      <td>83.851499</td>\n",
              "      <td>6753.570000</td>\n",
              "      <td>1.166350</td>\n",
              "      <td>26.455000</td>\n",
              "      <td>0.003200</td>\n",
              "      <td>6.180000</td>\n",
              "      <td>0.000000</td>\n",
              "    </tr>\n",
              "    <tr>\n",
              "      <th>75%</th>\n",
              "      <td>262.750000</td>\n",
              "      <td>12936.765000</td>\n",
              "      <td>102477.375000</td>\n",
              "      <td>3916.700000</td>\n",
              "      <td>1.760000</td>\n",
              "      <td>15.330000</td>\n",
              "      <td>8.822500</td>\n",
              "      <td>245.694303</td>\n",
              "      <td>10000.275000</td>\n",
              "      <td>1.373825</td>\n",
              "      <td>73.185000</td>\n",
              "      <td>0.004600</td>\n",
              "      <td>7.900000</td>\n",
              "      <td>0.000000</td>\n",
              "    </tr>\n",
              "    <tr>\n",
              "      <th>max</th>\n",
              "      <td>351.000000</td>\n",
              "      <td>18530.800000</td>\n",
              "      <td>130196.380000</td>\n",
              "      <td>6597.220000</td>\n",
              "      <td>2.410000</td>\n",
              "      <td>52.980000</td>\n",
              "      <td>59.880000</td>\n",
              "      <td>330.612337</td>\n",
              "      <td>19358.390000</td>\n",
              "      <td>1.857700</td>\n",
              "      <td>104.840000</td>\n",
              "      <td>0.006600</td>\n",
              "      <td>86.970000</td>\n",
              "      <td>1.000000</td>\n",
              "    </tr>\n",
              "  </tbody>\n",
              "</table>\n",
              "</div>\n",
              "      <button class=\"colab-df-convert\" onclick=\"convertToInteractive('df-8d4c792e-cddb-4455-9a30-792fbc608e42')\"\n",
              "              title=\"Convert this dataframe to an interactive table.\"\n",
              "              style=\"display:none;\">\n",
              "        \n",
              "  <svg xmlns=\"http://www.w3.org/2000/svg\" height=\"24px\"viewBox=\"0 0 24 24\"\n",
              "       width=\"24px\">\n",
              "    <path d=\"M0 0h24v24H0V0z\" fill=\"none\"/>\n",
              "    <path d=\"M18.56 5.44l.94 2.06.94-2.06 2.06-.94-2.06-.94-.94-2.06-.94 2.06-2.06.94zm-11 1L8.5 8.5l.94-2.06 2.06-.94-2.06-.94L8.5 2.5l-.94 2.06-2.06.94zm10 10l.94 2.06.94-2.06 2.06-.94-2.06-.94-.94-2.06-.94 2.06-2.06.94z\"/><path d=\"M17.41 7.96l-1.37-1.37c-.4-.4-.92-.59-1.43-.59-.52 0-1.04.2-1.43.59L10.3 9.45l-7.72 7.72c-.78.78-.78 2.05 0 2.83L4 21.41c.39.39.9.59 1.41.59.51 0 1.02-.2 1.41-.59l7.78-7.78 2.81-2.81c.8-.78.8-2.07 0-2.86zM5.41 20L4 18.59l7.72-7.72 1.47 1.35L5.41 20z\"/>\n",
              "  </svg>\n",
              "      </button>\n",
              "      \n",
              "  <style>\n",
              "    .colab-df-container {\n",
              "      display:flex;\n",
              "      flex-wrap:wrap;\n",
              "      gap: 12px;\n",
              "    }\n",
              "\n",
              "    .colab-df-convert {\n",
              "      background-color: #E8F0FE;\n",
              "      border: none;\n",
              "      border-radius: 50%;\n",
              "      cursor: pointer;\n",
              "      display: none;\n",
              "      fill: #1967D2;\n",
              "      height: 32px;\n",
              "      padding: 0 0 0 0;\n",
              "      width: 32px;\n",
              "    }\n",
              "\n",
              "    .colab-df-convert:hover {\n",
              "      background-color: #E2EBFA;\n",
              "      box-shadow: 0px 1px 2px rgba(60, 64, 67, 0.3), 0px 1px 3px 1px rgba(60, 64, 67, 0.15);\n",
              "      fill: #174EA6;\n",
              "    }\n",
              "\n",
              "    [theme=dark] .colab-df-convert {\n",
              "      background-color: #3B4455;\n",
              "      fill: #D2E3FC;\n",
              "    }\n",
              "\n",
              "    [theme=dark] .colab-df-convert:hover {\n",
              "      background-color: #434B5C;\n",
              "      box-shadow: 0px 1px 3px 1px rgba(0, 0, 0, 0.15);\n",
              "      filter: drop-shadow(0px 1px 2px rgba(0, 0, 0, 0.3));\n",
              "      fill: #FFFFFF;\n",
              "    }\n",
              "  </style>\n",
              "\n",
              "      <script>\n",
              "        const buttonEl =\n",
              "          document.querySelector('#df-8d4c792e-cddb-4455-9a30-792fbc608e42 button.colab-df-convert');\n",
              "        buttonEl.style.display =\n",
              "          google.colab.kernel.accessAllowed ? 'block' : 'none';\n",
              "\n",
              "        async function convertToInteractive(key) {\n",
              "          const element = document.querySelector('#df-8d4c792e-cddb-4455-9a30-792fbc608e42');\n",
              "          const dataTable =\n",
              "            await google.colab.kernel.invokeFunction('convertToInteractive',\n",
              "                                                     [key], {});\n",
              "          if (!dataTable) return;\n",
              "\n",
              "          const docLinkHtml = 'Like what you see? Visit the ' +\n",
              "            '<a target=\"_blank\" href=https://colab.research.google.com/notebooks/data_table.ipynb>data table notebook</a>'\n",
              "            + ' to learn more about interactive tables.';\n",
              "          element.innerHTML = '';\n",
              "          dataTable['output_type'] = 'display_data';\n",
              "          await google.colab.output.renderOutput(dataTable, element);\n",
              "          const docLink = document.createElement('div');\n",
              "          docLink.innerHTML = docLinkHtml;\n",
              "          element.appendChild(docLink);\n",
              "        }\n",
              "      </script>\n",
              "    </div>\n",
              "  </div>\n",
              "  "
            ]
          },
          "metadata": {},
          "execution_count": 5
        }
      ]
    },
    {
      "cell_type": "code",
      "source": [
        "sns.heatmap(df.corr(), annot=True)"
      ],
      "metadata": {
        "colab": {
          "base_uri": "https://localhost:8080/",
          "height": 442
        },
        "id": "weBLXS04N0I6",
        "outputId": "67db8a60-8287-43e5-e1dc-b49c3f48b21f"
      },
      "execution_count": null,
      "outputs": [
        {
          "output_type": "execute_result",
          "data": {
            "text/plain": [
              "<matplotlib.axes._subplots.AxesSubplot at 0x7f431c20ac90>"
            ]
          },
          "metadata": {},
          "execution_count": 6
        },
        {
          "output_type": "display_data",
          "data": {
            "text/plain": [
              "<Figure size 432x288 with 2 Axes>"
            ],
            "image/png": "[encoded data removed]"
          },
          "metadata": {
            "needs_background": "light"
          }
        }
      ]
    },
    {
      "cell_type": "code",
      "source": [
        "df = df.drop('Id', axis=1)\n",
        "df = df.drop('M2/Cadangan Devisa', axis=1)\n",
        "df = df.drop('Nilai Tukar Perdagangan', axis=1)\n",
        "df = df.drop('Selisih BI Rate Riil dan FED Rate Riil', axis=1)\n",
        "df = df.drop('M2M', axis=1)"
      ],
      "metadata": {
        "id": "VxOFs7qVN5nS"
      },
      "execution_count": null,
      "outputs": []
    },
    {
      "cell_type": "code",
      "source": [
        "sns.heatmap(df.corr(), annot=True)"
      ],
      "metadata": {
        "colab": {
          "base_uri": "https://localhost:8080/",
          "height": 417
        },
        "id": "YPpidQhdN-KW",
        "outputId": "e3ae5b4d-0dc6-4586-95dc-53c794c5b9d0"
      },
      "execution_count": null,
      "outputs": [
        {
          "output_type": "execute_result",
          "data": {
            "text/plain": [
              "<matplotlib.axes._subplots.AxesSubplot at 0x7f4319252850>"
            ]
          },
          "metadata": {},
          "execution_count": 8
        },
        {
          "output_type": "display_data",
          "data": {
            "text/plain": [
              "<Figure size 432x288 with 2 Axes>"
            ],
            "image/png": "[encoded data removed]"
          },
          "metadata": {
            "needs_background": "light"
          }
        }
      ]
    },
    {
      "cell_type": "code",
      "source": [
        "from sklearn.model_selection import RepeatedKFold\n",
        "from sklearn.model_selection import cross_val_score\n",
        "from sklearn.neighbors import KNeighborsClassifier\n",
        "from sklearn.discriminant_analysis import LinearDiscriminantAnalysis\n",
        "from sklearn import metrics\n",
        "from sklearn.model_selection import train_test_split "
      ],
      "metadata": {
        "id": "ib2985yaZGwU"
      },
      "execution_count": null,
      "outputs": []
    },
    {
      "cell_type": "code",
      "source": [
        "col = ['Ekspor','Cadangan Devisa','IHSG','Selisih Pinjaman dan Simpanan','Suku Bunga Simpanan Riil','Simpanan bank ','Nilai Tukar Riil','M1']\n",
        "X = df[col]\n",
        "y = df['Krisis']\n",
        "\n",
        "model = LinearDiscriminantAnalysis()\n",
        "model.fit(X,y)"
      ],
      "metadata": {
        "id": "4429d6vdUBGT",
        "colab": {
          "base_uri": "https://localhost:8080/"
        },
        "outputId": "0999dc10-788b-4ef1-ff50-bb1ad663ea02"
      },
      "execution_count": null,
      "outputs": [
        {
          "output_type": "execute_result",
          "data": {
            "text/plain": [
              "LinearDiscriminantAnalysis()"
            ]
          },
          "metadata": {},
          "execution_count": 16
        }
      ]
    },
    {
      "cell_type": "markdown",
      "source": [
        "### Testing"
      ],
      "metadata": {
        "id": "OE99HXsgVeph"
      }
    },
    {
      "cell_type": "code",
      "source": [
        "cv = RepeatedKFold(n_splits=10, n_repeats=3, random_state=1)\n",
        "\n",
        "scores = cross_val_score(model, X,y, scoring='accuracy',cv=cv,n_jobs=-1)\n",
        "print(np.mean(scores))\n"
      ],
      "metadata": {
        "colab": {
          "base_uri": "https://localhost:8080/"
        },
        "id": "7hpio8XYYKOK",
        "outputId": "b69189d7-f250-4d43-8cd7-60508e2f8baa"
      },
      "execution_count": null,
      "outputs": [
        {
          "output_type": "stream",
          "name": "stdout",
          "text": [
            "0.8839506172839505\n"
          ]
        }
      ]
    },
    {
      "cell_type": "code",
      "source": [
        "p = df[['Ekspor','Cadangan Devisa','IHSG','Selisih Pinjaman dan Simpanan','Suku Bunga Simpanan Riil','Simpanan bank ','Nilai Tukar Riil','M1']]\n",
        "q = df['Krisis']\n",
        "\n",
        "p_train,p_test,q_train,q_test = train_test_split(p,q,test_size=0.2,random_state=4)\n",
        "\n",
        "print(p_train.shape)\n",
        "print(p_test.shape)"
      ],
      "metadata": {
        "colab": {
          "base_uri": "https://localhost:8080/"
        },
        "id": "rQluwfQ5ZLmy",
        "outputId": "8b7b7ce8-a381-4104-9a1f-580a900e21fd"
      },
      "execution_count": null,
      "outputs": [
        {
          "output_type": "stream",
          "name": "stdout",
          "text": [
            "(216, 8)\n",
            "(54, 8)\n"
          ]
        }
      ]
    },
    {
      "cell_type": "code",
      "source": [
        "k_range = range(1,26)\n",
        "Scores = {}\n",
        "Scores_list = []\n",
        "for k in k_range:\n",
        "    knn = KNeighborsClassifier(n_neighbors=k)\n",
        "    knn.fit(p_train,q_train)\n",
        "    q_pred = knn.predict(p_test)\n",
        "    Scores[k] = metrics.accuracy_score(q_test,q_pred)\n",
        "    Scores_list.append(metrics.accuracy_score(q_test,q_pred))"
      ],
      "metadata": {
        "id": "VGH3WXcNaJPm"
      },
      "execution_count": null,
      "outputs": []
    },
    {
      "cell_type": "code",
      "source": [
        "Scores"
      ],
      "metadata": {
        "colab": {
          "base_uri": "https://localhost:8080/"
        },
        "id": "VjEpBKkEaaI5",
        "outputId": "69d3f155-b003-4aaf-b835-9bfe8b47965d"
      },
      "execution_count": null,
      "outputs": [
        {
          "output_type": "execute_result",
          "data": {
            "text/plain": [
              "{1: 0.9814814814814815,\n",
              " 2: 0.9814814814814815,\n",
              " 3: 0.9814814814814815,\n",
              " 4: 0.9814814814814815,\n",
              " 5: 0.9444444444444444,\n",
              " 6: 0.9814814814814815,\n",
              " 7: 0.9629629629629629,\n",
              " 8: 0.9629629629629629,\n",
              " 9: 0.9629629629629629,\n",
              " 10: 0.9629629629629629,\n",
              " 11: 0.9259259259259259,\n",
              " 12: 0.9444444444444444,\n",
              " 13: 0.9259259259259259,\n",
              " 14: 0.9444444444444444,\n",
              " 15: 0.9074074074074074,\n",
              " 16: 0.9629629629629629,\n",
              " 17: 0.9444444444444444,\n",
              " 18: 0.9629629629629629,\n",
              " 19: 0.9444444444444444,\n",
              " 20: 0.9444444444444444,\n",
              " 21: 0.9444444444444444,\n",
              " 22: 0.9629629629629629,\n",
              " 23: 0.9629629629629629,\n",
              " 24: 0.9629629629629629,\n",
              " 25: 0.9629629629629629}"
            ]
          },
          "metadata": {},
          "execution_count": 22
        }
      ]
    },
    {
      "cell_type": "code",
      "source": [
        "plt.plot(k_range,Scores_list)\n",
        "plt.xlabel('Value of K for KNN')\n",
        "plt.ylabel('Testing Accuracy')\n",
        "\n",
        "Scores = cross_val_score(model, X,y, scoring='accuracy',cv=cv,n_jobs=-1)\n",
        "print(np.mean(Scores))"
      ],
      "metadata": {
        "colab": {
          "base_uri": "https://localhost:8080/",
          "height": 296
        },
        "id": "IXWz_EQYaZ1d",
        "outputId": "497f84c3-794f-47a3-aa37-737b064180ab"
      },
      "execution_count": null,
      "outputs": [
        {
          "output_type": "stream",
          "name": "stdout",
          "text": [
            "0.8839506172839505\n"
          ]
        },
        {
          "output_type": "display_data",
          "data": {
            "text/plain": [
              "<Figure size 432x288 with 1 Axes>"
            ],
            "image/png": "[encoded data removed]"
          },
          "metadata": {
            "needs_background": "light"
          }
        }
      ]
    },
    {
      "cell_type": "code",
      "source": [
        "knn = KNeighborsClassifier(n_neighbors=5)\n",
        "knn.fit(p,q)"
      ],
      "metadata": {
        "colab": {
          "base_uri": "https://localhost:8080/"
        },
        "id": "hRg5vWsQayOt",
        "outputId": "86de5394-bf2d-4c22-f43f-27e97672de9c"
      },
      "execution_count": null,
      "outputs": [
        {
          "output_type": "execute_result",
          "data": {
            "text/plain": [
              "KNeighborsClassifier()"
            ]
          },
          "metadata": {},
          "execution_count": 24
        }
      ]
    },
    {
      "cell_type": "code",
      "source": [
        "classes = {0:'TIDAK KRISIS',1:'KRISIS'}"
      ],
      "metadata": {
        "id": "csmcQ_F5a-Jk"
      },
      "execution_count": null,
      "outputs": []
    },
    {
      "cell_type": "code",
      "source": [
        "x_new = [[np.random.randint(6600,6800),np.random.randint(6600,6800),np.random.randint(86,89),np.random.randint(86,89),15,12,np.random.randint(2600,2800),np.random.randint(2600,2800)]] #,[18,16,]\n",
        "x_new\n",
        "y_predict = knn.predict(x_new)"
      ],
      "metadata": {
        "id": "lglBpqidbbod"
      },
      "execution_count": null,
      "outputs": []
    },
    {
      "cell_type": "code",
      "source": [
        "from google.colab import drive\n",
        "drive.mount('/content/gdrive')\n",
        "path =\"/content/gdrive/MyDrive/Belajar Python/Final Project/\" \n",
        "\n",
        "df_predict = pd.read_csv(path+'predict.csv')"
      ],
      "metadata": {
        "colab": {
          "base_uri": "https://localhost:8080/"
        },
        "id": "r1bIjA1rd-7Y",
        "outputId": "63f56e5b-15c0-4810-9612-20fa33045d3c"
      },
      "execution_count": null,
      "outputs": [
        {
          "output_type": "stream",
          "name": "stdout",
          "text": [
            "Drive already mounted at /content/gdrive; to attempt to forcibly remount, call drive.mount(\"/content/gdrive\", force_remount=True).\n"
          ]
        }
      ]
    },
    {
      "cell_type": "code",
      "source": [
        "X_prediksi = df"
      ],
      "metadata": {
        "id": "-GWrmmcGebha"
      },
      "execution_count": null,
      "outputs": []
    },
    {
      "cell_type": "code",
      "source": [
        "x_predict.drop('Krisis')"
      ],
      "metadata": {
        "colab": {
          "base_uri": "https://localhost:8080/",
          "height": 424
        },
        "id": "3x-iYp9Pef0K",
        "outputId": "4d0272a7-1c79-4e8c-a487-b27f473e1396"
      },
      "execution_count": null,
      "outputs": [
        {
          "output_type": "execute_result",
          "data": {
            "text/plain": [
              "      Ekspor  Cadangan Devisa     IHSG  Selisih Pinjaman dan Simpanan  \\\n",
              "0     1845.2          6068.20   504.27                           1.24   \n",
              "1     2055.0          6259.10   612.20                           1.24   \n",
              "2     1750.0          5767.50   624.33                           1.22   \n",
              "3     1812.0          6392.70   614.41                           1.19   \n",
              "4     2124.0          6615.60   556.34                           1.18   \n",
              "..       ...              ...      ...                            ...   \n",
              "265  13927.9        120075.16  6532.97                           1.52   \n",
              "266  12555.9        123273.87  6443.35                           1.53   \n",
              "267  14121.9        124539.31  6468.76                           1.53   \n",
              "268  13112.7        124293.82  6455.35                           1.54   \n",
              "269  14825.2        120347.15  6209.12                           1.54   \n",
              "\n",
              "     Suku Bunga Simpanan Riil  Simpanan bank   Nilai Tukar Riil      M1  \\\n",
              "0                       15.56       14.567329            376.63   10.66   \n",
              "1                       16.63       16.707625            375.39   12.15   \n",
              "2                       14.77       16.067787            388.69   12.58   \n",
              "3                       14.29       16.274743            396.82   12.23   \n",
              "4                       16.66       16.913348            397.52   12.08   \n",
              "..                        ...             ...               ...     ...   \n",
              "265                      6.58      328.414357          18191.69   97.89   \n",
              "266                      6.99      330.319123          18087.59   98.64   \n",
              "267                      6.74      328.479665          18239.04  100.14   \n",
              "268                      6.39      330.069829          18186.00  102.12   \n",
              "269                      6.11      330.612337          18489.54  104.84   \n",
              "\n",
              "     Krisis  \n",
              "0         1  \n",
              "1         1  \n",
              "2         0  \n",
              "3         0  \n",
              "4         0  \n",
              "..      ...  \n",
              "265       0  \n",
              "266       0  \n",
              "267       0  \n",
              "268       0  \n",
              "269       0  \n",
              "\n",
              "[270 rows x 9 columns]"
            ],
            "text/html": [
              "\n",
              "  <div id=\"df-4794365f-e9c9-4960-a4a2-619d1c3baa44\">\n",
              "    <div class=\"colab-df-container\">\n",
              "      <div>\n",
              "<style scoped>\n",
              "    .dataframe tbody tr th:only-of-type {\n",
              "        vertical-align: middle;\n",
              "    }\n",
              "\n",
              "    .dataframe tbody tr th {\n",
              "        vertical-align: top;\n",
              "    }\n",
              "\n",
              "    .dataframe thead th {\n",
              "        text-align: right;\n",
              "    }\n",
              "</style>\n",
              "<table border=\"1\" class=\"dataframe\">\n",
              "  <thead>\n",
              "    <tr style=\"text-align: right;\">\n",
              "      <th></th>\n",
              "      <th>Ekspor</th>\n",
              "      <th>Cadangan Devisa</th>\n",
              "      <th>IHSG</th>\n",
              "      <th>Selisih Pinjaman dan Simpanan</th>\n",
              "      <th>Suku Bunga Simpanan Riil</th>\n",
              "      <th>Simpanan bank</th>\n",
              "      <th>Nilai Tukar Riil</th>\n",
              "      <th>M1</th>\n",
              "      <th>Krisis</th>\n",
              "    </tr>\n",
              "  </thead>\n",
              "  <tbody>\n",
              "    <tr>\n",
              "      <th>0</th>\n",
              "      <td>1845.2</td>\n",
              "      <td>6068.20</td>\n",
              "      <td>504.27</td>\n",
              "      <td>1.24</td>\n",
              "      <td>15.56</td>\n",
              "      <td>14.567329</td>\n",
              "      <td>376.63</td>\n",
              "      <td>10.66</td>\n",
              "      <td>1</td>\n",
              "    </tr>\n",
              "    <tr>\n",
              "      <th>1</th>\n",
              "      <td>2055.0</td>\n",
              "      <td>6259.10</td>\n",
              "      <td>612.20</td>\n",
              "      <td>1.24</td>\n",
              "      <td>16.63</td>\n",
              "      <td>16.707625</td>\n",
              "      <td>375.39</td>\n",
              "      <td>12.15</td>\n",
              "      <td>1</td>\n",
              "    </tr>\n",
              "    <tr>\n",
              "      <th>2</th>\n",
              "      <td>1750.0</td>\n",
              "      <td>5767.50</td>\n",
              "      <td>624.33</td>\n",
              "      <td>1.22</td>\n",
              "      <td>14.77</td>\n",
              "      <td>16.067787</td>\n",
              "      <td>388.69</td>\n",
              "      <td>12.58</td>\n",
              "      <td>0</td>\n",
              "    </tr>\n",
              "    <tr>\n",
              "      <th>3</th>\n",
              "      <td>1812.0</td>\n",
              "      <td>6392.70</td>\n",
              "      <td>614.41</td>\n",
              "      <td>1.19</td>\n",
              "      <td>14.29</td>\n",
              "      <td>16.274743</td>\n",
              "      <td>396.82</td>\n",
              "      <td>12.23</td>\n",
              "      <td>0</td>\n",
              "    </tr>\n",
              "    <tr>\n",
              "      <th>4</th>\n",
              "      <td>2124.0</td>\n",
              "      <td>6615.60</td>\n",
              "      <td>556.34</td>\n",
              "      <td>1.18</td>\n",
              "      <td>16.66</td>\n",
              "      <td>16.913348</td>\n",
              "      <td>397.52</td>\n",
              "      <td>12.08</td>\n",
              "      <td>0</td>\n",
              "    </tr>\n",
              "    <tr>\n",
              "      <th>...</th>\n",
              "      <td>...</td>\n",
              "      <td>...</td>\n",
              "      <td>...</td>\n",
              "      <td>...</td>\n",
              "      <td>...</td>\n",
              "      <td>...</td>\n",
              "      <td>...</td>\n",
              "      <td>...</td>\n",
              "      <td>...</td>\n",
              "    </tr>\n",
              "    <tr>\n",
              "      <th>265</th>\n",
              "      <td>13927.9</td>\n",
              "      <td>120075.16</td>\n",
              "      <td>6532.97</td>\n",
              "      <td>1.52</td>\n",
              "      <td>6.58</td>\n",
              "      <td>328.414357</td>\n",
              "      <td>18191.69</td>\n",
              "      <td>97.89</td>\n",
              "      <td>0</td>\n",
              "    </tr>\n",
              "    <tr>\n",
              "      <th>266</th>\n",
              "      <td>12555.9</td>\n",
              "      <td>123273.87</td>\n",
              "      <td>6443.35</td>\n",
              "      <td>1.53</td>\n",
              "      <td>6.99</td>\n",
              "      <td>330.319123</td>\n",
              "      <td>18087.59</td>\n",
              "      <td>98.64</td>\n",
              "      <td>0</td>\n",
              "    </tr>\n",
              "    <tr>\n",
              "      <th>267</th>\n",
              "      <td>14121.9</td>\n",
              "      <td>124539.31</td>\n",
              "      <td>6468.76</td>\n",
              "      <td>1.53</td>\n",
              "      <td>6.74</td>\n",
              "      <td>328.479665</td>\n",
              "      <td>18239.04</td>\n",
              "      <td>100.14</td>\n",
              "      <td>0</td>\n",
              "    </tr>\n",
              "    <tr>\n",
              "      <th>268</th>\n",
              "      <td>13112.7</td>\n",
              "      <td>124293.82</td>\n",
              "      <td>6455.35</td>\n",
              "      <td>1.54</td>\n",
              "      <td>6.39</td>\n",
              "      <td>330.069829</td>\n",
              "      <td>18186.00</td>\n",
              "      <td>102.12</td>\n",
              "      <td>0</td>\n",
              "    </tr>\n",
              "    <tr>\n",
              "      <th>269</th>\n",
              "      <td>14825.2</td>\n",
              "      <td>120347.15</td>\n",
              "      <td>6209.12</td>\n",
              "      <td>1.54</td>\n",
              "      <td>6.11</td>\n",
              "      <td>330.612337</td>\n",
              "      <td>18489.54</td>\n",
              "      <td>104.84</td>\n",
              "      <td>0</td>\n",
              "    </tr>\n",
              "  </tbody>\n",
              "</table>\n",
              "<p>270 rows × 9 columns</p>\n",
              "</div>\n",
              "      <button class=\"colab-df-convert\" onclick=\"convertToInteractive('df-4794365f-e9c9-4960-a4a2-619d1c3baa44')\"\n",
              "              title=\"Convert this dataframe to an interactive table.\"\n",
              "              style=\"display:none;\">\n",
              "        \n",
              "  <svg xmlns=\"http://www.w3.org/2000/svg\" height=\"24px\"viewBox=\"0 0 24 24\"\n",
              "       width=\"24px\">\n",
              "    <path d=\"M0 0h24v24H0V0z\" fill=\"none\"/>\n",
              "    <path d=\"M18.56 5.44l.94 2.06.94-2.06 2.06-.94-2.06-.94-.94-2.06-.94 2.06-2.06.94zm-11 1L8.5 8.5l.94-2.06 2.06-.94-2.06-.94L8.5 2.5l-.94 2.06-2.06.94zm10 10l.94 2.06.94-2.06 2.06-.94-2.06-.94-.94-2.06-.94 2.06-2.06.94z\"/><path d=\"M17.41 7.96l-1.37-1.37c-.4-.4-.92-.59-1.43-.59-.52 0-1.04.2-1.43.59L10.3 9.45l-7.72 7.72c-.78.78-.78 2.05 0 2.83L4 21.41c.39.39.9.59 1.41.59.51 0 1.02-.2 1.41-.59l7.78-7.78 2.81-2.81c.8-.78.8-2.07 0-2.86zM5.41 20L4 18.59l7.72-7.72 1.47 1.35L5.41 20z\"/>\n",
              "  </svg>\n",
              "      </button>\n",
              "      \n",
              "  <style>\n",
              "    .colab-df-container {\n",
              "      display:flex;\n",
              "      flex-wrap:wrap;\n",
              "      gap: 12px;\n",
              "    }\n",
              "\n",
              "    .colab-df-convert {\n",
              "      background-color: #E8F0FE;\n",
              "      border: none;\n",
              "      border-radius: 50%;\n",
              "      cursor: pointer;\n",
              "      display: none;\n",
              "      fill: #1967D2;\n",
              "      height: 32px;\n",
              "      padding: 0 0 0 0;\n",
              "      width: 32px;\n",
              "    }\n",
              "\n",
              "    .colab-df-convert:hover {\n",
              "      background-color: #E2EBFA;\n",
              "      box-shadow: 0px 1px 2px rgba(60, 64, 67, 0.3), 0px 1px 3px 1px rgba(60, 64, 67, 0.15);\n",
              "      fill: #174EA6;\n",
              "    }\n",
              "\n",
              "    [theme=dark] .colab-df-convert {\n",
              "      background-color: #3B4455;\n",
              "      fill: #D2E3FC;\n",
              "    }\n",
              "\n",
              "    [theme=dark] .colab-df-convert:hover {\n",
              "      background-color: #434B5C;\n",
              "      box-shadow: 0px 1px 3px 1px rgba(0, 0, 0, 0.15);\n",
              "      filter: drop-shadow(0px 1px 2px rgba(0, 0, 0, 0.3));\n",
              "      fill: #FFFFFF;\n",
              "    }\n",
              "  </style>\n",
              "\n",
              "      <script>\n",
              "        const buttonEl =\n",
              "          document.querySelector('#df-4794365f-e9c9-4960-a4a2-619d1c3baa44 button.colab-df-convert');\n",
              "        buttonEl.style.display =\n",
              "          google.colab.kernel.accessAllowed ? 'block' : 'none';\n",
              "\n",
              "        async function convertToInteractive(key) {\n",
              "          const element = document.querySelector('#df-4794365f-e9c9-4960-a4a2-619d1c3baa44');\n",
              "          const dataTable =\n",
              "            await google.colab.kernel.invokeFunction('convertToInteractive',\n",
              "                                                     [key], {});\n",
              "          if (!dataTable) return;\n",
              "\n",
              "          const docLinkHtml = 'Like what you see? Visit the ' +\n",
              "            '<a target=\"_blank\" href=https://colab.research.google.com/notebooks/data_table.ipynb>data table notebook</a>'\n",
              "            + ' to learn more about interactive tables.';\n",
              "          element.innerHTML = '';\n",
              "          dataTable['output_type'] = 'display_data';\n",
              "          await google.colab.output.renderOutput(dataTable, element);\n",
              "          const docLink = document.createElement('div');\n",
              "          docLink.innerHTML = docLinkHtml;\n",
              "          element.appendChild(docLink);\n",
              "        }\n",
              "      </script>\n",
              "    </div>\n",
              "  </div>\n",
              "  "
            ]
          },
          "metadata": {},
          "execution_count": 39
        }
      ]
    },
    {
      "cell_type": "code",
      "source": [
        "print(classes[y_predict[0]])"
      ],
      "metadata": {
        "colab": {
          "base_uri": "https://localhost:8080/"
        },
        "id": "t7XAj6g4cAoE",
        "outputId": "9c2ab053-6fdc-417f-b7e8-629015551616"
      },
      "execution_count": null,
      "outputs": [
        {
          "output_type": "stream",
          "name": "stdout",
          "text": [
            "TIDAK KRISIS\n"
          ]
        }
      ]
    }
  ]
}